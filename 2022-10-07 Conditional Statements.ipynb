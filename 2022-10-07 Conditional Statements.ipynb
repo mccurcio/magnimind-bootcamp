{
 "cells": [
  {
   "cell_type": "markdown",
   "id": "4a957155",
   "metadata": {
    "toc": true
   },
   "source": [
    "<h1>Table of Contents<span class=\"tocSkip\"></span></h1>\n",
    "<div class=\"toc\"><ul class=\"toc-item\"><li><span><a href=\"#Q1-Ask-the-user-to-enter-a-number-between-10-and-20-(inclusive).-If-they-enter-a-number-within-this-range,-display-the-message-“Thank-you”,-otherwise-display-the-message-“Incorrect-answer”.\" data-toc-modified-id=\"Q1-Ask-the-user-to-enter-a-number-between-10-and-20-(inclusive).-If-they-enter-a-number-within-this-range,-display-the-message-“Thank-you”,-otherwise-display-the-message-“Incorrect-answer”.-1\"><span class=\"toc-item-num\">1&nbsp;&nbsp;</span>Q1 Ask the user to enter a number between 10 and 20 (inclusive). If they enter a number within this range, display the message “Thank you”, otherwise display the message “Incorrect answer”.</a></span></li><li><span><a href=\"#Q2--In-this-exercise,-you-will-create-a-program-that-reads-a-letter-of-the-alphabet-from-the-user.\" data-toc-modified-id=\"Q2--In-this-exercise,-you-will-create-a-program-that-reads-a-letter-of-the-alphabet-from-the-user.-2\"><span class=\"toc-item-num\">2&nbsp;&nbsp;</span>Q2  In this exercise, you will create a program that reads a letter of the alphabet from the user.</a></span></li></ul></div>"
   ]
  },
  {
   "cell_type": "markdown",
   "id": "fb5d91fe",
   "metadata": {},
   "source": [
    "To:&nbsp;&nbsp;&nbsp;&nbsp; Magnimind\n",
    "\n",
    "From: Matt Curcio, matt.curcio.ri@gmail.com\n",
    "\n",
    "Date: 2022-10-07\n",
    "\n",
    "Re:&nbsp;&nbsp;&nbsp; Intro. to Python, Conditional Statements Assignment"
   ]
  },
  {
   "cell_type": "markdown",
   "id": "2db0c073",
   "metadata": {},
   "source": [
    "### Q1 Ask the user to enter a number between 10 and 20 (inclusive). If they enter a number within this range, display the message “Thank you”, otherwise display the message “Incorrect answer”."
   ]
  },
  {
   "cell_type": "code",
   "execution_count": 5,
   "id": "427e40a4",
   "metadata": {},
   "outputs": [
    {
     "name": "stdout",
     "output_type": "stream",
     "text": [
      "Please enter a number, (10 <= x <= 20): 9\n",
      "\n",
      "Incorrect answer\n"
     ]
    }
   ],
   "source": [
    "answer = int(input('Please enter a number, (10 <= x <= 20): '))\n",
    "if answer < 10 or answer > 20:\n",
    "    print(\"\\nIncorrect answer\")\n",
    "else:\n",
    "    print(\"\\nThank you\")"
   ]
  },
  {
   "cell_type": "markdown",
   "id": "ba5b2b6c",
   "metadata": {},
   "source": [
    "### Q2  In this exercise, you will create a program that reads a letter of the alphabet from the user. \n",
    "According to the answer:\n",
    "- If the user enters a, e, i, o, u, then your program should display a message indicating that the entered letter is a vowel.\n",
    "- If the user enters y, then your program should display a message indicating that y is sometimes a vowel and sometimes a consonant.\n",
    "- Otherwise, your program should display a message indicating that the letter is a consonant."
   ]
  },
  {
   "cell_type": "code",
   "execution_count": 23,
   "id": "8af0cbe0",
   "metadata": {},
   "outputs": [
    {
     "name": "stdout",
     "output_type": "stream",
     "text": [
      "Please enter a letter: W\n",
      "\n",
      "The odds of choosing a Consonant are ~77%\n"
     ]
    }
   ],
   "source": [
    "#vowels = set('a', 'e', 'i', 'o', 'u'\n",
    "guess = input('Please enter a letter: ')\n",
    "answer = guess.lower()\n",
    "#print(type(answer))\n",
    "#print(answer)\n",
    "if answer in ('a', 'e', 'i', 'o', 'u'):\n",
    "    print('\\nThank you, you entered a vowel.')\n",
    "elif answer == 'y':\n",
    "    print('\\nY is sometimes a vowel and sometimes a consonant')\n",
    "else:\n",
    "    print('\\nThe odds of choosing a Consonant are ~77%')"
   ]
  },
  {
   "cell_type": "code",
   "execution_count": null,
   "id": "6f2238d8",
   "metadata": {},
   "outputs": [],
   "source": []
  },
  {
   "cell_type": "code",
   "execution_count": null,
   "id": "3b500835",
   "metadata": {},
   "outputs": [],
   "source": []
  }
 ],
 "metadata": {
  "kernelspec": {
   "display_name": "Python 3 (ipykernel)",
   "language": "python",
   "name": "python3"
  },
  "language_info": {
   "codemirror_mode": {
    "name": "ipython",
    "version": 3
   },
   "file_extension": ".py",
   "mimetype": "text/x-python",
   "name": "python",
   "nbconvert_exporter": "python",
   "pygments_lexer": "ipython3",
   "version": "3.9.13"
  },
  "toc": {
   "base_numbering": 1,
   "nav_menu": {},
   "number_sections": true,
   "sideBar": true,
   "skip_h1_title": false,
   "title_cell": "Table of Contents",
   "title_sidebar": "Contents",
   "toc_cell": true,
   "toc_position": {},
   "toc_section_display": true,
   "toc_window_display": false
  }
 },
 "nbformat": 4,
 "nbformat_minor": 5
}
