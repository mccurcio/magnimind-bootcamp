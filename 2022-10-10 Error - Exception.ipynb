{
 "cells": [
  {
   "cell_type": "markdown",
   "id": "ffc453ab",
   "metadata": {
    "toc": true
   },
   "source": [
    "<h1>Table of Contents<span class=\"tocSkip\"></span></h1>\n",
    "<div class=\"toc\"><ul class=\"toc-item\"><li><span><a href=\"#Error---Exception-Assignment\" data-toc-modified-id=\"Error---Exception-Assignment-1\"><span class=\"toc-item-num\">1&nbsp;&nbsp;</span>Error - Exception Assignment</a></span><ul class=\"toc-item\"><li><span><a href=\"#Q1\" data-toc-modified-id=\"Q1-1.1\"><span class=\"toc-item-num\">1.1&nbsp;&nbsp;</span>Q1</a></span></li><li><span><a href=\"#Q2\" data-toc-modified-id=\"Q2-1.2\"><span class=\"toc-item-num\">1.2&nbsp;&nbsp;</span>Q2</a></span></li><li><span><a href=\"#Q3\" data-toc-modified-id=\"Q3-1.3\"><span class=\"toc-item-num\">1.3&nbsp;&nbsp;</span>Q3</a></span></li><li><span><a href=\"#Q4\" data-toc-modified-id=\"Q4-1.4\"><span class=\"toc-item-num\">1.4&nbsp;&nbsp;</span>Q4</a></span></li></ul></li></ul></div>"
   ]
  },
  {
   "cell_type": "markdown",
   "id": "3aa81a17",
   "metadata": {},
   "source": [
    "To:&nbsp;&nbsp;&nbsp;&nbsp; Magnimind\n",
    "\n",
    "From: Matt Curcio, matt.curcio.ri@gmail.com\n",
    "\n",
    "Date: 2022-10-01\n",
    "\n",
    "Re:&nbsp;&nbsp;&nbsp; Intro. to Python "
   ]
  },
  {
   "cell_type": "markdown",
   "id": "48692723",
   "metadata": {},
   "source": [
    "# Error - Exception Assignment\n",
    "\n",
    "## Q1 \n",
    "\n",
    "Let us define a division operation inside a function (using def) but to get an error, define the denominator as 0. So, type except statement properly."
   ]
  },
  {
   "cell_type": "code",
   "execution_count": 1,
   "id": "e67a1dfb",
   "metadata": {},
   "outputs": [
    {
     "ename": "ZeroDivisionError",
     "evalue": "division by zero",
     "output_type": "error",
     "traceback": [
      "\u001b[0;31m---------------------------------------------------------------------------\u001b[0m",
      "\u001b[0;31mZeroDivisionError\u001b[0m                         Traceback (most recent call last)",
      "\u001b[0;32m/tmp/ipykernel_52307/3037212337.py\u001b[0m in \u001b[0;36m<module>\u001b[0;34m\u001b[0m\n\u001b[1;32m      1\u001b[0m \u001b[0;31m# View error message\u001b[0m\u001b[0;34m\u001b[0m\u001b[0;34m\u001b[0m\u001b[0m\n\u001b[0;32m----> 2\u001b[0;31m \u001b[0;36m1\u001b[0m\u001b[0;34m/\u001b[0m\u001b[0;36m0\u001b[0m\u001b[0;34m\u001b[0m\u001b[0;34m\u001b[0m\u001b[0m\n\u001b[0m",
      "\u001b[0;31mZeroDivisionError\u001b[0m: division by zero"
     ]
    }
   ],
   "source": [
    "# View error message\n",
    "1/0"
   ]
  },
  {
   "cell_type": "code",
   "execution_count": 1,
   "id": "e3b00c80",
   "metadata": {},
   "outputs": [],
   "source": [
    "def divsion_operator(num):\n",
    "    try:\n",
    "        num/0\n",
    "    except ZeroDivisionError as e:\n",
    "        print(\"ZeroDivisionError: division by zero\") "
   ]
  },
  {
   "cell_type": "code",
   "execution_count": 4,
   "id": "a5d3fe40",
   "metadata": {},
   "outputs": [
    {
     "name": "stdout",
     "output_type": "stream",
     "text": [
      "ZeroDivisionError: division by zero\n"
     ]
    }
   ],
   "source": [
    "divsion_operator(10)"
   ]
  },
  {
   "cell_type": "markdown",
   "id": "53e1941b",
   "metadata": {},
   "source": [
    "## Q2  \n",
    "\n",
    "It is possible to get multiple errors after the execution of one try block. Please define an error-exception issue with NameError."
   ]
  },
  {
   "cell_type": "code",
   "execution_count": 5,
   "id": "fa76cc6a",
   "metadata": {},
   "outputs": [
    {
     "ename": "NameError",
     "evalue": "name 'x' is not defined",
     "output_type": "error",
     "traceback": [
      "\u001b[0;31m---------------------------------------------------------------------------\u001b[0m",
      "\u001b[0;31mNameError\u001b[0m                                 Traceback (most recent call last)",
      "\u001b[0;32m/tmp/ipykernel_3292/444815555.py\u001b[0m in \u001b[0;36m<module>\u001b[0;34m\u001b[0m\n\u001b[1;32m      1\u001b[0m \u001b[0;31m# Example test\u001b[0m\u001b[0;34m\u001b[0m\u001b[0;34m\u001b[0m\u001b[0m\n\u001b[1;32m      2\u001b[0m \u001b[0mx2\u001b[0m \u001b[0;34m=\u001b[0m \u001b[0;34m'string'\u001b[0m\u001b[0;34m\u001b[0m\u001b[0;34m\u001b[0m\u001b[0m\n\u001b[0;32m----> 3\u001b[0;31m \u001b[0mx\u001b[0m\u001b[0;34m/\u001b[0m\u001b[0;36m2\u001b[0m\u001b[0;34m\u001b[0m\u001b[0;34m\u001b[0m\u001b[0m\n\u001b[0m",
      "\u001b[0;31mNameError\u001b[0m: name 'x' is not defined"
     ]
    }
   ],
   "source": [
    "# Example test\n",
    "x2 = 'string'\n",
    "x/2"
   ]
  },
  {
   "cell_type": "code",
   "execution_count": 2,
   "id": "817b09fd",
   "metadata": {},
   "outputs": [
    {
     "name": "stdout",
     "output_type": "stream",
     "text": [
      "NameError occured; The num variable was not declared.\n"
     ]
    }
   ],
   "source": [
    "nums = 3\n",
    "\n",
    "try:\n",
    "  print(3 / num)\n",
    "except ZeroDivisionError as e:\n",
    "  print(\"ZeroDivisionError: division by zero\")\n",
    "except TypeError as e:\n",
    "  print('TypeError: unsupported operand type(s) for /: str and int')\n",
    "except:\n",
    "  print('NameError occured; The num variable was not declared.')\n",
    "finally:\n",
    "  pass\n",
    "    "
   ]
  },
  {
   "cell_type": "markdown",
   "id": "d4c509ab",
   "metadata": {},
   "source": [
    "## Q3 \n",
    "\n",
    "Please define a function and with this function, generate a ValueError exception simply by entering a string instead of numerical value.\n"
   ]
  },
  {
   "cell_type": "code",
   "execution_count": 7,
   "id": "7b6a4618",
   "metadata": {},
   "outputs": [
    {
     "name": "stdout",
     "output_type": "stream",
     "text": [
      "['__doc__', '__file__', '__loader__', '__name__', '__package__', '__spec__', 'acos', 'acosh', 'asin', 'asinh', 'atan', 'atan2', 'atanh', 'ceil', 'comb', 'copysign', 'cos', 'cosh', 'degrees', 'dist', 'e', 'erf', 'erfc', 'exp', 'expm1', 'fabs', 'factorial', 'floor', 'fmod', 'frexp', 'fsum', 'gamma', 'gcd', 'hypot', 'inf', 'isclose', 'isfinite', 'isinf', 'isnan', 'isqrt', 'lcm', 'ldexp', 'lgamma', 'log', 'log10', 'log1p', 'log2', 'modf', 'nan', 'nextafter', 'perm', 'pi', 'pow', 'prod', 'radians', 'remainder', 'sin', 'sinh', 'sqrt', 'tan', 'tanh', 'tau', 'trunc', 'ulp']\n"
     ]
    }
   ],
   "source": [
    "import math\n",
    "print(dir(math))"
   ]
  },
  {
   "cell_type": "code",
   "execution_count": 8,
   "id": "54ac656d",
   "metadata": {},
   "outputs": [],
   "source": [
    "import math\n",
    "\n",
    "def log_error():\n",
    "    try:\n",
    "        x = float(input('Input 0 to find its log: '))\n",
    "        big_numbers = math.log(x)\n",
    "    except ValueError:\n",
    "        print('\\nYou cannot take the log of a letter or string.')\n",
    "        print('\\nInputting strings gives a ValueError.')"
   ]
  },
  {
   "cell_type": "code",
   "execution_count": 9,
   "id": "db3fd915",
   "metadata": {},
   "outputs": [
    {
     "name": "stdout",
     "output_type": "stream",
     "text": [
      "Input 0 to find its log: 0\n",
      "\n",
      "You cannot take the log of a letter or string.\n",
      "\n",
      "Inputting strings gives a ValueError.\n"
     ]
    }
   ],
   "source": [
    "log_error()"
   ]
  },
  {
   "cell_type": "markdown",
   "id": "450fa318",
   "metadata": {},
   "source": [
    "## Q4 \n",
    "Write a function called circumference that takes the diameter of a circle as input and produces the circumference of the circle. Your function should use try...except to check for a type error in the event a string is passed."
   ]
  },
  {
   "cell_type": "code",
   "execution_count": 34,
   "id": "c02aa7fe",
   "metadata": {},
   "outputs": [],
   "source": [
    "def circle_error(diameter):\n",
    "    try:\n",
    "        print(\"diameter = \", diameter)\n",
    "        circumference = diameter * 3.1415\n",
    "    except TypeError as e:\n",
    "        print(type(e))\n",
    "        print('Please enter a number Not a string.')\n",
    "    else: \n",
    "        print('circumference = ', circumference)"
   ]
  },
  {
   "cell_type": "code",
   "execution_count": 35,
   "id": "3c2728cd",
   "metadata": {},
   "outputs": [
    {
     "name": "stdout",
     "output_type": "stream",
     "text": [
      "diameter =  3\n",
      "circumference =  9.4245\n"
     ]
    }
   ],
   "source": [
    "circle_error(3)"
   ]
  },
  {
   "cell_type": "code",
   "execution_count": 36,
   "id": "f064ce85",
   "metadata": {},
   "outputs": [
    {
     "name": "stdout",
     "output_type": "stream",
     "text": [
      "diameter =  s\n",
      "<class 'TypeError'>\n",
      "Please enter a number Not a string.\n"
     ]
    }
   ],
   "source": [
    "circle_error('s')"
   ]
  },
  {
   "cell_type": "code",
   "execution_count": null,
   "id": "d147315b",
   "metadata": {},
   "outputs": [],
   "source": []
  }
 ],
 "metadata": {
  "kernelspec": {
   "display_name": "Python 3 (ipykernel)",
   "language": "python",
   "name": "python3"
  },
  "language_info": {
   "codemirror_mode": {
    "name": "ipython",
    "version": 3
   },
   "file_extension": ".py",
   "mimetype": "text/x-python",
   "name": "python",
   "nbconvert_exporter": "python",
   "pygments_lexer": "ipython3",
   "version": "3.9.13"
  },
  "toc": {
   "base_numbering": 1,
   "nav_menu": {},
   "number_sections": true,
   "sideBar": true,
   "skip_h1_title": false,
   "title_cell": "Table of Contents",
   "title_sidebar": "Contents",
   "toc_cell": true,
   "toc_position": {
    "height": "calc(100% - 180px)",
    "left": "10px",
    "top": "150px",
    "width": "165px"
   },
   "toc_section_display": true,
   "toc_window_display": false
  },
  "varInspector": {
   "cols": {
    "lenName": 16,
    "lenType": 16,
    "lenVar": 40
   },
   "kernels_config": {
    "python": {
     "delete_cmd_postfix": "",
     "delete_cmd_prefix": "del ",
     "library": "var_list.py",
     "varRefreshCmd": "print(var_dic_list())"
    },
    "r": {
     "delete_cmd_postfix": ") ",
     "delete_cmd_prefix": "rm(",
     "library": "var_list.r",
     "varRefreshCmd": "cat(var_dic_list()) "
    }
   },
   "types_to_exclude": [
    "module",
    "function",
    "builtin_function_or_method",
    "instance",
    "_Feature"
   ],
   "window_display": false
  }
 },
 "nbformat": 4,
 "nbformat_minor": 5
}
