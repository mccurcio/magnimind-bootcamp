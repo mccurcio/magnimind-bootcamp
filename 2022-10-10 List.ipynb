{
 "cells": [
  {
   "cell_type": "markdown",
   "id": "886c6870",
   "metadata": {
    "toc": true
   },
   "source": [
    "<h1>Table of Contents<span class=\"tocSkip\"></span></h1>\n",
    "<div class=\"toc\"><ul class=\"toc-item\"><li><span><a href=\"#List-Assignment\" data-toc-modified-id=\"List-Assignment-1\"><span class=\"toc-item-num\">1&nbsp;&nbsp;</span>List Assignment</a></span><ul class=\"toc-item\"><li><span><a href=\"#Question-#1\" data-toc-modified-id=\"Question-#1-1.1\"><span class=\"toc-item-num\">1.1&nbsp;&nbsp;</span>Question #1</a></span></li><li><span><a href=\"#Question-#2\" data-toc-modified-id=\"Question-#2-1.2\"><span class=\"toc-item-num\">1.2&nbsp;&nbsp;</span>Question #2</a></span></li><li><span><a href=\"#Question-#3\" data-toc-modified-id=\"Question-#3-1.3\"><span class=\"toc-item-num\">1.3&nbsp;&nbsp;</span>Question #3</a></span></li></ul></li></ul></div>"
   ]
  },
  {
   "cell_type": "markdown",
   "id": "65458a43",
   "metadata": {},
   "source": [
    "To:&nbsp;&nbsp;&nbsp;&nbsp; Magnimind\n",
    "\n",
    "From: Matt Curcio, matt.curcio.ri@gmail.com\n",
    "\n",
    "Date: 2022-10-01\n",
    "\n",
    "Re:&nbsp;&nbsp;&nbsp; Intro. to Python, List assignment"
   ]
  },
  {
   "cell_type": "markdown",
   "id": "5e204e68",
   "metadata": {},
   "source": [
    "## List Assignment\n",
    "\n",
    "### Question #1\n",
    "- Write a code to compute the sum of the two lowest numbers and the two highest numbers in the following list."
   ]
  },
  {
   "cell_type": "code",
   "execution_count": 68,
   "id": "324aa671",
   "metadata": {},
   "outputs": [
    {
     "name": "stdout",
     "output_type": "stream",
     "text": [
      "[2, 12, 34, 37, 45, 54, 56, 66, 67, 76, 98]\n",
      "\n",
      "The Smallest 2 Numbers: 2 + 12  = 14\n",
      "\n",
      "The Largest 2 Numbers: 76 + 98 = 174\n"
     ]
    }
   ],
   "source": [
    "score_list = [34, 56, 76, 45, 2, 12, 67, 98, 37, 54, 66]\n",
    "\n",
    "\n",
    "def add_2hi_add_2lo(lst):\n",
    "    \"\"\"Function finds the sum of the 2 lowest values and\n",
    "    the sum of the highest values then returns those values\"\"\"\n",
    "    a = sorted(lst)\n",
    "    print(a)\n",
    "    print(f'\\nThe Smallest 2 Numbers: {a[0]} + {a[1]}  = {a[0]+a[1]}')\n",
    "    print(f'\\nThe Largest 2 Numbers: {a[-2]} + {a[-1]} = {a[-2]+a[-1]}')\n",
    "    \n",
    "    \n",
    "add_2hi_add_2lo(score_list)"
   ]
  },
  {
   "cell_type": "markdown",
   "id": "9b23234b",
   "metadata": {},
   "source": [
    " ### Question #2\n",
    " \n",
    " - The following two lists contain student names and scores. \n",
    " - Write a code that gets the name from the user and prints the score of that student."
   ]
  },
  {
   "cell_type": "code",
   "execution_count": 69,
   "id": "8888e4b8",
   "metadata": {},
   "outputs": [
    {
     "name": "stdout",
     "output_type": "stream",
     "text": [
      "Student list: ['David', 'Michael', 'John', 'James', 'Greg', 'Mark', 'William', 'Richard', 'Thomas', 'Steven', 'Mary', 'Susan', 'Maria', 'Karen', 'Lisa', 'Linda', 'Donna', 'Patricia', 'Debra', 'Eric']\n",
      "\n",
      "Please choose a student:Maria\n",
      "\n",
      "Maria: Grade = 79\n"
     ]
    }
   ],
   "source": [
    "def student_score():\n",
    "    \"\"\"Function takes a name and score list and \n",
    "    returns the score of that student.\"\"\"\n",
    "    names = ['David', 'Michael', 'John', 'James', 'Greg',\n",
    "             'Mark', 'William', 'Richard', 'Thomas', 'Steven',\n",
    "             'Mary', 'Susan', 'Maria', 'Karen', 'Lisa',\n",
    "             'Linda', 'Donna', 'Patricia', 'Debra', 'Eric']\n",
    "    print(f'Student list: {names}')\n",
    "    score = [99, 87, 78, 86, 68, \n",
    "             94, 76, 97, 56, 98, \n",
    "             76, 87, 79, 90, 73, \n",
    "             93, 82, 69, 97, 98]\n",
    "    name_score = dict(zip(names, score))\n",
    "    req_name = input('\\nPlease choose a student:')\n",
    "    print(f'\\n{req_name}: Grade = {name_score.get(req_name)}')\n",
    "   \n",
    " \n",
    "student_score()"
   ]
  },
  {
   "cell_type": "markdown",
   "id": "6f1b8212",
   "metadata": {},
   "source": [
    "### Question #3\n",
    "- By using the two lists above, what is the maximum score and how many students got that score?"
   ]
  },
  {
   "cell_type": "code",
   "execution_count": 65,
   "id": "2a4826d0",
   "metadata": {},
   "outputs": [
    {
     "name": "stdout",
     "output_type": "stream",
     "text": [
      "\n",
      "The Highest Repeating Value = 98, Count = 2.\n",
      "The End\n"
     ]
    }
   ],
   "source": [
    "score = [99,87,78,86,68,94,76,97,56,98,76,87,79,90,73,93,82,69,97,98]\n",
    "\n",
    "def max_repeating_score(lst):\n",
    "    \"\"\"Function takes list and returns the highest \n",
    "    number that repeats. Input must be a list\"\"\"\n",
    "    lst.sort()\n",
    "    for i in range(len(lst)-1, 0, -1):\n",
    "        if score.count(lst[i]) > 1:\n",
    "            print(f'\\nThe Highest Repeating Value = {lst[i]}, Count = {lst.count(lst[i])}.')\n",
    "            break\n",
    "            \n",
    "            \n",
    "max_repeating_score(score)"
   ]
  }
 ],
 "metadata": {
  "kernelspec": {
   "display_name": "Python 3 (ipykernel)",
   "language": "python",
   "name": "python3"
  },
  "language_info": {
   "codemirror_mode": {
    "name": "ipython",
    "version": 3
   },
   "file_extension": ".py",
   "mimetype": "text/x-python",
   "name": "python",
   "nbconvert_exporter": "python",
   "pygments_lexer": "ipython3",
   "version": "3.9.13"
  },
  "toc": {
   "base_numbering": 1,
   "nav_menu": {},
   "number_sections": true,
   "sideBar": true,
   "skip_h1_title": false,
   "title_cell": "Table of Contents",
   "title_sidebar": "Contents",
   "toc_cell": true,
   "toc_position": {},
   "toc_section_display": true,
   "toc_window_display": false
  }
 },
 "nbformat": 4,
 "nbformat_minor": 5
}
