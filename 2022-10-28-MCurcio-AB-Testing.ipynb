{
 "cells": [
  {
   "cell_type": "markdown",
   "id": "f469c340",
   "metadata": {
    "toc": true
   },
   "source": [
    "<h1>Table of Contents<span class=\"tocSkip\"></span></h1>\n",
    "<div class=\"toc\"><ul class=\"toc-item\"><li><span><a href=\"#EDA-&amp;-A/B-Testing-Analysis\" data-toc-modified-id=\"EDA-&amp;-A/B-Testing-Analysis-1\"><span class=\"toc-item-num\">1&nbsp;&nbsp;</span>EDA &amp; A/B Testing Analysis</a></span><ul class=\"toc-item\"><li><span><a href=\"#Executive-Summary\" data-toc-modified-id=\"Executive-Summary-1.1\"><span class=\"toc-item-num\">1.1&nbsp;&nbsp;</span>Executive Summary</a></span></li><li><span><a href=\"#Initial-Data-Analysis\" data-toc-modified-id=\"Initial-Data-Analysis-1.2\"><span class=\"toc-item-num\">1.2&nbsp;&nbsp;</span>Initial Data Analysis</a></span></li><li><span><a href=\"#Exploratory-Data-Analysis\" data-toc-modified-id=\"Exploratory-Data-Analysis-1.3\"><span class=\"toc-item-num\">1.3&nbsp;&nbsp;</span>Exploratory Data Analysis</a></span><ul class=\"toc-item\"><li><span><a href=\"#Dates-Plot\" data-toc-modified-id=\"Dates-Plot-1.3.1\"><span class=\"toc-item-num\">1.3.1&nbsp;&nbsp;</span>Dates Plot</a></span></li><li><span><a href=\"#Hour-Histogram\" data-toc-modified-id=\"Hour-Histogram-1.3.2\"><span class=\"toc-item-num\">1.3.2&nbsp;&nbsp;</span>Hour Histogram</a></span></li><li><span><a href=\"#Browser-Word-Cloud\" data-toc-modified-id=\"Browser-Word-Cloud-1.3.3\"><span class=\"toc-item-num\">1.3.3&nbsp;&nbsp;</span>Browser Word Cloud</a></span></li><li><span><a href=\"#Device-Make-Word-Cloud\" data-toc-modified-id=\"Device-Make-Word-Cloud-1.3.4\"><span class=\"toc-item-num\">1.3.4&nbsp;&nbsp;</span>Device Make Word Cloud</a></span></li></ul></li><li><span><a href=\"#Statistical-Tests-&amp;-Analysis\" data-toc-modified-id=\"Statistical-Tests-&amp;-Analysis-1.4\"><span class=\"toc-item-num\">1.4&nbsp;&nbsp;</span>Statistical Tests &amp; Analysis</a></span><ul class=\"toc-item\"><li><span><a href=\"#Fisher's-Exact-Test\" data-toc-modified-id=\"Fisher's-Exact-Test-1.4.1\"><span class=\"toc-item-num\">1.4.1&nbsp;&nbsp;</span>Fisher's Exact Test</a></span></li><li><span><a href=\"#Phi-Coefficient-of-Association\" data-toc-modified-id=\"Phi-Coefficient-of-Association-1.4.2\"><span class=\"toc-item-num\">1.4.2&nbsp;&nbsp;</span>Phi Coefficient of Association</a></span></li><li><span><a href=\"#Ratios-of-Respondents-to-total-&amp;-Exposed-to-Control\" data-toc-modified-id=\"Ratios-of-Respondents-to-total-&amp;-Exposed-to-Control-1.4.3\"><span class=\"toc-item-num\">1.4.3&nbsp;&nbsp;</span>Ratios of Respondents to total &amp; Exposed to Control</a></span></li></ul></li><li><span><a href=\"#Conclusion(s)\" data-toc-modified-id=\"Conclusion(s)-1.5\"><span class=\"toc-item-num\">1.5&nbsp;&nbsp;</span>Conclusion(s)</a></span></li></ul></li></ul></div>"
   ]
  },
  {
   "cell_type": "markdown",
   "id": "92ad10b7",
   "metadata": {},
   "source": [
    "# EDA & A/B Testing Analysis\n",
    "\n",
    "To:&nbsp;&nbsp;&nbsp;&nbsp; Magnimind\n",
    "\n",
    "From: Matt Curcio, matt.curcio.ri@gmail.com\n",
    "\n",
    "Date: 2022-10-30\n",
    "\n",
    "Re:&nbsp;&nbsp;&nbsp; Ad AB Testing\n",
    "\n",
    "\n",
    "\n",
    "## Executive Summary\n",
    "\n",
    ">*Note: This report describes work for the mythical company, catsVSdogs.com.*\n",
    "\n",
    "1. This A/B Test was carried out between July 3-10, 2020, Friday to Friday with 1243 participants.\n",
    "\n",
    "| Ratio Data | Proportion |\n",
    "|:------|-----------:|\n",
    "| Participants vs Total Impressions Ratio | 1243 / 8077 = 15.4% |\n",
    "| Control: Conversion-Ratio using Cat icon | 322 / 586 = 54.9% |\n",
    "| Exposed: Conversion-Ratio using Dog icon | 349 / 657 = 53.1% |\n",
    "\n",
    "2. Market research showed that using animal icons on the purchase page of www.catsVSdogs.com might promote a higher conversion rate, i.e. better sales. The cat and the dog icons were chosen for AB testing.\n",
    "\n",
    "| ![small-cat](small-cat.jpeg) | ![small-dog](small-dog.jpeg) |\n",
    "|:-------:|:-------:|\n",
    "| Control | Exposed |\n",
    "\n",
    "<b><center>Order Icon: Cat vs. Dog</center></b>\n",
    "\n",
    "\n",
    "3. Exploratory data analysis found two potential problems. \n",
    "\n",
    "\n",
    "4. Instead of using the more common z-test, I chose to use [Fisher's Exact Test](https://en.wikipedia.org/wiki/Fisher%27s_exact_test) and the [Phi-Coefficient test](https://en.wikipedia.org/wiki/Phi_coefficient). \n",
    "\n",
    "\n",
    "**Conclusions**\n",
    "\n",
    "\n",
    "1. **No changes to www.catsVSdogs.com should be made at this time.**\n",
    "\n",
    "\n",
    "2. The 247% greater traffic on 7/3/2020 versus 7/10/2020, as shown on the [Date Plot](#date-plot), may need further investigation.\n",
    "\n",
    "\n",
    "3. The 564% greater traffic on hr=15:00 versus the mean=336, as shown on the [Hour Histogram](#Hour-Histogram), may need further investigation.\n",
    "\n",
    "\n",
    "4. [Fisher's Exact Test](#Fisher's-Exact-Test) (P-value = 0.531) suggests there is no association between the two icons and any change of conversion rates.\n",
    "\n",
    "\n",
    "5. [Phi Coefficient](#Phi-Coefficient-of-Association) ($\\Phi = -0.0183$) states there is no relationship between the two icons and any change of conversion rates.\n",
    "\n",
    "---\n",
    "\n",
    "##  Initial Data Analysis\n",
    "\n",
    "- Data can be found at: [ad-ab-testing](https://www.kaggle.com/datasets/osuolaleemmanuel/ad-ab-testing)."
   ]
  },
  {
   "cell_type": "code",
   "execution_count": 1,
   "id": "e0cbdb09",
   "metadata": {},
   "outputs": [
    {
     "name": "stdout",
     "output_type": "stream",
     "text": [
      "Zip file corrupt\n"
     ]
    }
   ],
   "source": [
    "import zipfile\n",
    "import numpy as np\n",
    "import pandas as pd\n",
    "import matplotlib.pyplot as plt\n",
    "from wordcloud import WordCloud\n",
    "from scipy.stats import norm\n",
    "import scipy.stats as stats\n",
    "%matplotlib inline\n",
    "\n",
    "\n",
    "zip_file = \"archive.zip\"\n",
    "\n",
    "try:\n",
    "    with zipfile.ZipFile(zip_file) as z:\n",
    "        z.extractall()\n",
    "        print(\"Extracted all\")\n",
    "except:\n",
    "    print(\"Zip file corrupt\")"
   ]
  },
  {
   "cell_type": "code",
   "execution_count": 2,
   "id": "8ec21916",
   "metadata": {},
   "outputs": [
    {
     "name": "stdout",
     "output_type": "stream",
     "text": [
      " 2022-10-28-MCurcio-AB-Testing.ipynb   notes\t        small-dog.jpeg\r\n",
      "'AdSmartABdata - AdSmartABdata.csv'    small-cat.jpeg\r\n"
     ]
    }
   ],
   "source": [
    "!ls"
   ]
  },
  {
   "cell_type": "code",
   "execution_count": 3,
   "id": "e44b95b7",
   "metadata": {},
   "outputs": [
    {
     "name": "stdout",
     "output_type": "stream",
     "text": [
      "\n",
      "Dataframe dimensions:  8077 Observations & 9 features\n"
     ]
    },
    {
     "data": {
      "text/html": [
       "<div>\n",
       "<style scoped>\n",
       "    .dataframe tbody tr th:only-of-type {\n",
       "        vertical-align: middle;\n",
       "    }\n",
       "\n",
       "    .dataframe tbody tr th {\n",
       "        vertical-align: top;\n",
       "    }\n",
       "\n",
       "    .dataframe thead th {\n",
       "        text-align: right;\n",
       "    }\n",
       "</style>\n",
       "<table border=\"1\" class=\"dataframe\">\n",
       "  <thead>\n",
       "    <tr style=\"text-align: right;\">\n",
       "      <th></th>\n",
       "      <th>auction_id</th>\n",
       "      <th>experiment</th>\n",
       "      <th>date</th>\n",
       "      <th>hour</th>\n",
       "      <th>device_make</th>\n",
       "      <th>platform_os</th>\n",
       "      <th>browser</th>\n",
       "      <th>yes</th>\n",
       "      <th>no</th>\n",
       "    </tr>\n",
       "  </thead>\n",
       "  <tbody>\n",
       "    <tr>\n",
       "      <th>0</th>\n",
       "      <td>0008ef63-77a7-448b-bd1e-075f42c55e39</td>\n",
       "      <td>exposed</td>\n",
       "      <td>2020-07-10</td>\n",
       "      <td>8</td>\n",
       "      <td>Generic Smartphone</td>\n",
       "      <td>6</td>\n",
       "      <td>Chrome Mobile</td>\n",
       "      <td>0</td>\n",
       "      <td>0</td>\n",
       "    </tr>\n",
       "    <tr>\n",
       "      <th>1</th>\n",
       "      <td>000eabc5-17ce-4137-8efe-44734d914446</td>\n",
       "      <td>exposed</td>\n",
       "      <td>2020-07-07</td>\n",
       "      <td>10</td>\n",
       "      <td>Generic Smartphone</td>\n",
       "      <td>6</td>\n",
       "      <td>Chrome Mobile</td>\n",
       "      <td>0</td>\n",
       "      <td>0</td>\n",
       "    </tr>\n",
       "    <tr>\n",
       "      <th>2</th>\n",
       "      <td>0016d14a-ae18-4a02-a204-6ba53b52f2ed</td>\n",
       "      <td>exposed</td>\n",
       "      <td>2020-07-05</td>\n",
       "      <td>2</td>\n",
       "      <td>E5823</td>\n",
       "      <td>6</td>\n",
       "      <td>Chrome Mobile WebView</td>\n",
       "      <td>0</td>\n",
       "      <td>1</td>\n",
       "    </tr>\n",
       "    <tr>\n",
       "      <th>3</th>\n",
       "      <td>00187412-2932-4542-a8ef-3633901c98d9</td>\n",
       "      <td>control</td>\n",
       "      <td>2020-07-03</td>\n",
       "      <td>15</td>\n",
       "      <td>Samsung SM-A705FN</td>\n",
       "      <td>6</td>\n",
       "      <td>Facebook</td>\n",
       "      <td>0</td>\n",
       "      <td>0</td>\n",
       "    </tr>\n",
       "    <tr>\n",
       "      <th>4</th>\n",
       "      <td>001a7785-d3fe-4e11-a344-c8735acacc2c</td>\n",
       "      <td>control</td>\n",
       "      <td>2020-07-03</td>\n",
       "      <td>15</td>\n",
       "      <td>Generic Smartphone</td>\n",
       "      <td>6</td>\n",
       "      <td>Chrome Mobile</td>\n",
       "      <td>0</td>\n",
       "      <td>0</td>\n",
       "    </tr>\n",
       "  </tbody>\n",
       "</table>\n",
       "</div>"
      ],
      "text/plain": [
       "                             auction_id experiment        date  hour  \\\n",
       "0  0008ef63-77a7-448b-bd1e-075f42c55e39    exposed  2020-07-10     8   \n",
       "1  000eabc5-17ce-4137-8efe-44734d914446    exposed  2020-07-07    10   \n",
       "2  0016d14a-ae18-4a02-a204-6ba53b52f2ed    exposed  2020-07-05     2   \n",
       "3  00187412-2932-4542-a8ef-3633901c98d9    control  2020-07-03    15   \n",
       "4  001a7785-d3fe-4e11-a344-c8735acacc2c    control  2020-07-03    15   \n",
       "\n",
       "          device_make  platform_os                browser  yes  no  \n",
       "0  Generic Smartphone            6          Chrome Mobile    0   0  \n",
       "1  Generic Smartphone            6          Chrome Mobile    0   0  \n",
       "2               E5823            6  Chrome Mobile WebView    0   1  \n",
       "3   Samsung SM-A705FN            6               Facebook    0   0  \n",
       "4  Generic Smartphone            6          Chrome Mobile    0   0  "
      ]
     },
     "execution_count": 3,
     "metadata": {},
     "output_type": "execute_result"
    }
   ],
   "source": [
    "filename = \"AdSmartABdata - AdSmartABdata.csv\"\n",
    "df = pd.read_csv(filename)\n",
    "\n",
    "print('\\nDataframe dimensions: ',\n",
    "      df.shape[0], 'Observations &', df.shape[1], 'features')\n",
    "\n",
    "df.head(5)"
   ]
  },
  {
   "cell_type": "code",
   "execution_count": 4,
   "id": "ad09942d",
   "metadata": {},
   "outputs": [
    {
     "data": {
      "text/plain": [
       "auction_id     0\n",
       "experiment     0\n",
       "date           0\n",
       "hour           0\n",
       "device_make    0\n",
       "platform_os    0\n",
       "browser        0\n",
       "yes            0\n",
       "no             0\n",
       "dtype: int64"
      ]
     },
     "execution_count": 4,
     "metadata": {},
     "output_type": "execute_result"
    }
   ],
   "source": [
    "# Check for NULLS: NO NULLS FOUND\n",
    "df.isnull().sum()"
   ]
  },
  {
   "cell_type": "code",
   "execution_count": 5,
   "id": "bf638f13",
   "metadata": {},
   "outputs": [
    {
     "data": {
      "text/plain": [
       "auction_id     0\n",
       "experiment     0\n",
       "date           0\n",
       "hour           0\n",
       "device_make    0\n",
       "platform_os    0\n",
       "browser        0\n",
       "yes            0\n",
       "no             0\n",
       "dtype: int64"
      ]
     },
     "execution_count": 5,
     "metadata": {},
     "output_type": "execute_result"
    }
   ],
   "source": [
    "# Check for NAS: NO NAS FOUND\n",
    "df.isna().sum()"
   ]
  },
  {
   "cell_type": "code",
   "execution_count": 6,
   "id": "80656083",
   "metadata": {},
   "outputs": [
    {
     "name": "stdout",
     "output_type": "stream",
     "text": [
      "<class 'pandas.core.frame.DataFrame'>\n",
      "RangeIndex: 8077 entries, 0 to 8076\n",
      "Data columns (total 7 columns):\n",
      " #   Column       Non-Null Count  Dtype \n",
      "---  ------       --------------  ----- \n",
      " 0   experiment   8077 non-null   object\n",
      " 1   date         8077 non-null   object\n",
      " 2   hour         8077 non-null   int64 \n",
      " 3   device_make  8077 non-null   object\n",
      " 4   browser      8077 non-null   object\n",
      " 5   yes          8077 non-null   int64 \n",
      " 6   no           8077 non-null   int64 \n",
      "dtypes: int64(3), object(4)\n",
      "memory usage: 441.8+ KB\n"
     ]
    }
   ],
   "source": [
    "# .info() provides dataframe size, No. of observations, \n",
    "# column names, data type and Non-null count\n",
    "\n",
    "df_mod = df.drop(df.columns[[0, 5]], axis=1, inplace=False)\n",
    "df_mod.info() # df_modified"
   ]
  },
  {
   "cell_type": "code",
   "execution_count": 7,
   "id": "3d5087d8",
   "metadata": {},
   "outputs": [
    {
     "data": {
      "text/html": [
       "<div>\n",
       "<style scoped>\n",
       "    .dataframe tbody tr th:only-of-type {\n",
       "        vertical-align: middle;\n",
       "    }\n",
       "\n",
       "    .dataframe tbody tr th {\n",
       "        vertical-align: top;\n",
       "    }\n",
       "\n",
       "    .dataframe thead th {\n",
       "        text-align: right;\n",
       "    }\n",
       "</style>\n",
       "<table border=\"1\" class=\"dataframe\">\n",
       "  <thead>\n",
       "    <tr style=\"text-align: right;\">\n",
       "      <th></th>\n",
       "      <th>experiment</th>\n",
       "      <th>date</th>\n",
       "      <th>hour</th>\n",
       "      <th>device_make</th>\n",
       "      <th>browser</th>\n",
       "      <th>yes</th>\n",
       "      <th>no</th>\n",
       "    </tr>\n",
       "  </thead>\n",
       "  <tbody>\n",
       "    <tr>\n",
       "      <th>0</th>\n",
       "      <td>exposed</td>\n",
       "      <td>2020-07-10</td>\n",
       "      <td>8</td>\n",
       "      <td>Generic Smartphone</td>\n",
       "      <td>Chrome Mobile</td>\n",
       "      <td>0</td>\n",
       "      <td>0</td>\n",
       "    </tr>\n",
       "    <tr>\n",
       "      <th>1</th>\n",
       "      <td>exposed</td>\n",
       "      <td>2020-07-07</td>\n",
       "      <td>10</td>\n",
       "      <td>Generic Smartphone</td>\n",
       "      <td>Chrome Mobile</td>\n",
       "      <td>0</td>\n",
       "      <td>0</td>\n",
       "    </tr>\n",
       "    <tr>\n",
       "      <th>2</th>\n",
       "      <td>exposed</td>\n",
       "      <td>2020-07-05</td>\n",
       "      <td>2</td>\n",
       "      <td>E5823</td>\n",
       "      <td>Chrome Mobile WebView</td>\n",
       "      <td>0</td>\n",
       "      <td>1</td>\n",
       "    </tr>\n",
       "    <tr>\n",
       "      <th>3</th>\n",
       "      <td>control</td>\n",
       "      <td>2020-07-03</td>\n",
       "      <td>15</td>\n",
       "      <td>Samsung SM-A705FN</td>\n",
       "      <td>Facebook</td>\n",
       "      <td>0</td>\n",
       "      <td>0</td>\n",
       "    </tr>\n",
       "    <tr>\n",
       "      <th>4</th>\n",
       "      <td>control</td>\n",
       "      <td>2020-07-03</td>\n",
       "      <td>15</td>\n",
       "      <td>Generic Smartphone</td>\n",
       "      <td>Chrome Mobile</td>\n",
       "      <td>0</td>\n",
       "      <td>0</td>\n",
       "    </tr>\n",
       "  </tbody>\n",
       "</table>\n",
       "</div>"
      ],
      "text/plain": [
       "  experiment        date  hour         device_make                browser  \\\n",
       "0    exposed  2020-07-10     8  Generic Smartphone          Chrome Mobile   \n",
       "1    exposed  2020-07-07    10  Generic Smartphone          Chrome Mobile   \n",
       "2    exposed  2020-07-05     2               E5823  Chrome Mobile WebView   \n",
       "3    control  2020-07-03    15   Samsung SM-A705FN               Facebook   \n",
       "4    control  2020-07-03    15  Generic Smartphone          Chrome Mobile   \n",
       "\n",
       "   yes  no  \n",
       "0    0   0  \n",
       "1    0   0  \n",
       "2    0   1  \n",
       "3    0   0  \n",
       "4    0   0  "
      ]
     },
     "execution_count": 7,
     "metadata": {},
     "output_type": "execute_result"
    }
   ],
   "source": [
    "df_mod.head(5)"
   ]
  },
  {
   "cell_type": "markdown",
   "id": "887d4e44",
   "metadata": {},
   "source": [
    "**Note 1**\n",
    "\n",
    "- Data did not contain any missing values, therefore all 8077 observations were kept.\n",
    "\n",
    "- The `archive.zip` file has NO descriptive information on the columns `auction_id` and `platform_os` columns. These variable will not be used in this analysis.\n",
    "\n",
    "---\n"
   ]
  },
  {
   "cell_type": "markdown",
   "id": "de9428c0",
   "metadata": {},
   "source": [
    "## Exploratory Data Analysis\n",
    "\n",
    "### Dates Plot"
   ]
  },
  {
   "cell_type": "code",
   "execution_count": 8,
   "id": "feec7d2f",
   "metadata": {},
   "outputs": [
    {
     "name": "stdout",
     "output_type": "stream",
     "text": [
      "date\n",
      "2020-07-03    2015\n",
      "2020-07-04     903\n",
      "2020-07-05     890\n",
      "2020-07-06     490\n",
      "2020-07-07     480\n",
      "2020-07-08    1198\n",
      "2020-07-09    1208\n",
      "2020-07-10     893\n",
      "Name: date, dtype: int64\n"
     ]
    },
    {
     "data": {
      "text/plain": [
       "pandas.core.series.Series"
      ]
     },
     "execution_count": 8,
     "metadata": {},
     "output_type": "execute_result"
    }
   ],
   "source": [
    "# Experiment Dates\n",
    "# Group by date\n",
    "df_dates = df_mod.groupby('date')['date'].count()\n",
    "print(df_dates)\n",
    "type(df_dates)"
   ]
  },
  {
   "cell_type": "markdown",
   "id": "a392b062",
   "metadata": {},
   "source": [
    "**Note 2**\n",
    "\n",
    "- The experiment was run between `July 3-10, 2020, (Friday to Friday)`"
   ]
  },
  {
   "cell_type": "code",
   "execution_count": 9,
   "id": "10c587aa",
   "metadata": {},
   "outputs": [
    {
     "data": {
      "image/png": "[encoded data removed]",
      "text/plain": [
       "<Figure size 640x480 with 1 Axes>"
      ]
     },
     "metadata": {},
     "output_type": "display_data"
    }
   ],
   "source": [
    "# Barplot of dates\n",
    "\n",
    "df_date = {'Date': ['2020-07-03', '2020-07-04', '2020-07-05', '2020-07-06', '2020-07-07', '2020-07-08', '2020-07-09', '2020-07-10'],\n",
    "           'Counts': [2015, 903, 890, 490, 480, 1198, 1208, 893]}\n",
    "\n",
    "plt.bar(df_date['Date'], df_date['Counts'], color='green', edgecolor='black')\n",
    "plt.xticks(rotation=45)\n",
    "plt.title('Counts Per Day Of Testing', fontsize=18)\n",
    "plt.ylabel('Count', fontsize=18)\n",
    "plt.xlabel('Day', fontsize=18)\n",
    "plt.text(-0.7, 2040, \"2015, Friday\")\n",
    "plt.text(6.7, 950, \" 893\\nFriday\")\n",
    "plt.show()"
   ]
  },
  {
   "cell_type": "markdown",
   "id": "aec3254f",
   "metadata": {},
   "source": [
    "**Note 3**\n",
    "\n",
    "- Friday, July 3rd, 2020 traffic = 2015 impressions\n",
    "- Friday, July 10th, 2020 traffic = 815 impressions.\n",
    "- The 247% greater traffic on 7/3 versus 7/10 may need to be further investigated."
   ]
  },
  {
   "cell_type": "markdown",
   "id": "e03f5206",
   "metadata": {},
   "source": [
    "---\n",
    "\n",
    "### Hour Histogram"
   ]
  },
  {
   "cell_type": "code",
   "execution_count": 10,
   "id": "e9a9ca93",
   "metadata": {},
   "outputs": [
    {
     "name": "stdout",
     "output_type": "stream",
     "text": [
      "hour\n",
      "0      194\n",
      "1      222\n",
      "2      230\n",
      "3      266\n",
      "4      281\n",
      "5      302\n",
      "6      327\n",
      "7      381\n",
      "8      394\n",
      "9      346\n",
      "10     336\n",
      "11     282\n",
      "12     278\n",
      "13     290\n",
      "14     319\n",
      "15    1895\n",
      "16     335\n",
      "17     263\n",
      "18     273\n",
      "19     227\n",
      "20     264\n",
      "21     206\n",
      "22     135\n",
      "23      31\n",
      "Name: hour, dtype: int64\n",
      "\n",
      "Mean over 24 hours = 336.5416666666667\n"
     ]
    }
   ],
   "source": [
    "# Experiment Hour\n",
    "# Group by Hour\n",
    "df_hour = df_mod.groupby('hour')['hour'].count()\n",
    "print(df_hour)\n",
    "type(df_hour)\n",
    "print('\\nMean over 24 hours =', df_hour.mean())"
   ]
  },
  {
   "cell_type": "code",
   "execution_count": 11,
   "id": "d5ba79a3",
   "metadata": {},
   "outputs": [
    {
     "data": {
      "text/plain": [
       "Text(0, 0.07, 'Mean = 336 Impressions / hr')"
      ]
     },
     "execution_count": 11,
     "metadata": {},
     "output_type": "execute_result"
    },
    {
     "data": {
      "image/png": "[encoded data removed]",
      "text/plain": [
       "<Figure size 640x480 with 1 Axes>"
      ]
     },
     "metadata": {},
     "output_type": "display_data"
    }
   ],
   "source": [
    "# Histogram of Hours Vs Counts\n",
    "df_hour = df_mod['hour']\n",
    "df_hour.plot(kind='hist', color='green',\n",
    "             density=True, edgecolor='black', bins=24)\n",
    "plt.title('Counts Per Hour Of Testing', fontsize=18)\n",
    "plt.xlabel('Hour', fontsize=18)\n",
    "plt.ylabel('Proportion', fontsize=18)\n",
    "plt.text(9, 0.23, \"1895 @ 15:00\")\n",
    "plt.text(0, 0.07, \"Mean = 336 Impressions / hr\")"
   ]
  },
  {
   "cell_type": "markdown",
   "id": "19fb7c58",
   "metadata": {},
   "source": [
    "**Note 4**\n",
    "\n",
    "- 1895 impressions were collected at hour 15.\n",
    "- The mean of 24 hours is 336 impressions.\n",
    "- The **564%** greater traffic on **hr=1500** versus the **mean=336** may need to be further investigated."
   ]
  },
  {
   "cell_type": "markdown",
   "id": "32d50b11",
   "metadata": {},
   "source": [
    "---\n",
    "\n",
    "### Browser Word Cloud"
   ]
  },
  {
   "cell_type": "code",
   "execution_count": 12,
   "id": "85678042",
   "metadata": {},
   "outputs": [
    {
     "data": {
      "image/png": "[encoded data removed]",
      "text/plain": [
       "<Figure size 640x480 with 1 Axes>"
      ]
     },
     "metadata": {},
     "output_type": "display_data"
    }
   ],
   "source": [
    "# Word Cloud for browser\n",
    "\n",
    "# Create text variable\n",
    "text1 = \" \".join(browser for browser in df_mod.browser)  # Change df_a.browser\n",
    "\n",
    "# Creatd word_cloud using **.generate()** method\n",
    "word_cloud1 = WordCloud(collocations=False, background_color='white',\n",
    "                        width=3000, height=1500).generate(text1)\n",
    "# Saveg image\n",
    "word_cloud1.to_file('browser_wordcloud.png')\n",
    "\n",
    "# Display Word Cloud\n",
    "plt.imshow(word_cloud1, interpolation='none')\n",
    "plt.axis(\"off\")\n",
    "plt.show()"
   ]
  },
  {
   "cell_type": "markdown",
   "id": "8c08147e",
   "metadata": {},
   "source": [
    "---\n",
    "\n",
    "### Device Make Word Cloud"
   ]
  },
  {
   "cell_type": "code",
   "execution_count": 13,
   "id": "3732420d",
   "metadata": {},
   "outputs": [
    {
     "data": {
      "image/png": "[encoded data removed]",
      "text/plain": [
       "<Figure size 640x480 with 1 Axes>"
      ]
     },
     "metadata": {},
     "output_type": "display_data"
    }
   ],
   "source": [
    "# Word Cloud for device_make\n",
    "\n",
    "# Create the text variable\n",
    "text1 = \" \".join(device_make for device_make in df_mod.device_make)\n",
    "\n",
    "# Create word_cloud using **.generate()** method\n",
    "\n",
    "word_cloud1 = WordCloud(collocations=False, background_color='white',\n",
    "                        width=3000, height=1500).generate(text1)\n",
    "# Saveg image\n",
    "word_cloud1.to_file('device_wordcloud.png')\n",
    "\n",
    "# Display Word Cloud\n",
    "plt.imshow(word_cloud1, interpolation='none')\n",
    "plt.axis(\"off\")\n",
    "plt.show()"
   ]
  },
  {
   "cell_type": "markdown",
   "id": "14f544c8",
   "metadata": {},
   "source": [
    "\n",
    "---\n",
    "\n",
    "## Statistical Tests & Analysis"
   ]
  },
  {
   "cell_type": "markdown",
   "id": "80653e99",
   "metadata": {},
   "source": [
    "### Fisher's Exact Test\n",
    "\n",
    "Fisher's Exact Test is a Non-Parametric test. In plain English, Fisher's test does not make the same assumptions as the z-test for example. Fisher's test assumes:\n",
    "\n",
    "1. Random sampling\n",
    "2. Independence\n",
    "3. Mutually exclusive groups\n",
    "\n",
    "It is appropriate to use Fisher's Exact Test in the following scenario:\n",
    "\n",
    "- Variables are categorical and the result is classified in two different groups.\n",
    "- One is looking for the relationship between two variables.\n",
    "- The response variables are recorded using counts.\n",
    "\n",
    "Fisher’s Exact Test uses the hypotheses test:\n",
    "\n",
    "- H0: The two variables are independent.\n",
    "- H1: The two variables are not independent, \n",
    "  - i.e. the variables depend on each other."
   ]
  },
  {
   "cell_type": "code",
   "execution_count": 14,
   "id": "c9e3bd2b",
   "metadata": {},
   "outputs": [
    {
     "name": "stdout",
     "output_type": "stream",
     "text": [
      "\n",
      "Dimensions of Participants dataframe = (1243, 3)\n"
     ]
    },
    {
     "data": {
      "text/html": [
       "<div>\n",
       "<style scoped>\n",
       "    .dataframe tbody tr th:only-of-type {\n",
       "        vertical-align: middle;\n",
       "    }\n",
       "\n",
       "    .dataframe tbody tr th {\n",
       "        vertical-align: top;\n",
       "    }\n",
       "\n",
       "    .dataframe thead th {\n",
       "        text-align: right;\n",
       "    }\n",
       "</style>\n",
       "<table border=\"1\" class=\"dataframe\">\n",
       "  <thead>\n",
       "    <tr style=\"text-align: right;\">\n",
       "      <th></th>\n",
       "      <th>experiment</th>\n",
       "      <th>yes</th>\n",
       "      <th>no</th>\n",
       "    </tr>\n",
       "  </thead>\n",
       "  <tbody>\n",
       "    <tr>\n",
       "      <th>2</th>\n",
       "      <td>exposed</td>\n",
       "      <td>0</td>\n",
       "      <td>1</td>\n",
       "    </tr>\n",
       "    <tr>\n",
       "      <th>16</th>\n",
       "      <td>exposed</td>\n",
       "      <td>1</td>\n",
       "      <td>0</td>\n",
       "    </tr>\n",
       "    <tr>\n",
       "      <th>20</th>\n",
       "      <td>exposed</td>\n",
       "      <td>0</td>\n",
       "      <td>1</td>\n",
       "    </tr>\n",
       "    <tr>\n",
       "      <th>23</th>\n",
       "      <td>control</td>\n",
       "      <td>1</td>\n",
       "      <td>0</td>\n",
       "    </tr>\n",
       "    <tr>\n",
       "      <th>27</th>\n",
       "      <td>control</td>\n",
       "      <td>0</td>\n",
       "      <td>1</td>\n",
       "    </tr>\n",
       "  </tbody>\n",
       "</table>\n",
       "</div>"
      ],
      "text/plain": [
       "   experiment  yes  no\n",
       "2     exposed    0   1\n",
       "16    exposed    1   0\n",
       "20    exposed    0   1\n",
       "23    control    1   0\n",
       "27    control    0   1"
      ]
     },
     "execution_count": 14,
     "metadata": {},
     "output_type": "execute_result"
    }
   ],
   "source": [
    "# KEEP 'PARTICIPATING' MEMBERS ONLY\n",
    "# Where 'yes' or 'no' columns are equal to 1.\n",
    "\n",
    "# REMOVE columns [[0,2,3,4,5,6]] from ORIGINAL dataframe, **df**\n",
    "df_mod = df.drop(df.columns[[0,2,3,4,5,6]], axis=1, inplace=False)\n",
    "\n",
    "# KEEP PARTICIPATING MEMBERS ONLY\n",
    "\n",
    "df_participants = df_mod[(df_mod['yes'] == 1) | (df_mod['no'] == 1)]\n",
    "print('\\nDimensions of Participants dataframe =', df_participants.shape)\n",
    "\n",
    "df_participants.head(5)"
   ]
  },
  {
   "cell_type": "code",
   "execution_count": 15,
   "id": "0725ea0c",
   "metadata": {
    "code_folding": [
     0,
     3,
     6,
     9
    ]
   },
   "outputs": [],
   "source": [
    "fishers_a = df_participants[(df_participants['experiment'] == 'control') & \n",
    "                            (df_participants['no'] == 0)].count()\n",
    "\n",
    "fishers_b = df_participants[(df_participants['experiment'] == 'control') & \n",
    "                            (df_participants['no'] == 1)].count()\n",
    "\n",
    "fishers_c = df_participants[(df_participants['experiment'] == 'exposed') & \n",
    "                            (df_participants['no'] == 0)].count()\n",
    "\n",
    "fishers_d = df_participants[(df_participants['experiment'] == 'exposed') & \n",
    "                            (df_participants['no'] == 1)].count()"
   ]
  },
  {
   "cell_type": "code",
   "execution_count": 16,
   "id": "8b15ada1",
   "metadata": {},
   "outputs": [
    {
     "data": {
      "text/plain": [
       "exposed    657\n",
       "control    586\n",
       "Name: experiment, dtype: int64"
      ]
     },
     "execution_count": 16,
     "metadata": {},
     "output_type": "execute_result"
    }
   ],
   "source": [
    "df_participants['experiment'].value_counts()"
   ]
  },
  {
   "cell_type": "code",
   "execution_count": 17,
   "id": "9c2eb7a0",
   "metadata": {},
   "outputs": [
    {
     "name": "stdout",
     "output_type": "stream",
     "text": [
      "fishers_a = 264\n",
      "fishers_b = 322\n",
      "fishers_c = 308\n",
      "fishers_d = 349\n"
     ]
    }
   ],
   "source": [
    "# Fisher 2x2 Contingency Table\n",
    "\n",
    "print('fishers_a =', fishers_a[0])\n",
    "print('fishers_b =', fishers_b[0])\n",
    "print('fishers_c =', fishers_c[0])\n",
    "print('fishers_d =', fishers_d[0])"
   ]
  },
  {
   "cell_type": "code",
   "execution_count": 18,
   "id": "38234ec7",
   "metadata": {},
   "outputs": [
    {
     "data": {
      "text/html": [
       "<div>\n",
       "<style scoped>\n",
       "    .dataframe tbody tr th:only-of-type {\n",
       "        vertical-align: middle;\n",
       "    }\n",
       "\n",
       "    .dataframe tbody tr th {\n",
       "        vertical-align: top;\n",
       "    }\n",
       "\n",
       "    .dataframe thead th {\n",
       "        text-align: right;\n",
       "    }\n",
       "</style>\n",
       "<table border=\"1\" class=\"dataframe\">\n",
       "  <thead>\n",
       "    <tr style=\"text-align: right;\">\n",
       "      <th></th>\n",
       "      <th>No</th>\n",
       "      <th>Yes</th>\n",
       "    </tr>\n",
       "  </thead>\n",
       "  <tbody>\n",
       "    <tr>\n",
       "      <th>Control</th>\n",
       "      <td>264</td>\n",
       "      <td>322</td>\n",
       "    </tr>\n",
       "    <tr>\n",
       "      <th>Exposed</th>\n",
       "      <td>308</td>\n",
       "      <td>349</td>\n",
       "    </tr>\n",
       "  </tbody>\n",
       "</table>\n",
       "</div>"
      ],
      "text/plain": [
       "          No  Yes\n",
       "Control  264  322\n",
       "Exposed  308  349"
      ]
     },
     "execution_count": 18,
     "metadata": {},
     "output_type": "execute_result"
    }
   ],
   "source": [
    "df = pd.DataFrame({'No': [264, 308], 'Yes': [322, 349]},\n",
    "                  index=pd.Index(['Control', 'Exposed']))\n",
    "df"
   ]
  },
  {
   "cell_type": "code",
   "execution_count": 19,
   "id": "07cd366e",
   "metadata": {},
   "outputs": [
    {
     "data": {
      "text/html": [
       "<div>\n",
       "<style scoped>\n",
       "    .dataframe tbody tr th:only-of-type {\n",
       "        vertical-align: middle;\n",
       "    }\n",
       "\n",
       "    .dataframe tbody tr th {\n",
       "        vertical-align: top;\n",
       "    }\n",
       "\n",
       "    .dataframe thead th {\n",
       "        text-align: right;\n",
       "    }\n",
       "</style>\n",
       "<table border=\"1\" class=\"dataframe\">\n",
       "  <thead>\n",
       "    <tr style=\"text-align: right;\">\n",
       "      <th></th>\n",
       "      <th>No</th>\n",
       "      <th>Yes</th>\n",
       "    </tr>\n",
       "  </thead>\n",
       "  <tbody>\n",
       "    <tr>\n",
       "      <th>Control</th>\n",
       "      <td>0.212</td>\n",
       "      <td>0.259</td>\n",
       "    </tr>\n",
       "    <tr>\n",
       "      <th>Exposed</th>\n",
       "      <td>0.248</td>\n",
       "      <td>0.281</td>\n",
       "    </tr>\n",
       "  </tbody>\n",
       "</table>\n",
       "</div>"
      ],
      "text/plain": [
       "            No    Yes\n",
       "Control  0.212  0.259\n",
       "Exposed  0.248  0.281"
      ]
     },
     "execution_count": 19,
     "metadata": {},
     "output_type": "execute_result"
    }
   ],
   "source": [
    "# Proportions Table\n",
    "\n",
    "df_prop = pd.DataFrame({'No': [0.212, 0.248], 'Yes': [0.259, 0.281]},\n",
    "                       index=pd.Index(['Control', 'Exposed']))\n",
    "df_prop"
   ]
  },
  {
   "cell_type": "code",
   "execution_count": 20,
   "id": "06c19dec",
   "metadata": {},
   "outputs": [
    {
     "name": "stdout",
     "output_type": "stream",
     "text": [
      "\n",
      "Odds ratio is: 0.9290150842945873\n",
      "\n",
      "P-value is: 0.5309716576386057\n"
     ]
    }
   ],
   "source": [
    "# Fishers exact test on the data\n",
    "\n",
    "odds_ratio, p_value = stats.fisher_exact(df, alternative=\"two-sided\")\n",
    "print(\"\\nOdds ratio is: \" + str(odds_ratio))\n",
    "print(\"\\nP-value is: \" + str(p_value))"
   ]
  },
  {
   "cell_type": "markdown",
   "id": "0d886add",
   "metadata": {},
   "source": [
    "**Results of Fisher's Exact Test**\n",
    "\n",
    "- P-value = 0.531, therefore we CANNOT REJECT H0. The two variables are independent.\n",
    "\n",
    "\n",
    "- Simply, there is no association between the two icons and the conversion rates.\n",
    "\n",
    "\n",
    "- Fisher's test also produces an odds ratio for betting people. This aspect shows that the odds of increasing the conversion rates are 0.93 : 1.0. \n",
    "  - **Basically, the odds of increasing sales is 1:1, no change**.\n",
    "  \n",
    "---\n"
   ]
  },
  {
   "cell_type": "markdown",
   "id": "8c5481fb",
   "metadata": {},
   "source": [
    "### Phi Coefficient of Association\n",
    "\n",
    "The Phi Coefficient of Association ($\\large \\Phi$) is a measure of the degree of association (cooperative effect) between two binary variables.  \n",
    "\n",
    "The Phi Coefficient test can be interpreted similarly to Pearson's correlation coefficient. Chiefly, does any change in conversion rate positively (or negatively) correlate with changing the two icons?\n",
    "\n",
    "\n",
    "- H0: There IS NO statistically significant relationship between the change in conversion rate and changing the cat and dog icons.\n",
    "- H1: There IS a statistically significant relationship between the two variables.\n",
    "\n",
    "It is appropriate to use Phi in the following scenario:\n",
    "\n",
    "1. To determine the relationship between two variables\n",
    "\n",
    "\n",
    "2. The variables of interest are binary\n",
    "\n",
    "\n",
    "3. There are only two variables\n",
    "\n",
    "\n",
    "$$\\large \\Phi = \\frac{a \\cdot d - b \\cdot c}{\\sqrt{efgh}}$$ \n",
    "\n",
    "Where: \n",
    "\n",
    "| Experiment |       NO |     YES |    Sums |\n",
    "|-----------:|---------:|--------:|--------:|\n",
    "| Control    |  a = 264 | b = 322 | e = 586 |\n",
    "| Exposed    |  c = 308 | d = 349 | f = 657 |\n",
    "| Sums       |  g = 572 | h = 671 |    1243 |"
   ]
  },
  {
   "cell_type": "code",
   "execution_count": 21,
   "id": "7bfb2833",
   "metadata": {},
   "outputs": [
    {
     "name": "stdout",
     "output_type": "stream",
     "text": [
      "\n",
      "The numerator of Phi = -7040\n",
      "\n",
      "The denomenator of Phi = 384406\n",
      "\n",
      "Phi Coefficient = -0.018313944421528762\n"
     ]
    }
   ],
   "source": [
    "import math \n",
    "\n",
    "numerator = (264 * 349)-(308 * 322)\n",
    "\n",
    "denomonator = ((586)*(657)*(572)*(671))**(0.5)\n",
    "\n",
    "print('\\nThe numerator of Phi =', numerator)\n",
    "print('\\nThe denomenator of Phi =', math.floor(denomonator))\n",
    "print('\\nPhi Coefficient =', numerator/denomonator)"
   ]
  },
  {
   "cell_type": "markdown",
   "id": "1b616351",
   "metadata": {},
   "source": [
    "**Results of Phi Coefficient of Association**\n",
    "\n",
    "$$\\large \\Phi = \\frac{-7,040}{384,406} = -0.0183$$\n",
    "\n",
    "The Phi Coefficient takes on values between -1 and 1 where:\n",
    "- -1 indicates a perfectly negative relationship between the two variables.\n",
    "- 0 indicates no association between the two variables.\n",
    "- 1 indicates a perfectly positive relationship between the two variables.\n",
    "\n",
    "---\n",
    "\n",
    "- In general, the closer the Phi Coefficient is to zero, there is little or no relationship between the two variables.\n",
    "\n",
    "- In this circumstance, H0 should be chosen. There is no association between changing the icons and the change in the conversion rate.\n",
    "\n",
    "---\n"
   ]
  },
  {
   "cell_type": "markdown",
   "id": "9f6dfde9",
   "metadata": {},
   "source": [
    "### Ratios of Respondents to total & Exposed to Control"
   ]
  },
  {
   "cell_type": "markdown",
   "id": "d1515215",
   "metadata": {},
   "source": [
    "**Conversion Rate**: Conversion rate, defined as the proportion of sessions ending up with a transaction.\n",
    "\n",
    "$$\\text{Conversion Rate} = 100\\% \\cdot \\frac{\\text{# of converted}}{\\text{# of converted + # of not converted}}$$\n",
    "\n",
    "\n",
    "| Experiment |       NO |     YES |    Sums |\n",
    "|-----------:|---------:|--------:|--------:|\n",
    "| Control    |  a = 264 | b = 322 | e = 586 |\n",
    "| Exposed    |  c = 308 | d = 349 | f = 657 |\n",
    "| Sums       |  g = 572 | h = 671 |    1243 |"
   ]
  },
  {
   "cell_type": "code",
   "execution_count": 22,
   "id": "556c0772",
   "metadata": {},
   "outputs": [
    {
     "data": {
      "text/plain": [
       "(0.15389377244026248, 0.5494880546075085, 0.5312024353120244)"
      ]
     },
     "execution_count": 22,
     "metadata": {},
     "output_type": "execute_result"
    }
   ],
   "source": [
    "1243/8077, 322/586, 349/657"
   ]
  },
  {
   "cell_type": "markdown",
   "id": "5fdf5ea8",
   "metadata": {},
   "source": [
    "| Class | Proportion |\n",
    "|:------|-----------:|\n",
    "| Participants vs Total Impressions ratio | 15.4% |\n",
    "| Control: Conversion-Ratio of Cat-people | 54.9% |\n",
    "| Exposed: Conversion-Ratio of Dog-people | 53.1% |"
   ]
  },
  {
   "cell_type": "markdown",
   "id": "5861861c",
   "metadata": {},
   "source": [
    "---\n",
    "\n",
    "## Conclusion(s)"
   ]
  },
  {
   "cell_type": "markdown",
   "id": "d3ecb1be",
   "metadata": {},
   "source": [
    "1. The **247% greater traffic on 7/3/2020 versus 7/10/2020**, as seen on the Date plot, could be a problem and may need to be further investigated.\n",
    "\n",
    "\n",
    "2. The **564% greater traffic on hr=1500 versus the mean=336**, as seen on the Hour histogram, could be a serious problem and may need to be investigated.\n",
    "\n",
    "\n",
    "3. Fisher's Exact Test (P-value = 0.531) suggests there is no association between the two icons and any change of conversion rates.\n",
    "\n",
    "\n",
    "4. Phi Coefficient of Association ($\\Phi$ = -0.0183) suggests there is no relationship between the two icons and any change of conversion rates.\n",
    "\n",
    "\n",
    "5. No changes to www.catsVSdogs.com should be made at this time."
   ]
  },
  {
   "cell_type": "code",
   "execution_count": null,
   "id": "f0d0725b",
   "metadata": {},
   "outputs": [],
   "source": []
  }
 ],
 "metadata": {
  "kernelspec": {
   "display_name": "Python 3 (ipykernel)",
   "language": "python",
   "name": "python3"
  },
  "language_info": {
   "codemirror_mode": {
    "name": "ipython",
    "version": 3
   },
   "file_extension": ".py",
   "mimetype": "text/x-python",
   "name": "python",
   "nbconvert_exporter": "python",
   "pygments_lexer": "ipython3",
   "version": "3.9.12"
  },
  "toc": {
   "base_numbering": 1,
   "nav_menu": {},
   "number_sections": true,
   "sideBar": true,
   "skip_h1_title": false,
   "title_cell": "Table of Contents",
   "title_sidebar": "Contents",
   "toc_cell": true,
   "toc_position": {
    "height": "calc(100% - 180px)",
    "left": "10px",
    "top": "150px",
    "width": "165px"
   },
   "toc_section_display": true,
   "toc_window_display": false
  },
  "varInspector": {
   "cols": {
    "lenName": 16,
    "lenType": 16,
    "lenVar": 40
   },
   "kernels_config": {
    "python": {
     "delete_cmd_postfix": "",
     "delete_cmd_prefix": "del ",
     "library": "var_list.py",
     "varRefreshCmd": "print(var_dic_list())"
    },
    "r": {
     "delete_cmd_postfix": ") ",
     "delete_cmd_prefix": "rm(",
     "library": "var_list.r",
     "varRefreshCmd": "cat(var_dic_list()) "
    }
   },
   "types_to_exclude": [
    "module",
    "function",
    "builtin_function_or_method",
    "instance",
    "_Feature"
   ],
   "window_display": false
  }
 },
 "nbformat": 4,
 "nbformat_minor": 5
}
