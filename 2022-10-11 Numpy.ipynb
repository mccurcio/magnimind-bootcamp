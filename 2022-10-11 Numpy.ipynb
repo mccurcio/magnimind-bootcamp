{
 "cells": [
  {
   "cell_type": "markdown",
   "id": "cc65a7f9",
   "metadata": {
    "toc": true
   },
   "source": [
    "<h1>Table of Contents<span class=\"tocSkip\"></span></h1>\n",
    "<div class=\"toc\"><ul class=\"toc-item\"><li><span><a href=\"#Numpy-Assignment\" data-toc-modified-id=\"Numpy-Assignment-1\"><span class=\"toc-item-num\">1&nbsp;&nbsp;</span>Numpy Assignment</a></span><ul class=\"toc-item\"><li><span><a href=\"#Housing-Arrays\" data-toc-modified-id=\"Housing-Arrays-1.1\"><span class=\"toc-item-num\">1.1&nbsp;&nbsp;</span>Housing Arrays</a></span></li><li><span><a href=\"#Housing-Features\" data-toc-modified-id=\"Housing-Features-1.2\"><span class=\"toc-item-num\">1.2&nbsp;&nbsp;</span>Housing Features</a></span></li><li><span><a href=\"#Array-Shape\" data-toc-modified-id=\"Array-Shape-1.3\"><span class=\"toc-item-num\">1.3&nbsp;&nbsp;</span>Array Shape</a></span></li><li><span><a href=\"#Load-Dataset\" data-toc-modified-id=\"Load-Dataset-1.4\"><span class=\"toc-item-num\">1.4&nbsp;&nbsp;</span>Load Dataset</a></span></li><li><span><a href=\"#Slice\" data-toc-modified-id=\"Slice-1.5\"><span class=\"toc-item-num\">1.5&nbsp;&nbsp;</span>Slice</a></span></li><li><span><a href=\"#Conditional-Subsetting\" data-toc-modified-id=\"Conditional-Subsetting-1.6\"><span class=\"toc-item-num\">1.6&nbsp;&nbsp;</span>Conditional Subsetting</a></span></li><li><span><a href=\"#Row-/-Value-Replacement\" data-toc-modified-id=\"Row-/-Value-Replacement-1.7\"><span class=\"toc-item-num\">1.7&nbsp;&nbsp;</span>Row / Value Replacement</a></span></li><li><span><a href=\"#Save-Array-To-File\" data-toc-modified-id=\"Save-Array-To-File-1.8\"><span class=\"toc-item-num\">1.8&nbsp;&nbsp;</span>Save Array To File</a></span></li><li><span><a href=\"#Load-.csv-File\" data-toc-modified-id=\"Load-.csv-File-1.9\"><span class=\"toc-item-num\">1.9&nbsp;&nbsp;</span>Load .csv File</a></span></li><li><span><a href=\"#Display-Column-Mean\" data-toc-modified-id=\"Display-Column-Mean-1.10\"><span class=\"toc-item-num\">1.10&nbsp;&nbsp;</span>Display Column Mean</a></span></li><li><span><a href=\"#Subtract-Values-From-Array-Columns\" data-toc-modified-id=\"Subtract-Values-From-Array-Columns-1.11\"><span class=\"toc-item-num\">1.11&nbsp;&nbsp;</span>Subtract Values From Array Columns</a></span></li><li><span><a href=\"#Multiply-Each-Element-By-2\" data-toc-modified-id=\"Multiply-Each-Element-By-2-1.12\"><span class=\"toc-item-num\">1.12&nbsp;&nbsp;</span>Multiply Each Element By 2</a></span></li></ul></li></ul></div>"
   ]
  },
  {
   "cell_type": "markdown",
   "id": "2b6ad36f",
   "metadata": {},
   "source": [
    "To:&nbsp;&nbsp;&nbsp;&nbsp; Magnimind\n",
    "\n",
    "From: Matt Curcio, matt.curcio.ri@gmail.com\n",
    "\n",
    "Date: 2022-10-01\n",
    "\n",
    "Re:&nbsp;&nbsp;&nbsp; Intro. to Python\n",
    "\n",
    "## Numpy Assignment\n",
    "\n",
    "### Housing Arrays\n",
    "Create three lists representing house features, each list containing ten values. The first one for the house's size in square meters, the second one for rooms and last for price. Then, create an array combining these lists.\n"
   ]
  },
  {
   "cell_type": "code",
   "execution_count": 1,
   "id": "b94d0bf5",
   "metadata": {},
   "outputs": [
    {
     "data": {
      "text/html": [
       "<style>.container { width:90% !important; } </style>"
      ],
      "text/plain": [
       "<IPython.core.display.HTML object>"
      ]
     },
     "metadata": {},
     "output_type": "display_data"
    }
   ],
   "source": [
    "from __future__ import print_function, division\n",
    "import numpy as np\n",
    "\n",
    "from IPython.display import display, HTML\n",
    "display(HTML(\"<style>.container { width:90% !important; } </style>\"))"
   ]
  },
  {
   "cell_type": "code",
   "execution_count": 2,
   "id": "d4c4ce13",
   "metadata": {},
   "outputs": [
    {
     "name": "stdout",
     "output_type": "stream",
     "text": [
      "SQ_M =  [100, 200, 300, 400, 500, 600, 700, 800, 900, 1000] \n",
      "\n",
      "Rooms =  [2, 3, 4, 5, 6, 7, 8, 9, 10, 11] \n",
      "\n",
      "List Price =  [50000, 100000, 150000, 200000, 250000, 300000, 350000, 400000, 450000, 500000]\n"
     ]
    }
   ],
   "source": [
    "sq_m = [x*100 for x in range(1, 11)]\n",
    "print('SQ_M = ', sq_m, '\\n')\n",
    "rooms = [x+1 for x in range(1, 11)]\n",
    "print('Rooms = ', rooms, '\\n')\n",
    "list_price = [x*50000 for x in range(1, 11)]\n",
    "print('List Price = ', list_price)"
   ]
  },
  {
   "cell_type": "code",
   "execution_count": 3,
   "id": "8e8fa268",
   "metadata": {},
   "outputs": [
    {
     "name": "stdout",
     "output_type": "stream",
     "text": [
      "[[   100    200    300    400    500    600    700    800    900   1000]\n",
      " [     2      3      4      5      6      7      8      9     10     11]\n",
      " [ 50000 100000 150000 200000 250000 300000 350000 400000 450000 500000]]\n"
     ]
    }
   ],
   "source": [
    "arr_sq_m = np.array(sq_m)\n",
    "arr_rooms = np.array(rooms)\n",
    "arr_list_price = np.array(list_price)\n",
    "\n",
    "housing = np.vstack((arr_sq_m, arr_rooms, arr_list_price))\n",
    "\n",
    "print(housing)"
   ]
  },
  {
   "cell_type": "markdown",
   "id": "391a88a2",
   "metadata": {},
   "source": [
    "### Housing Features\n",
    "Transpose the array you have created, so that every line can represent features of one house."
   ]
  },
  {
   "cell_type": "code",
   "execution_count": 4,
   "id": "1e542f63",
   "metadata": {},
   "outputs": [
    {
     "data": {
      "text/plain": [
       "array([[   100,      2,  50000],\n",
       "       [   200,      3, 100000],\n",
       "       [   300,      4, 150000],\n",
       "       [   400,      5, 200000],\n",
       "       [   500,      6, 250000],\n",
       "       [   600,      7, 300000],\n",
       "       [   700,      8, 350000],\n",
       "       [   800,      9, 400000],\n",
       "       [   900,     10, 450000],\n",
       "       [  1000,     11, 500000]])"
      ]
     },
     "execution_count": 4,
     "metadata": {},
     "output_type": "execute_result"
    }
   ],
   "source": [
    "units = housing.transpose()\n",
    "units"
   ]
  },
  {
   "cell_type": "markdown",
   "id": "c107ddbb",
   "metadata": {},
   "source": [
    "### Array Shape\n",
    "Display the shape of the array and explain what it means."
   ]
  },
  {
   "cell_type": "code",
   "execution_count": 5,
   "id": "fe8036ff",
   "metadata": {},
   "outputs": [
    {
     "data": {
      "text/plain": [
       "(10, 3)"
      ]
     },
     "execution_count": 5,
     "metadata": {},
     "output_type": "execute_result"
    }
   ],
   "source": [
    "units.shape"
   ]
  },
  {
   "cell_type": "raw",
   "id": "27fbfbdd",
   "metadata": {},
   "source": [
    "**NOTE:** For the following assignment, you are going to use Earthquakes dataset.\n",
    "\n",
    "### Exprot Data To Array\n",
    "Load the Earthquakes dataset. Export the dataset to an array as you covered in the previous lesson."
   ]
  },
  {
   "cell_type": "code",
   "execution_count": 6,
   "id": "0510a665",
   "metadata": {},
   "outputs": [
    {
     "name": "stdout",
     "output_type": "stream",
     "text": [
      "/home/mcc/Dropbox/9-Magni-mind/7_Numpy_Assignment\n",
      "'2022-10-11 Numpy Assignment.beta.ipynb'\n",
      "'2022-10-11 Numpy Assignment.ipynb'\n",
      "'2022-10-11 Read .csv file.ipynb'\n",
      "'2022-10-12 NumPy Basics.ipynb'\n",
      " earthquakes1970-2014.csv\n",
      " numpy_assignment_questions.txt\n",
      " sub_set.csv\n",
      "'testing numpy find index of row x>y.ipynb'\n"
     ]
    }
   ],
   "source": [
    "!pwd\n",
    "!ls"
   ]
  },
  {
   "cell_type": "markdown",
   "id": "f625f19d",
   "metadata": {},
   "source": [
    "### Load Dataset\n",
    "Load the Earthquakes dataset. Export the dataset to an array as you covered in the previous lesson."
   ]
  },
  {
   "cell_type": "code",
   "execution_count": 7,
   "id": "dee3698b",
   "metadata": {},
   "outputs": [
    {
     "data": {
      "text/plain": [
       "array([[            nan,  2.41390000e+01,  1.02503000e+02,\n",
       "         3.10000000e+01,  7.50000000e+00,             nan,\n",
       "         9.00000000e+01,             nan,             nan,\n",
       "         0.00000000e+00,             nan,  1.97001044e+09],\n",
       "       [            nan, -9.62800000e+00,  1.51458000e+02,\n",
       "         8.00000000e+00,  6.20000000e+00,             nan,\n",
       "         8.50000000e+01,             nan,             nan,\n",
       "         0.00000000e+00,             nan,  1.97001064e+09]])"
      ]
     },
     "execution_count": 7,
     "metadata": {},
     "output_type": "execute_result"
    }
   ],
   "source": [
    "import numpy as np\n",
    "\n",
    "filename = 'earthquakes1970-2014.csv'\n",
    "data_array = np.genfromtxt(filename, delimiter=\",\", skip_header=1)\n",
    "data_array[0:2]"
   ]
  },
  {
   "cell_type": "code",
   "execution_count": 8,
   "id": "0135cc72",
   "metadata": {},
   "outputs": [
    {
     "data": {
      "text/plain": [
       "(5304, 12)"
      ]
     },
     "execution_count": 8,
     "metadata": {},
     "output_type": "execute_result"
    }
   ],
   "source": [
    "data_array.shape"
   ]
  },
  {
   "cell_type": "markdown",
   "id": "57e90011",
   "metadata": {},
   "source": [
    "### Slice\n",
    "Slice first 20 rows and column numbers 3, 5, 6, 7, 12. Then, assign the array you sliced to a variable."
   ]
  },
  {
   "cell_type": "code",
   "execution_count": 9,
   "id": "b18d4d69",
   "metadata": {},
   "outputs": [
    {
     "data": {
      "text/plain": [
       "(20, 5)"
      ]
     },
     "execution_count": 9,
     "metadata": {},
     "output_type": "execute_result"
    }
   ],
   "source": [
    "# Note to self: Numpy <- (rows, columns)\n",
    "\n",
    "sub_set = data_array[0:20, (2, 4, 5, 6, 11)]\n",
    "\n",
    "sub_set.shape"
   ]
  },
  {
   "cell_type": "code",
   "execution_count": 10,
   "id": "8a20083e",
   "metadata": {},
   "outputs": [
    {
     "data": {
      "text/plain": [
       "array([[1.02503000e+02, 7.50000000e+00,            nan, 9.00000000e+01,\n",
       "        1.97001044e+09]])"
      ]
     },
     "execution_count": 10,
     "metadata": {},
     "output_type": "execute_result"
    }
   ],
   "source": [
    "sub_set[0:1, :]"
   ]
  },
  {
   "cell_type": "markdown",
   "id": "9713a8d2",
   "metadata": {},
   "source": [
    "### Conditional Subsetting\n",
    "Display the row numbers where last values are equal to 4.5 or higher.  \n",
    "AKA: **numpy select elements by condition**"
   ]
  },
  {
   "cell_type": "code",
   "execution_count": 11,
   "id": "64ef7bfe",
   "metadata": {},
   "outputs": [
    {
     "data": {
      "text/plain": [
       "(array([ 0,  1,  2,  3,  5,  6,  7,  8,  9, 10, 11, 12, 15, 16, 17, 19]),)"
      ]
     },
     "execution_count": 11,
     "metadata": {},
     "output_type": "execute_result"
    }
   ],
   "source": [
    "# Get INDEX of values greater than 10\n",
    "arr_gte_45 = np.asarray(sub_set[:, -1] >= 4.5).nonzero()\n",
    "arr_gte_45"
   ]
  },
  {
   "cell_type": "code",
   "execution_count": 12,
   "id": "de718616",
   "metadata": {},
   "outputs": [
    {
     "data": {
      "text/plain": [
       "array([1.97001044e+09, 1.97001064e+09, 1.97001084e+09, 1.97001104e+09,\n",
       "                  nan, 1.97001204e+09, 1.97001204e+09, 1.97001214e+09,\n",
       "       1.97001264e+09, 1.97002044e+09, 1.97002054e+09, 1.97002064e+09,\n",
       "       1.97002244e+09,            nan,            nan, 1.97003044e+09,\n",
       "       1.97003094e+09, 1.97003104e+09,            nan, 1.97003154e+09])"
      ]
     },
     "execution_count": 12,
     "metadata": {},
     "output_type": "execute_result"
    }
   ],
   "source": [
    "sub_set[:, -1]"
   ]
  },
  {
   "cell_type": "markdown",
   "id": "29f42304",
   "metadata": {},
   "source": [
    "### Row / Value Replacement\n",
    "Assign 1 to first row.\n",
    "\n",
    "**This question is puzzling to me**. To **sub-set or original**.   "
   ]
  },
  {
   "cell_type": "code",
   "execution_count": 13,
   "id": "d907798e",
   "metadata": {},
   "outputs": [],
   "source": [
    "sub_set[0, :] = 1"
   ]
  },
  {
   "cell_type": "code",
   "execution_count": 14,
   "id": "b2c173e5",
   "metadata": {},
   "outputs": [
    {
     "data": {
      "text/plain": [
       "array([[1.00000000e+00, 1.00000000e+00, 1.00000000e+00, 1.00000000e+00,\n",
       "        1.00000000e+00],\n",
       "       [1.51458000e+02, 6.20000000e+00,            nan, 8.50000000e+01,\n",
       "        1.97001064e+09]])"
      ]
     },
     "execution_count": 14,
     "metadata": {},
     "output_type": "execute_result"
    }
   ],
   "source": [
    "sub_set[0:2, :]"
   ]
  },
  {
   "cell_type": "markdown",
   "id": "2b4fb4df",
   "metadata": {},
   "source": [
    "### Save Array To File\n",
    "Save the final state of the array to disk. You are going to use this in the next assignment."
   ]
  },
  {
   "cell_type": "code",
   "execution_count": 15,
   "id": "b49cceeb",
   "metadata": {},
   "outputs": [],
   "source": [
    "np.savetxt('sub_set.csv', sub_set, delimiter=',')"
   ]
  },
  {
   "cell_type": "markdown",
   "id": "997a53cf",
   "metadata": {},
   "source": [
    "### Load .csv File\n",
    "Load the array you saved in the previous lesson from the disk."
   ]
  },
  {
   "cell_type": "code",
   "execution_count": 16,
   "id": "b01f1870",
   "metadata": {},
   "outputs": [
    {
     "data": {
      "text/plain": [
       "(20, 5)"
      ]
     },
     "execution_count": 16,
     "metadata": {},
     "output_type": "execute_result"
    }
   ],
   "source": [
    "sub_set = np.loadtxt('sub_set.csv', delimiter=',')\n",
    "sub_set.shape"
   ]
  },
  {
   "cell_type": "markdown",
   "id": "662184a6",
   "metadata": {},
   "source": [
    "### Display Column Mean\n",
    "Display the mean and the standard deviation for each column."
   ]
  },
  {
   "cell_type": "code",
   "execution_count": 17,
   "id": "d0b30d70",
   "metadata": {},
   "outputs": [
    {
     "name": "stdout",
     "output_type": "stream",
     "text": [
      "Column means:  [22.11561  5.99         nan 75.6          nan]\n",
      "Standard Deviation means: [138.40363531   1.16528966          nan  55.81343924          nan]\n"
     ]
    }
   ],
   "source": [
    "# This produces the mean showing 'nan' in columns.\n",
    "\n",
    "print('Column means: ', np.mean(sub_set, axis=0))\n",
    "print('Standard Deviation means:', np.std(sub_set, axis=0))"
   ]
  },
  {
   "cell_type": "code",
   "execution_count": 18,
   "id": "37fc1ce3",
   "metadata": {},
   "outputs": [
    {
     "name": "stdout",
     "output_type": "stream",
     "text": [
      "Column means:  [2.21156100e+01 5.99000000e+00 1.00000000e+00 7.56000000e+01\n",
      " 1.84689309e+09]\n",
      "Standard Deviation means: [1.38403635e+02 1.16528966e+00 0.00000000e+00 5.58134392e+01\n",
      " 4.76865744e+08]\n"
     ]
    }
   ],
   "source": [
    "# This produces the mean IGNORING 'nan' in columns.\n",
    "\n",
    "print('Column means: ', np.nanmean(sub_set, axis=0))\n",
    "print('Standard Deviation means:', np.nanstd(sub_set, axis=0))"
   ]
  },
  {
   "cell_type": "markdown",
   "id": "10a793d2",
   "metadata": {},
   "source": [
    "### Subtract Values From Array Columns\n",
    "Subtract 1, 25, 25, 10, 4 from columns in order. (Remember it can be done in one line of code.)"
   ]
  },
  {
   "cell_type": "code",
   "execution_count": 19,
   "id": "60253801",
   "metadata": {},
   "outputs": [
    {
     "data": {
      "text/plain": [
       "array([   0.    ,  150.458 ,  177.568 ,  125.737 , -153.66  , -178.349 ,\n",
       "        141.966 , -105.298 ,  165.37  , -100.484 ,  121.117 ,   99.775 ,\n",
       "        102.031 , -180.5898, -176.04  ,  142.707 ,  167.603 ,  147.87  ,\n",
       "       -154.97  ,  -70.499 ])"
      ]
     },
     "execution_count": 19,
     "metadata": {},
     "output_type": "execute_result"
    }
   ],
   "source": [
    "## Column 1, SUBTRACT 1\n",
    "arr_1 = np.ones(20)\n",
    "sub_set[:,0]\n",
    "\n",
    "np.subtract(sub_set[:,0], arr_1)"
   ]
  },
  {
   "cell_type": "code",
   "execution_count": 20,
   "id": "d752e122",
   "metadata": {},
   "outputs": [
    {
     "data": {
      "text/plain": [
       "array([-24. , -18.8, -18.9, -18.9, -19. , -18.5, -18.6, -18.4, -18.6,\n",
       "       -18.5, -18.4, -18.9, -19. , -19. , -18.9, -18.8, -18.5, -19. ,\n",
       "       -18.5, -19. ])"
      ]
     },
     "execution_count": 20,
     "metadata": {},
     "output_type": "execute_result"
    }
   ],
   "source": [
    "## Column 2, SUBTRACT 25\n",
    "arr_25 = np.ones(20) * 25\n",
    "#sub_set[:,1]\n",
    "\n",
    "np.subtract(sub_set[:,1], arr_25)"
   ]
  },
  {
   "cell_type": "code",
   "execution_count": 21,
   "id": "da46e8d3",
   "metadata": {},
   "outputs": [
    {
     "data": {
      "text/plain": [
       "array([-24.,  nan,  nan,  nan,  nan,  nan,  nan,  nan,  nan,  nan,  nan,\n",
       "        nan,  nan,  nan,  nan,  nan,  nan,  nan,  nan,  nan])"
      ]
     },
     "execution_count": 21,
     "metadata": {},
     "output_type": "execute_result"
    }
   ],
   "source": [
    "## Column 3, SUBTRACT 25\n",
    "np.subtract(sub_set[:,2], arr_25)"
   ]
  },
  {
   "cell_type": "code",
   "execution_count": 22,
   "id": "0c079137",
   "metadata": {},
   "outputs": [
    {
     "data": {
      "text/plain": [
       "array([ -9.,  75.,  49.,  81., -10., 165., 189., 130.,  81.,  90.,  84.,\n",
       "        47.,  84., -10., -10.,  72.,  51.,  55., -10., 108.])"
      ]
     },
     "execution_count": 22,
     "metadata": {},
     "output_type": "execute_result"
    }
   ],
   "source": [
    "## Column 4, SUBTRACT 10\n",
    "arr_10 = np.ones(20) * 10\n",
    "sub_set[:,3]\n",
    "\n",
    "np.subtract(sub_set[:,3], arr_10)"
   ]
  },
  {
   "cell_type": "code",
   "execution_count": 23,
   "id": "5026d241",
   "metadata": {},
   "outputs": [
    {
     "data": {
      "text/plain": [
       "array([-3.00000000e+00,  1.97001064e+09,  1.97001084e+09,  1.97001104e+09,\n",
       "                   nan,  1.97001204e+09,  1.97001204e+09,  1.97001214e+09,\n",
       "        1.97001264e+09,  1.97002044e+09,  1.97002054e+09,  1.97002064e+09,\n",
       "        1.97002244e+09,             nan,             nan,  1.97003044e+09,\n",
       "        1.97003094e+09,  1.97003104e+09,             nan,  1.97003154e+09])"
      ]
     },
     "execution_count": 23,
     "metadata": {},
     "output_type": "execute_result"
    }
   ],
   "source": [
    "## Column 5, SUBTRACT 4\n",
    "arr_4 = np.ones(20) * 4\n",
    "sub_set[:,4]\n",
    "\n",
    "np.subtract(sub_set[:,4], arr_4)"
   ]
  },
  {
   "cell_type": "markdown",
   "id": "460107a7",
   "metadata": {},
   "source": [
    "### Multiply Each Element By 2\n",
    "Multiply each element by 2. (Remember it can be done in one line of code.)"
   ]
  },
  {
   "cell_type": "code",
   "execution_count": 24,
   "id": "c38b3a79",
   "metadata": {},
   "outputs": [
    {
     "data": {
      "text/plain": [
       "array([[2.00000000e+00, 2.00000000e+00, 2.00000000e+00, 2.00000000e+00,\n",
       "        2.00000000e+00],\n",
       "       [3.02916000e+02, 1.24000000e+01,            nan, 1.70000000e+02,\n",
       "        3.94002128e+09]])"
      ]
     },
     "execution_count": 24,
     "metadata": {},
     "output_type": "execute_result"
    }
   ],
   "source": [
    "new_matrix = np.multiply(sub_set,2)\n",
    "\n",
    "new_matrix[:2] # displays only first 2 rows, like `.head`"
   ]
  },
  {
   "cell_type": "code",
   "execution_count": null,
   "id": "0ecef529",
   "metadata": {},
   "outputs": [],
   "source": []
  }
 ],
 "metadata": {
  "kernelspec": {
   "display_name": "Python 3 (ipykernel)",
   "language": "python",
   "name": "python3"
  },
  "language_info": {
   "codemirror_mode": {
    "name": "ipython",
    "version": 3
   },
   "file_extension": ".py",
   "mimetype": "text/x-python",
   "name": "python",
   "nbconvert_exporter": "python",
   "pygments_lexer": "ipython3",
   "version": "3.9.13"
  },
  "toc": {
   "base_numbering": 1,
   "nav_menu": {},
   "number_sections": true,
   "sideBar": true,
   "skip_h1_title": false,
   "title_cell": "Table of Contents",
   "title_sidebar": "Contents",
   "toc_cell": true,
   "toc_position": {
    "height": "calc(100% - 180px)",
    "left": "10px",
    "top": "150px",
    "width": "224px"
   },
   "toc_section_display": true,
   "toc_window_display": false
  },
  "varInspector": {
   "cols": {
    "lenName": 16,
    "lenType": 16,
    "lenVar": 40
   },
   "kernels_config": {
    "python": {
     "delete_cmd_postfix": "",
     "delete_cmd_prefix": "del ",
     "library": "var_list.py",
     "varRefreshCmd": "print(var_dic_list())"
    },
    "r": {
     "delete_cmd_postfix": ") ",
     "delete_cmd_prefix": "rm(",
     "library": "var_list.r",
     "varRefreshCmd": "cat(var_dic_list()) "
    }
   },
   "types_to_exclude": [
    "module",
    "function",
    "builtin_function_or_method",
    "instance",
    "_Feature"
   ],
   "window_display": false
  }
 },
 "nbformat": 4,
 "nbformat_minor": 5
}
