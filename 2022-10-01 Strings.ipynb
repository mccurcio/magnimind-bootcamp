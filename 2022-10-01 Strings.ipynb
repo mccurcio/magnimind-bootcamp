{
 "cells": [
  {
   "cell_type": "markdown",
   "id": "108cf7f4",
   "metadata": {},
   "source": [
    "## String Assignment<a id='To_top'></a>\n",
    "\n",
    "To:&nbsp;&nbsp;&nbsp;&nbsp; Magnimind\n",
    "\n",
    "From: Matt Curcio, matt.curcio.ri@gmail.com\n",
    "\n",
    "Date: 2022-10-01\n",
    "\n",
    "Re:&nbsp;&nbsp;&nbsp; Intro. to Python"
   ]
  },
  {
   "cell_type": "markdown",
   "id": "c8758dcc",
   "metadata": {
    "toc": true
   },
   "source": [
    "<h1>Table of Contents<span class=\"tocSkip\"></span></h1>\n",
    "<div class=\"toc\"><ul class=\"toc-item\"><li><span><a href=\"#String-Assignment\" data-toc-modified-id=\"String-Assignment-1\"><span class=\"toc-item-num\">1&nbsp;&nbsp;</span>String Assignment<a id=\"To_top\" rel=\"nofollow\"></a></a></span><ul class=\"toc-item\"><li><span><a href=\"#Question-1\" data-toc-modified-id=\"Question-1-1.1\"><span class=\"toc-item-num\">1.1&nbsp;&nbsp;</span>Question 1</a></span></li><li><span><a href=\"#Question-2\" data-toc-modified-id=\"Question-2-1.2\"><span class=\"toc-item-num\">1.2&nbsp;&nbsp;</span>Question 2</a></span></li><li><span><a href=\"#Question-3\" data-toc-modified-id=\"Question-3-1.3\"><span class=\"toc-item-num\">1.3&nbsp;&nbsp;</span>Question 3</a></span></li><li><span><a href=\"#Data-Types-Assignment\" data-toc-modified-id=\"Data-Types-Assignment-1.4\"><span class=\"toc-item-num\">1.4&nbsp;&nbsp;</span>Data Types Assignment</a></span></li><li><span><a href=\"#Python-Basics\" data-toc-modified-id=\"Python-Basics-1.5\"><span class=\"toc-item-num\">1.5&nbsp;&nbsp;</span>Python Basics</a></span></li></ul></li></ul></div>"
   ]
  },
  {
   "cell_type": "markdown",
   "id": "f0e7ea69",
   "metadata": {},
   "source": [
    "### Question 1\n",
    "\n",
    "Ask the user to enter their first name and surname in lower case. Change the case to title case and join them together. Display the finished result."
   ]
  },
  {
   "cell_type": "code",
   "execution_count": 1,
   "id": "06726c1f",
   "metadata": {},
   "outputs": [
    {
     "name": "stdout",
     "output_type": "stream",
     "text": [
      "\n",
      "Hello, \n",
      "\n",
      "Type your FIRST name in lower case. matt\n",
      "Type your LAST name in lower case. curcio\n",
      "\n",
      "Welcome Matt Curcio,\n",
      "\n"
     ]
    }
   ],
   "source": [
    "def name():\n",
    "    print(\"\\nHello, \\n\")\n",
    "    f_name = input(\"Type your FIRST name in lower case. \").lower()\n",
    "    l_name = input(\"Type your LAST name in lower case. \").lower()\n",
    "    print(f\"\\nWelcome {f_name.title()} {l_name.title()},\\n\")\n",
    "    \n",
    "name()"
   ]
  },
  {
   "cell_type": "code",
   "execution_count": null,
   "id": "aad24598",
   "metadata": {},
   "outputs": [],
   "source": []
  },
  {
   "cell_type": "markdown",
   "id": "e1194734",
   "metadata": {},
   "source": [
    "### Question 2\n",
    "\n",
    "Ask the user to type in the first line of a poem Raven by Edgar Allen Poe and display the length of the string. Ask for a starting number and an ending number and then display just that section of the text (remember Python starts counting from 0 and not 1). Here is the poem Raven:\n",
    "\n",
    ">Deep into that darkness peering,  \n",
    ">Long I stood there, wondering, fearing,  \n",
    ">Doubting, dreaming dreams no mortals  \n",
    ">Ever dared to dream before;  \n",
    ">But the silence was unbroken,  \n",
    ">And the stillness gave no token,  \n",
    ">And the only word there spoken  \n",
    ">Was the whispered word, \"Lenore!\"  \n",
    ">This I whispered, and an echo  \n",
    ">Murmured back the word, \"Lenore!\"  "
   ]
  },
  {
   "cell_type": "code",
   "execution_count": 2,
   "id": "32dcdf7b",
   "metadata": {},
   "outputs": [
    {
     "name": "stdout",
     "output_type": "stream",
     "text": [
      "Please type the first line of the poem 'Raven': 1\n",
      "\n",
      "This line has 31 characters.\n"
     ]
    }
   ],
   "source": [
    "def poem_line():\n",
    "    f_line_raven = input(\"Please type the first line of the poem 'Raven': \")\n",
    "\n",
    "    # If you type '1' then you do not have type the entire line.\n",
    "    if f_line_raven == \"1\" or f_line_raven == \"Deep into that darkness peering\":\n",
    "        f_line_raven = \"Deep into that darkness peering\"\n",
    "        print(f'\\nThis line has {len(f_line_raven)} characters.')\n",
    "    else:\n",
    "        print(\"\\nPlease try again.\")\n",
    "        \n",
    "poem_line()"
   ]
  },
  {
   "cell_type": "markdown",
   "id": "24357c28",
   "metadata": {},
   "source": [
    "### Question 3 \n",
    "\n",
    "Removes extra characters from the start and end of a string and explain why you need to remove white spaces while exploring text."
   ]
  },
  {
   "cell_type": "code",
   "execution_count": 3,
   "id": "40bbe309",
   "metadata": {},
   "outputs": [],
   "source": [
    "def slices():\n",
    "    print(\"\\nNow, let\\'s find some string slices.\\n\")\n",
    "    start_num = int(input(\"Please type a start value. \"))\n",
    "    last_num =  int(input(\"Please type a end value. \"))\n",
    "    f_line_raven = \"Deep into that darkness peering\"\n",
    "    slice = f_line_raven[start_num-1:last_num].lstrip().rstrip()\n",
    "    print(f'\\nYour slice is: \"{slice}\"')\n",
    "    print('\\nThis program strips white spaces from the beginning and end of a slice.')"
   ]
  },
  {
   "cell_type": "code",
   "execution_count": 4,
   "id": "33dad040",
   "metadata": {},
   "outputs": [
    {
     "name": "stdout",
     "output_type": "stream",
     "text": [
      "\n",
      "Hello, \n",
      "\n",
      "Type your FIRST name in lower case. matt\n",
      "Type your LAST name in lower case. curcio\n",
      "\n",
      "Welcome Matt Curcio,\n",
      "\n",
      "Please type the first line of the poem 'Raven': 1\n",
      "\n",
      "This line has 31 characters.\n",
      "\n",
      "Now, let's find some string slices.\n",
      "\n",
      "Please type a start value. 3\n",
      "Please type a end value. 20\n",
      "\n",
      "Your slice is: \"ep into that darkn\"\n",
      "\n",
      "This program strips white spaces from the beginning and end of a slice.\n"
     ]
    }
   ],
   "source": [
    "# Run all 3 functions together\n",
    "\n",
    "if __name__ == \"__main__\":\n",
    "    name()\n",
    "    poem_line()\n",
    "    slices()"
   ]
  },
  {
   "cell_type": "code",
   "execution_count": 5,
   "id": "9389ce96",
   "metadata": {},
   "outputs": [
    {
     "name": "stdout",
     "output_type": "stream",
     "text": [
      "False\n"
     ]
    }
   ],
   "source": [
    "# Mixed Variables\n",
    "\n",
    "x = int(1)\n",
    "y = str(1)\n",
    "\n",
    "print(x == y)  # Are the two variables the SAME?"
   ]
  },
  {
   "cell_type": "code",
   "execution_count": 6,
   "id": "2b46a38e",
   "metadata": {},
   "outputs": [
    {
     "ename": "TypeError",
     "evalue": "unsupported operand type(s) for +: 'int' and 'str'",
     "output_type": "error",
     "traceback": [
      "\u001b[0;31m---------------------------------------------------------------------------\u001b[0m",
      "\u001b[0;31mTypeError\u001b[0m                                 Traceback (most recent call last)",
      "\u001b[0;32m/tmp/ipykernel_6171/1037412690.py\u001b[0m in \u001b[0;36m<module>\u001b[0;34m\u001b[0m\n\u001b[1;32m      1\u001b[0m \u001b[0;31m# Cannot add an integer to a string!\u001b[0m\u001b[0;34m\u001b[0m\u001b[0;34m\u001b[0m\u001b[0m\n\u001b[1;32m      2\u001b[0m \u001b[0;34m\u001b[0m\u001b[0m\n\u001b[0;32m----> 3\u001b[0;31m \u001b[0mprint\u001b[0m\u001b[0;34m(\u001b[0m\u001b[0mx\u001b[0m \u001b[0;34m+\u001b[0m \u001b[0my\u001b[0m\u001b[0;34m)\u001b[0m\u001b[0;34m\u001b[0m\u001b[0;34m\u001b[0m\u001b[0m\n\u001b[0m",
      "\u001b[0;31mTypeError\u001b[0m: unsupported operand type(s) for +: 'int' and 'str'"
     ]
    }
   ],
   "source": [
    "# Cannot add an integer to a string!\n",
    "\n",
    "print(x + y)"
   ]
  },
  {
   "cell_type": "code",
   "execution_count": 7,
   "id": "338668f7",
   "metadata": {},
   "outputs": [
    {
     "name": "stdout",
     "output_type": "stream",
     "text": [
      "Adding two integers produces: 2\n",
      "Adding two strings produces: 11\n"
     ]
    }
   ],
   "source": [
    "# Adding two integer variables\n",
    "\n",
    "x = int(1)\n",
    "y = int(1)\n",
    "\n",
    "print('Adding two integers produces:', x + y)\n",
    "\n",
    "# OR\n",
    "\n",
    "# Adding two string variables\n",
    "\n",
    "x = str(1)\n",
    "y = str(1)\n",
    "\n",
    "print('Adding two strings produces:', x + y)"
   ]
  },
  {
   "cell_type": "markdown",
   "id": "fdee5bb1",
   "metadata": {},
   "source": [
    "[To top](#Assignment)\n",
    "### Data Types Assignment"
   ]
  },
  {
   "cell_type": "markdown",
   "id": "95139759",
   "metadata": {},
   "source": [
    "The formula for compound interest:\n",
    "    \n",
    "$\\large M = C ~ ((1 + i)^n - 1)$\n",
    "\n",
    "Where: \n",
    "\n",
    "- M = Compounded interest\n",
    "- C = Capital\n",
    "- i = daily_growth\n",
    "- n = the number of periods"
   ]
  },
  {
   "cell_type": "code",
   "execution_count": 8,
   "id": "62c716ae",
   "metadata": {},
   "outputs": [
    {
     "data": {
      "text/plain": [
       "1210.68"
      ]
     },
     "execution_count": 8,
     "metadata": {},
     "output_type": "execute_result"
    }
   ],
   "source": [
    "capital = 1000\n",
    "daily_growth = 0.12\n",
    "n = 7\n",
    "\n",
    "M = capital * ((1 + daily_growth)**n - 1)\n",
    "round(M, 2)"
   ]
  },
  {
   "cell_type": "markdown",
   "id": "8ad35b4e",
   "metadata": {},
   "source": [
    "**Final growth rate**\n",
    "\n",
    "$\\Large\\frac{\\Delta x}{x_i} * \\large100\\% = \\Large\\frac{1210.68 ~-~ 1000}{1000}$"
   ]
  },
  {
   "cell_type": "code",
   "execution_count": 9,
   "id": "a5e50eb6",
   "metadata": {},
   "outputs": [
    {
     "name": "stdout",
     "output_type": "stream",
     "text": [
      "The overall percent growth for an investment of 1,000 is 21.1%\n"
     ]
    }
   ],
   "source": [
    "growth = (1210.68 - 1000)/1000\n",
    "txt_1 = 'The overall percent growth for an investment of {:,} is {:.1%}'.format(capital, growth)\n",
    "\n",
    "print(txt_1)"
   ]
  },
  {
   "cell_type": "code",
   "execution_count": 10,
   "id": "25aa9040",
   "metadata": {},
   "outputs": [
    {
     "name": "stdout",
     "output_type": "stream",
     "text": [
      "When we buy bitcoin with 1,000 USD at the beginning of the week, \n",
      "\n",
      "we would earn 1,210.68 USD at the end of the week, with an average gain of 12.0%.\n"
     ]
    }
   ],
   "source": [
    "# Print text with Python using .format()   \n",
    "\n",
    "# For help see: [Formatting Types](https://www.w3schools.com/python/ref_string_format.asp)\n",
    "\n",
    "sentence_1 = 'When we buy bitcoin with {:,} USD at the beginning of the week,'.format(1000)\n",
    "\n",
    "sentence_2 = 'we would earn {:,.2f} USD at the end of the week, with an average gain of {:.1%}.'.format(M, 0.12)\n",
    "\n",
    "print(sentence_1, '\\n')\n",
    "print(sentence_2)"
   ]
  },
  {
   "cell_type": "code",
   "execution_count": 11,
   "id": "acc0e16a",
   "metadata": {},
   "outputs": [
    {
     "name": "stdout",
     "output_type": "stream",
     "text": [
      "Convert from F to C\n",
      "\n",
      "Enter the temperature in Fahrenheit: 45\n",
      "\n",
      "45.0 fahrenheit is equivalent to 7.2 Celcius.\n"
     ]
    }
   ],
   "source": [
    "#  Get the temperature in Fahrenheit from user and write a code to convert it to Celcius.    \n",
    "\n",
    "print(\"Convert from F to C\\n\")\n",
    "\n",
    "F = int(input(\"Enter the temperature in Fahrenheit: \"))\n",
    "\n",
    "C = (5/9) * (F - 32)\n",
    "\n",
    "print(\"\\n{:.1f} fahrenheit is equivalent to {:.1f} Celcius.\".format(F, C))"
   ]
  },
  {
   "cell_type": "code",
   "execution_count": 12,
   "id": "ce9d1c3d",
   "metadata": {},
   "outputs": [
    {
     "name": "stdout",
     "output_type": "stream",
     "text": [
      "We can calculate the sum of the digits of a number, like numerology.\n",
      "\n",
      "Enter a three digit number: 567\n",
      "\n",
      "The summation of the digits is: 18\n"
     ]
    }
   ],
   "source": [
    "# Calculate sums of strings\n",
    "\n",
    "print(\"We can calculate the sum of the digits of a number, like numerology.\\n\")\n",
    "\n",
    "D = input(\"Enter a three digit number: \")\n",
    "\n",
    "digit_sum = int(D[0]) + int(D[1]) + int(D[2])\n",
    "\n",
    "print(\"\\nThe summation of the digits is: {}\".format(digit_sum))"
   ]
  },
  {
   "cell_type": "code",
   "execution_count": 13,
   "id": "e4e8cae2",
   "metadata": {},
   "outputs": [
    {
     "name": "stdout",
     "output_type": "stream",
     "text": [
      "sum =  13\n"
     ]
    }
   ],
   "source": [
    "number = '445'\n",
    "while True:\n",
    "    if number.isnumeric() == True and len(number) == 3:\n",
    "        total = 0\n",
    "        for digit in number:\n",
    "            total  += int(digit)\n",
    "        print('sum = ', total)\n",
    "        break\n",
    "    else:\n",
    "        print('Please enter 3 d.')\n",
    "        break"
   ]
  },
  {
   "cell_type": "code",
   "execution_count": 14,
   "id": "1ede181e",
   "metadata": {},
   "outputs": [
    {
     "name": "stdout",
     "output_type": "stream",
     "text": [
      "15\n"
     ]
    }
   ],
   "source": [
    "number = '555'\n",
    "output = sum(int(digit) for digit in number)\n",
    "print(output)"
   ]
  },
  {
   "cell_type": "markdown",
   "id": "558d5879",
   "metadata": {},
   "source": [
    "[To top](#Assignment)\n",
    "### Python Basics"
   ]
  },
  {
   "cell_type": "markdown",
   "id": "2ae9a10a",
   "metadata": {},
   "source": [
    "Operations Order\n",
    "1. math\n",
    "2. relational \n",
    "3. logical operations"
   ]
  },
  {
   "cell_type": "code",
   "execution_count": null,
   "id": "310e4c1a",
   "metadata": {},
   "outputs": [],
   "source": []
  },
  {
   "cell_type": "code",
   "execution_count": 15,
   "id": "1c8f1748",
   "metadata": {},
   "outputs": [
    {
     "name": "stdout",
     "output_type": "stream",
     "text": [
      "Matthew Curcio\n"
     ]
    }
   ],
   "source": [
    "print(\"Matthew Curcio\")"
   ]
  },
  {
   "cell_type": "code",
   "execution_count": 16,
   "id": "76879516",
   "metadata": {},
   "outputs": [
    {
     "name": "stdout",
     "output_type": "stream",
     "text": [
      "Matthew\n",
      "Curcio\n"
     ]
    }
   ],
   "source": [
    "print(\"Matthew\\nCurcio\")"
   ]
  },
  {
   "cell_type": "code",
   "execution_count": 17,
   "id": "b9f740d0",
   "metadata": {},
   "outputs": [
    {
     "name": "stdout",
     "output_type": "stream",
     "text": [
      "I don't want to be an \"artist\". I want to be a \"Data Scientist.\"\n"
     ]
    }
   ],
   "source": [
    "print('I don\\'t want to be an \"artist\". I want to be a \"Data Scientist.\"')"
   ]
  },
  {
   "cell_type": "code",
   "execution_count": null,
   "id": "805b628d",
   "metadata": {},
   "outputs": [],
   "source": []
  }
 ],
 "metadata": {
  "kernelspec": {
   "display_name": "Python 3 (ipykernel)",
   "language": "python",
   "name": "python3"
  },
  "language_info": {
   "codemirror_mode": {
    "name": "ipython",
    "version": 3
   },
   "file_extension": ".py",
   "mimetype": "text/x-python",
   "name": "python",
   "nbconvert_exporter": "python",
   "pygments_lexer": "ipython3",
   "version": "3.9.13"
  },
  "toc": {
   "base_numbering": 1,
   "nav_menu": {},
   "number_sections": true,
   "sideBar": true,
   "skip_h1_title": false,
   "title_cell": "Table of Contents",
   "title_sidebar": "Contents",
   "toc_cell": true,
   "toc_position": {
    "height": "calc(100% - 180px)",
    "left": "10px",
    "top": "150px",
    "width": "237.5px"
   },
   "toc_section_display": true,
   "toc_window_display": false
  },
  "varInspector": {
   "cols": {
    "lenName": 16,
    "lenType": 16,
    "lenVar": 40
   },
   "kernels_config": {
    "python": {
     "delete_cmd_postfix": "",
     "delete_cmd_prefix": "del ",
     "library": "var_list.py",
     "varRefreshCmd": "print(var_dic_list())"
    },
    "r": {
     "delete_cmd_postfix": ") ",
     "delete_cmd_prefix": "rm(",
     "library": "var_list.r",
     "varRefreshCmd": "cat(var_dic_list()) "
    }
   },
   "types_to_exclude": [
    "module",
    "function",
    "builtin_function_or_method",
    "instance",
    "_Feature"
   ],
   "window_display": false
  }
 },
 "nbformat": 4,
 "nbformat_minor": 5
}
