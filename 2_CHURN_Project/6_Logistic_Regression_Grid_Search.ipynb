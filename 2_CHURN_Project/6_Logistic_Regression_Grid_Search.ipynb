{
 "cells": [
  {
   "cell_type": "markdown",
   "id": "3a51c0f9",
   "metadata": {
    "toc": true
   },
   "source": [
    "<h1>Table of Contents<span class=\"tocSkip\"></span></h1>\n",
    "<div class=\"toc\"><ul class=\"toc-item\"><li><span><a href=\"#Logit-Grid-Search\" data-toc-modified-id=\"Logit-Grid-Search-1\"><span class=\"toc-item-num\">1&nbsp;&nbsp;</span>Logit Grid Search</a></span></li></ul></div>"
   ]
  },
  {
   "cell_type": "markdown",
   "id": "832fb784",
   "metadata": {},
   "source": [
    "# 6_Logistic_Regression_Grid_Search"
   ]
  },
  {
   "cell_type": "code",
   "execution_count": 4,
   "id": "f33abe68",
   "metadata": {},
   "outputs": [],
   "source": [
    "import pandas as pd\n",
    "import numpy as np\n",
    "\n",
    "import statsmodels.api as sm\n",
    "from scipy.stats import norm\n",
    "import scipy.stats as stats\n",
    "import numpy as np\n",
    "import matplotlib as mpl\n",
    "import matplotlib.pyplot as plt\n",
    "%matplotlib inline\n",
    "import seaborn as sns\n",
    "\n",
    "from sklearn.model_selection import train_test_split, cross_val_score\n",
    "from sklearn.preprocessing import MinMaxScaler\n",
    "from sklearn.model_selection import GridSearchCV\n",
    "from sklearn.linear_model import LogisticRegression\n",
    "from sklearn.pipeline import Pipeline\n",
    "\n",
    "# importing module\n",
    "import warnings\n",
    "warnings.filterwarnings('ignore') # add specs for warnings filter"
   ]
  },
  {
   "cell_type": "code",
   "execution_count": 5,
   "id": "e4a94307",
   "metadata": {},
   "outputs": [
    {
     "data": {
      "text/plain": [
       "((3750, 13), (1250, 13))"
      ]
     },
     "execution_count": 5,
     "metadata": {},
     "output_type": "execute_result"
    }
   ],
   "source": [
    "df = pd.read_csv('clean_churn.csv')\n",
    "\n",
    "df.drop(['Unnamed: 0', 'T_D_Min', 'T_E_Min', 'T_N_Min', 'T_I_Min'], axis=1, inplace=True)\n",
    "\n",
    "df.head()\n",
    "\n",
    "x=df.drop(['Churned'], axis=1)\n",
    "y=df.Churned\n",
    "\n",
    "x_train, x_test, y_train, y_test = train_test_split(x, y, random_state=100)\n",
    "\n",
    "x_train.shape, x_test.shape"
   ]
  },
  {
   "cell_type": "markdown",
   "id": "3aec6273",
   "metadata": {},
   "source": [
    "## Logit Grid Search"
   ]
  },
  {
   "cell_type": "code",
   "execution_count": 7,
   "id": "003adc4d",
   "metadata": {},
   "outputs": [
    {
     "name": "stdout",
     "output_type": "stream",
     "text": [
      "\n",
      "Best hyperparameters: {'C': 142.51026703029964, 'max_iter': 1000, 'penalty': 'l2', 'solver': 'lbfgs'}\n",
      "\n",
      "Accuracy: 0.8656\n",
      "\n",
      "Determined grid search in 189.5660 seconds.\n"
     ]
    }
   ],
   "source": [
    "import time\n",
    "start = time.perf_counter()\n",
    "\n",
    "grid = {'penalty' : ['l1', 'l2', 'elasticnet'],\n",
    "         'C' : np.logspace(-4, 4, 40),\n",
    "         'solver' : ['lbfgs','newton-cg','liblinear','sag','saga'],\n",
    "         'max_iter' : [100, 1000]\n",
    "        }\n",
    "logreg = LogisticRegression(verbose=0)\n",
    "logreg_cv = GridSearchCV(logreg, grid, cv=3, verbose=0)\n",
    "logreg_cv.fit(x_train, y_train)\n",
    "\n",
    "print('\\nBest hyperparameters:', logreg_cv.best_params_)\n",
    "print('\\nAccuracy:', logreg_cv.best_score_)\n",
    "\n",
    "stop = time.perf_counter()\n",
    "print(f'\\nDetermined grid search in {stop - start:0.4f} seconds.')"
   ]
  },
  {
   "cell_type": "code",
   "execution_count": 13,
   "id": "e584ac5a",
   "metadata": {},
   "outputs": [
    {
     "name": "stdout",
     "output_type": "stream",
     "text": [
      "[[1038   37]\n",
      " [ 143   32]]\n",
      "              precision    recall  f1-score   support\n",
      "\n",
      "           0       0.88      0.97      0.92      1075\n",
      "           1       0.46      0.18      0.26       175\n",
      "\n",
      "    accuracy                           0.86      1250\n",
      "   macro avg       0.67      0.57      0.59      1250\n",
      "weighted avg       0.82      0.86      0.83      1250\n",
      "\n",
      "\n",
      "Run time 0.9326 seconds.\n"
     ]
    },
    {
     "data": {
      "image/png": "[encoded data removed]",
      "text/plain": [
       "<Figure size 640x480 with 2 Axes>"
      ]
     },
     "metadata": {},
     "output_type": "display_data"
    }
   ],
   "source": [
    "import time\n",
    "\n",
    "start = time.perf_counter()\n",
    "\n",
    "logreg = LogisticRegression(penalty='l2',\n",
    "                            dual=False,\n",
    "                            tol=0.0001,\n",
    "                            C=142.510,\n",
    "                            fit_intercept=True,\n",
    "                            intercept_scaling=1,\n",
    "                            class_weight=None,\n",
    "                            random_state=None,\n",
    "                            solver='lbfgs',\n",
    "                            max_iter=1000,\n",
    "                            multi_class='auto',\n",
    "                            verbose=0,\n",
    "                            warm_start=False,\n",
    "                            n_jobs=10,\n",
    "                            l1_ratio=None)\n",
    "logreg.fit(x_train, y_train)\n",
    "\n",
    "y_pred = logreg.predict(x_test)\n",
    "\n",
    "from sklearn.metrics import confusion_matrix, classification_report\n",
    "\n",
    "cm = confusion_matrix(y_test, y_pred)\n",
    "\n",
    "conf_matrix = pd.DataFrame(data=cm,\n",
    "                           columns=['Predicted:0', 'Predicted:1'],\n",
    "                           index=['Actual:0', 'Actual:1'])\n",
    "\n",
    "sns.heatmap(conf_matrix, annot=True, fmt='d', cmap=\"YlGnBu\")\n",
    "\n",
    "print(confusion_matrix(y_test, y_pred))\n",
    "print(classification_report(y_test, y_pred))\n",
    "\n",
    "stop = time.perf_counter()\n",
    "print(f'\\nRun time {stop - start:0.4f} seconds.')"
   ]
  },
  {
   "cell_type": "code",
   "execution_count": null,
   "id": "fe676f84",
   "metadata": {},
   "outputs": [],
   "source": []
  }
 ],
 "metadata": {
  "kernelspec": {
   "display_name": "Python 3 (ipykernel)",
   "language": "python",
   "name": "python3"
  },
  "language_info": {
   "codemirror_mode": {
    "name": "ipython",
    "version": 3
   },
   "file_extension": ".py",
   "mimetype": "text/x-python",
   "name": "python",
   "nbconvert_exporter": "python",
   "pygments_lexer": "ipython3",
   "version": "3.9.13"
  },
  "toc": {
   "base_numbering": 1,
   "nav_menu": {},
   "number_sections": true,
   "sideBar": true,
   "skip_h1_title": true,
   "title_cell": "Table of Contents",
   "title_sidebar": "Contents",
   "toc_cell": true,
   "toc_position": {},
   "toc_section_display": true,
   "toc_window_display": false
  },
  "varInspector": {
   "cols": {
    "lenName": 16,
    "lenType": 16,
    "lenVar": 40
   },
   "kernels_config": {
    "python": {
     "delete_cmd_postfix": "",
     "delete_cmd_prefix": "del ",
     "library": "var_list.py",
     "varRefreshCmd": "print(var_dic_list())"
    },
    "r": {
     "delete_cmd_postfix": ") ",
     "delete_cmd_prefix": "rm(",
     "library": "var_list.r",
     "varRefreshCmd": "cat(var_dic_list()) "
    }
   },
   "types_to_exclude": [
    "module",
    "function",
    "builtin_function_or_method",
    "instance",
    "_Feature"
   ],
   "window_display": false
  }
 },
 "nbformat": 4,
 "nbformat_minor": 5
}
