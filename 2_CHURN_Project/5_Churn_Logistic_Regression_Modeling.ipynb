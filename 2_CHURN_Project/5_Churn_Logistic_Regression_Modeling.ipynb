{
 "cells": [
  {
   "cell_type": "markdown",
   "id": "3a51c0f9",
   "metadata": {
    "toc": true
   },
   "source": [
    "<h1>Table of Contents<span class=\"tocSkip\"></span></h1>\n",
    "<div class=\"toc\"><ul class=\"toc-item\"><li><span><a href=\"#A-Very-Simple-Logistic-Regression-Model\" data-toc-modified-id=\"A-Very-Simple-Logistic-Regression-Model-1\"><span class=\"toc-item-num\">1&nbsp;&nbsp;</span>A Very Simple Logistic Regression Model</a></span></li></ul></div>"
   ]
  },
  {
   "cell_type": "markdown",
   "id": "06cc32b1",
   "metadata": {},
   "source": [
    "## A Very Simple Logistic Regression Model"
   ]
  },
  {
   "cell_type": "code",
   "execution_count": 1,
   "id": "5026b66c",
   "metadata": {},
   "outputs": [],
   "source": [
    "import numpy as np\n",
    "import pandas as pd\n",
    "import matplotlib.pyplot as plt\n",
    "from scipy.stats import norm\n",
    "import scipy.stats as stats\n",
    "import seaborn as sns\n",
    "%matplotlib inline\n",
    "\n",
    "# SKLearn Libraries\n",
    "from sklearn.model_selection import train_test_split, cross_val_score\n",
    "\n",
    "import warnings\n",
    "warnings.simplefilter(action='ignore', category=FutureWarning)"
   ]
  },
  {
   "cell_type": "code",
   "execution_count": 2,
   "id": "fdefe7d7",
   "metadata": {},
   "outputs": [
    {
     "data": {
      "text/html": [
       "<div>\n",
       "<style scoped>\n",
       "    .dataframe tbody tr th:only-of-type {\n",
       "        vertical-align: middle;\n",
       "    }\n",
       "\n",
       "    .dataframe tbody tr th {\n",
       "        vertical-align: top;\n",
       "    }\n",
       "\n",
       "    .dataframe thead th {\n",
       "        text-align: right;\n",
       "    }\n",
       "</style>\n",
       "<table border=\"1\" class=\"dataframe\">\n",
       "  <thead>\n",
       "    <tr style=\"text-align: right;\">\n",
       "      <th></th>\n",
       "      <th>Act_Len</th>\n",
       "      <th>Int_Plan</th>\n",
       "      <th>VM_Plan</th>\n",
       "      <th>Num_VM</th>\n",
       "      <th>T_D_Calls</th>\n",
       "      <th>T_D_Charge</th>\n",
       "      <th>T_E_Calls</th>\n",
       "      <th>T_E_Charge</th>\n",
       "      <th>T_N_Calls</th>\n",
       "      <th>T_N_Charge</th>\n",
       "      <th>T_I_Calls</th>\n",
       "      <th>T_I_Charge</th>\n",
       "      <th>Num_Srv_Calls</th>\n",
       "      <th>Churned</th>\n",
       "    </tr>\n",
       "  </thead>\n",
       "  <tbody>\n",
       "    <tr>\n",
       "      <th>0</th>\n",
       "      <td>128</td>\n",
       "      <td>0</td>\n",
       "      <td>1</td>\n",
       "      <td>25</td>\n",
       "      <td>110</td>\n",
       "      <td>45.07</td>\n",
       "      <td>99</td>\n",
       "      <td>16.78</td>\n",
       "      <td>91</td>\n",
       "      <td>11.01</td>\n",
       "      <td>3</td>\n",
       "      <td>2.70</td>\n",
       "      <td>1</td>\n",
       "      <td>0</td>\n",
       "    </tr>\n",
       "    <tr>\n",
       "      <th>1</th>\n",
       "      <td>107</td>\n",
       "      <td>0</td>\n",
       "      <td>1</td>\n",
       "      <td>26</td>\n",
       "      <td>123</td>\n",
       "      <td>27.47</td>\n",
       "      <td>103</td>\n",
       "      <td>16.78</td>\n",
       "      <td>103</td>\n",
       "      <td>11.45</td>\n",
       "      <td>3</td>\n",
       "      <td>3.70</td>\n",
       "      <td>1</td>\n",
       "      <td>0</td>\n",
       "    </tr>\n",
       "    <tr>\n",
       "      <th>2</th>\n",
       "      <td>137</td>\n",
       "      <td>0</td>\n",
       "      <td>0</td>\n",
       "      <td>0</td>\n",
       "      <td>114</td>\n",
       "      <td>41.38</td>\n",
       "      <td>110</td>\n",
       "      <td>10.30</td>\n",
       "      <td>104</td>\n",
       "      <td>7.32</td>\n",
       "      <td>5</td>\n",
       "      <td>3.29</td>\n",
       "      <td>0</td>\n",
       "      <td>0</td>\n",
       "    </tr>\n",
       "    <tr>\n",
       "      <th>3</th>\n",
       "      <td>84</td>\n",
       "      <td>1</td>\n",
       "      <td>0</td>\n",
       "      <td>0</td>\n",
       "      <td>71</td>\n",
       "      <td>50.90</td>\n",
       "      <td>88</td>\n",
       "      <td>5.26</td>\n",
       "      <td>89</td>\n",
       "      <td>8.86</td>\n",
       "      <td>7</td>\n",
       "      <td>1.78</td>\n",
       "      <td>2</td>\n",
       "      <td>0</td>\n",
       "    </tr>\n",
       "    <tr>\n",
       "      <th>4</th>\n",
       "      <td>75</td>\n",
       "      <td>1</td>\n",
       "      <td>0</td>\n",
       "      <td>0</td>\n",
       "      <td>113</td>\n",
       "      <td>28.34</td>\n",
       "      <td>122</td>\n",
       "      <td>12.61</td>\n",
       "      <td>121</td>\n",
       "      <td>8.41</td>\n",
       "      <td>3</td>\n",
       "      <td>2.73</td>\n",
       "      <td>3</td>\n",
       "      <td>0</td>\n",
       "    </tr>\n",
       "  </tbody>\n",
       "</table>\n",
       "</div>"
      ],
      "text/plain": [
       "   Act_Len  Int_Plan  VM_Plan  Num_VM  T_D_Calls  T_D_Charge  T_E_Calls  \\\n",
       "0      128         0        1      25        110       45.07         99   \n",
       "1      107         0        1      26        123       27.47        103   \n",
       "2      137         0        0       0        114       41.38        110   \n",
       "3       84         1        0       0         71       50.90         88   \n",
       "4       75         1        0       0        113       28.34        122   \n",
       "\n",
       "   T_E_Charge  T_N_Calls  T_N_Charge  T_I_Calls  T_I_Charge  Num_Srv_Calls  \\\n",
       "0       16.78         91       11.01          3        2.70              1   \n",
       "1       16.78        103       11.45          3        3.70              1   \n",
       "2       10.30        104        7.32          5        3.29              0   \n",
       "3        5.26         89        8.86          7        1.78              2   \n",
       "4       12.61        121        8.41          3        2.73              3   \n",
       "\n",
       "   Churned  \n",
       "0        0  \n",
       "1        0  \n",
       "2        0  \n",
       "3        0  \n",
       "4        0  "
      ]
     },
     "execution_count": 2,
     "metadata": {},
     "output_type": "execute_result"
    }
   ],
   "source": [
    "filename = \"clean_churn.csv\"\n",
    "\n",
    "df = pd.read_csv(filename)\n",
    "\n",
    "df.drop(['Unnamed: 0', 'T_D_Min', 'T_E_Min', 'T_N_Min', 'T_I_Min'], axis=1, inplace=True)\n",
    "\n",
    "df.head()"
   ]
  },
  {
   "cell_type": "code",
   "execution_count": 20,
   "id": "eb70367f",
   "metadata": {},
   "outputs": [],
   "source": [
    "from sklearn.model_selection import train_test_split\n",
    "\n",
    "x = df.drop(['Churned'], axis=1)\n",
    "y = df['Churned']\n",
    "\n",
    "# Training test and validation test splits\n",
    "x_train, x_valid, y_train, y_valid = train_test_split(x, y,\\\n",
    "                                                      test_size=0.25,\\\n",
    "                                                      random_state=100)"
   ]
  },
  {
   "cell_type": "code",
   "execution_count": 46,
   "id": "61fdeda9",
   "metadata": {},
   "outputs": [
    {
     "name": "stderr",
     "output_type": "stream",
     "text": [
      "/home/mcc/anaconda3/lib/python3.9/site-packages/sklearn/linear_model/_logistic.py:814: ConvergenceWarning: lbfgs failed to converge (status=1):\n",
      "STOP: TOTAL NO. of ITERATIONS REACHED LIMIT.\n",
      "\n",
      "Increase the number of iterations (max_iter) or scale the data as shown in:\n",
      "    https://scikit-learn.org/stable/modules/preprocessing.html\n",
      "Please also refer to the documentation for alternative solver options:\n",
      "    https://scikit-learn.org/stable/modules/linear_model.html#logistic-regression\n",
      "  n_iter_i = _check_optimize_result(\n"
     ]
    },
    {
     "data": {
      "text/plain": [
       "0.8642666666666666"
      ]
     },
     "execution_count": 46,
     "metadata": {},
     "output_type": "execute_result"
    }
   ],
   "source": [
    "clf = LogisticRegression(penalty='none') # logistic regression with no penalty term in the cost function.\n",
    "\n",
    "clf.fit(x, y)\n",
    "\n",
    "clf.score(x_train, y_train)"
   ]
  },
  {
   "cell_type": "code",
   "execution_count": 47,
   "id": "dae396a3",
   "metadata": {},
   "outputs": [
    {
     "data": {
      "text/plain": [
       "0.8584"
      ]
     },
     "execution_count": 47,
     "metadata": {},
     "output_type": "execute_result"
    }
   ],
   "source": [
    "clf.score(x_valid, y_valid)"
   ]
  },
  {
   "cell_type": "code",
   "execution_count": 40,
   "id": "d4383e1a",
   "metadata": {},
   "outputs": [
    {
     "data": {
      "text/plain": [
       "LogisticRegression(C=100.0, n_jobs=1, solver='liblinear')"
      ]
     },
     "execution_count": 40,
     "metadata": {},
     "output_type": "execute_result"
    }
   ],
   "source": [
    "from sklearn.linear_model import LogisticRegression\n",
    "model = LogisticRegression(C=100.0, class_weight=None, dual=False, fit_intercept=True,\n",
    "          intercept_scaling=1, max_iter=100, multi_class='auto', n_jobs=1,\n",
    "          penalty='l2', random_state=None, solver='liblinear', tol=0.0001,\n",
    "          verbose=0, warm_start=False)\n",
    "\n",
    "model.fit(x_train, y_train)\n"
   ]
  },
  {
   "cell_type": "code",
   "execution_count": 41,
   "id": "e7c54827",
   "metadata": {},
   "outputs": [
    {
     "data": {
      "text/plain": [
       "0.8642666666666666"
      ]
     },
     "execution_count": 41,
     "metadata": {},
     "output_type": "execute_result"
    }
   ],
   "source": [
    "model.score(x_train, y_train)\n"
   ]
  },
  {
   "cell_type": "code",
   "execution_count": 42,
   "id": "7dafd566",
   "metadata": {},
   "outputs": [
    {
     "data": {
      "text/plain": [
       "0.856"
      ]
     },
     "execution_count": 42,
     "metadata": {},
     "output_type": "execute_result"
    }
   ],
   "source": [
    "model.score(x_valid, y_valid)"
   ]
  },
  {
   "cell_type": "code",
   "execution_count": 43,
   "id": "f9f93cf4",
   "metadata": {},
   "outputs": [
    {
     "ename": "AttributeError",
     "evalue": "'LogisticRegression' object has no attribute 'summary'",
     "output_type": "error",
     "traceback": [
      "\u001b[0;31m---------------------------------------------------------------------------\u001b[0m",
      "\u001b[0;31mAttributeError\u001b[0m                            Traceback (most recent call last)",
      "\u001b[0;32m/tmp/ipykernel_15247/3470139634.py\u001b[0m in \u001b[0;36m<module>\u001b[0;34m\u001b[0m\n\u001b[0;32m----> 1\u001b[0;31m \u001b[0mmodel\u001b[0m\u001b[0;34m.\u001b[0m\u001b[0msummary\u001b[0m\u001b[0;34m(\u001b[0m\u001b[0;34m)\u001b[0m\u001b[0;34m\u001b[0m\u001b[0;34m\u001b[0m\u001b[0m\n\u001b[0m",
      "\u001b[0;31mAttributeError\u001b[0m: 'LogisticRegression' object has no attribute 'summary'"
     ]
    }
   ],
   "source": [
    "model.summary()"
   ]
  },
  {
   "cell_type": "code",
   "execution_count": null,
   "id": "88bffa80",
   "metadata": {},
   "outputs": [],
   "source": []
  },
  {
   "cell_type": "code",
   "execution_count": 12,
   "id": "0b4944a3",
   "metadata": {},
   "outputs": [
    {
     "name": "stdout",
     "output_type": "stream",
     "text": [
      "[LibLinear]iter   1  #CD cycles 1\n",
      "iter   2  #CD cycles 1\n",
      "iter   3  #CD cycles 1\n",
      "iter   4  #CD cycles 1\n",
      "iter   5  #CD cycles 17\n",
      "iter   6  #CD cycles 6\n",
      "iter   7  #CD cycles 4\n",
      "iter   8  #CD cycles 2\n",
      "iter   9  #CD cycles 1\n",
      "iter  10  #CD cycles 26\n",
      "iter  11  #CD cycles 7\n",
      "iter  12  #CD cycles 3\n",
      "iter  13  #CD cycles 4\n",
      "iter  14  #CD cycles 3\n",
      "iter  15  #CD cycles 2\n",
      "iter  16  #CD cycles 2\n",
      "iter  17  #CD cycles 2\n",
      "iter  18  #CD cycles 1\n",
      "iter  19  #CD cycles 77\n",
      "iter  20  #CD cycles 10\n",
      "iter  21  #CD cycles 7\n",
      "iter  22  #CD cycles 1\n",
      "iter  23  #CD cycles 174\n",
      "iter  24  #CD cycles 44\n",
      "iter  25  #CD cycles 46\n",
      "iter  26  #CD cycles 20\n",
      "iter  27  #CD cycles 2\n",
      "iter  28  #CD cycles 1\n",
      "iter  29  #CD cycles 153\n",
      "iter  30  #CD cycles 85\n",
      "iter  31  #CD cycles 18\n",
      "=========================\n",
      "optimization finished, #iter = 31\n",
      "Objective value = 11724.161215\n",
      "#nonzeros/#features = 14/14\n"
     ]
    },
    {
     "data": {
      "text/plain": [
       "LogisticRegression(C=10, max_iter=50, multi_class='ovr', n_jobs=1, penalty='l1',\n",
       "                   random_state=100, solver='liblinear', verbose=1)"
      ]
     },
     "execution_count": 12,
     "metadata": {},
     "output_type": "execute_result"
    }
   ],
   "source": [
    "from sklearn.linear_model import LogisticRegression\n",
    "\n",
    "model = LogisticRegression(C=10, class_weight=None, dual=False, fit_intercept=True,\\\n",
    "                           intercept_scaling=1, max_iter=50, multi_class='ovr', n_jobs=1,\\\n",
    "                           penalty='l1', random_state=100, solver='liblinear', tol=0.0001,\\\n",
    "                           verbose=1, warm_start=False)\n",
    "\n",
    "model.fit(x_train, y_train)"
   ]
  },
  {
   "cell_type": "code",
   "execution_count": 13,
   "id": "0140c5b0",
   "metadata": {},
   "outputs": [
    {
     "data": {
      "text/plain": [
       "0.8642666666666666"
      ]
     },
     "execution_count": 13,
     "metadata": {},
     "output_type": "execute_result"
    }
   ],
   "source": [
    "model.score(x_train, y_train)"
   ]
  },
  {
   "cell_type": "code",
   "execution_count": 14,
   "id": "bf08ee71",
   "metadata": {},
   "outputs": [
    {
     "data": {
      "text/plain": [
       "0.8552"
      ]
     },
     "execution_count": 14,
     "metadata": {},
     "output_type": "execute_result"
    }
   ],
   "source": [
    "model.score(x_valid, y_valid)"
   ]
  },
  {
   "cell_type": "code",
   "execution_count": 15,
   "id": "700fd3a8",
   "metadata": {},
   "outputs": [
    {
     "data": {
      "text/plain": [
       "array([-8.22098905])"
      ]
     },
     "execution_count": 15,
     "metadata": {},
     "output_type": "execute_result"
    }
   ],
   "source": [
    "model.intercept_ # the fitted intercept"
   ]
  },
  {
   "cell_type": "code",
   "execution_count": 16,
   "id": "2250210e",
   "metadata": {},
   "outputs": [
    {
     "data": {
      "text/plain": [
       "array([[ 7.57934915e-04,  2.24233264e+00, -2.39149594e+00,\n",
       "         4.07612096e-02,  4.59837435e-03,  7.50903175e-02,\n",
       "        -1.41765029e-03,  7.08117993e-02, -6.98138152e-04,\n",
       "         8.31872520e-02, -7.69738545e-02,  2.95644321e-01,\n",
       "         5.58061799e-01]])"
      ]
     },
     "execution_count": 16,
     "metadata": {},
     "output_type": "execute_result"
    }
   ],
   "source": [
    "model.coef_  # the fitted coefficients\n"
   ]
  },
  {
   "cell_type": "code",
   "execution_count": null,
   "id": "9ff43525",
   "metadata": {},
   "outputs": [],
   "source": []
  },
  {
   "cell_type": "code",
   "execution_count": 9,
   "id": "3dca6d58",
   "metadata": {},
   "outputs": [],
   "source": [
    "import pandas as pd\n",
    "import numpy as np\n",
    "import statsmodels.api as sm\n",
    "import scipy.stats as st\n",
    "import matplotlib.pyplot as plt\n",
    "import seaborn as sn\n",
    "from sklearn.metrics import confusion_matrix\n",
    "import matplotlib.mlab as mlab\n",
    "%matplotlib inline\n",
    "\n",
    "\n",
    "import warnings\n",
    "\n",
    "warnings.simplefilter(action='ignore', category=FutureWarning)"
   ]
  },
  {
   "cell_type": "code",
   "execution_count": 11,
   "id": "b035c764",
   "metadata": {},
   "outputs": [
    {
     "name": "stdout",
     "output_type": "stream",
     "text": [
      "RUNNING THE L-BFGS-B CODE\n",
      "\n",
      "           * * *\n",
      "\n",
      "Machine precision = 2.220D-16\n",
      " N =           13     M =           10\n",
      "\n",
      "At X0         0 variables are exactly at the bounds\n",
      "\n",
      "At iterate    0    f=  6.93147D-01    |proj g|=  3.58725D+01\n",
      "\n",
      "At iterate    1    f=  4.58881D-01    |proj g|=  8.73452D+00\n",
      "\n",
      "At iterate    2    f=  4.24712D-01    |proj g|=  5.21717D+00\n",
      "\n",
      "At iterate    3    f=  4.16116D-01    |proj g|=  3.21182D+00\n",
      "\n",
      "At iterate    4    f=  4.12982D-01    |proj g|=  9.11255D-01\n",
      "\n",
      "At iterate    5    f=  4.12744D-01    |proj g|=  5.44016D-01\n",
      "\n",
      "At iterate    6    f=  4.12144D-01    |proj g|=  8.35043D-01\n",
      "\n",
      "At iterate    7    f=  4.11041D-01    |proj g|=  1.41998D+00\n",
      "\n",
      "At iterate    8    f=  4.09032D-01    |proj g|=  1.86447D+00\n",
      "\n",
      "At iterate    9    f=  4.06589D-01    |proj g|=  1.92479D+00\n",
      "\n",
      "At iterate   10    f=  4.03267D-01    |proj g|=  1.30328D+00\n",
      "\n",
      "At iterate   11    f=  3.99582D-01    |proj g|=  8.96423D-01\n",
      "\n",
      "At iterate   12    f=  3.97153D-01    |proj g|=  1.49983D+00\n",
      "\n",
      "At iterate   13    f=  3.94521D-01    |proj g|=  1.47576D+00\n",
      "\n",
      "At iterate   14    f=  3.92470D-01    |proj g|=  9.13428D-01\n",
      "\n",
      "At iterate   15    f=  3.92040D-01    |proj g|=  3.74220D-01\n",
      "\n",
      "At iterate   16    f=  3.91904D-01    |proj g|=  3.09879D-01\n",
      "\n",
      "At iterate   17    f=  3.91662D-01    |proj g|=  2.55795D-01\n",
      "\n",
      "At iterate   18    f=  3.91117D-01    |proj g|=  4.38679D-01\n",
      "\n",
      "At iterate   19    f=  3.90727D-01    |proj g|=  3.37091D-01\n",
      "\n",
      "At iterate   20    f=  3.90366D-01    |proj g|=  2.92146D-01\n",
      "\n",
      "At iterate   21    f=  3.89491D-01    |proj g|=  2.34063D-01\n",
      "\n",
      "At iterate   22    f=  3.88937D-01    |proj g|=  2.33924D-01\n",
      "\n",
      "At iterate   23    f=  3.87640D-01    |proj g|=  6.54107D-01\n",
      "\n",
      "At iterate   24    f=  3.84172D-01    |proj g|=  1.54814D+00\n",
      "\n",
      "At iterate   25    f=  3.78787D-01    |proj g|=  1.18597D+00\n",
      "\n",
      "At iterate   26    f=  3.75882D-01    |proj g|=  2.19781D+00\n",
      "\n",
      "At iterate   27    f=  3.71973D-01    |proj g|=  6.86675D-01\n",
      "\n",
      "At iterate   28    f=  3.71130D-01    |proj g|=  1.70674D-01\n",
      "\n",
      "At iterate   29    f=  3.70979D-01    |proj g|=  1.70724D-01\n",
      "\n",
      "At iterate   30    f=  3.70819D-01    |proj g|=  5.44524D-01\n",
      "\n",
      "At iterate   31    f=  3.70591D-01    |proj g|=  2.43947D-01\n",
      "\n",
      "At iterate   32    f=  3.70449D-01    |proj g|=  2.24926D-01\n",
      "\n",
      "At iterate   33    f=  3.70403D-01    |proj g|=  2.63722D-01\n",
      "\n",
      "At iterate   34    f=  3.70294D-01    |proj g|=  1.63469D-01\n",
      "\n",
      "At iterate   35    f=  3.70204D-01    |proj g|=  1.31038D-01\n",
      "\n",
      "           * * *\n",
      "\n",
      "Tit   = total number of iterations\n",
      "Tnf   = total number of function evaluations\n",
      "Tnint = total number of segments explored during Cauchy searches\n",
      "Skip  = number of BFGS updates skipped\n",
      "Nact  = number of active bounds at final generalized Cauchy point\n",
      "Projg = norm of the final projected gradient\n",
      "F     = final function value\n",
      "\n",
      "           * * *\n",
      "\n",
      "   N    Tit     Tnf  Tnint  Skip  Nact     Projg        F\n",
      "   13     35     41      1     0     0   1.310D-01   3.702D-01\n",
      "  F =  0.37020412896464849     \n",
      "\n",
      "STOP: TOTAL NO. of ITERATIONS REACHED LIMIT                 \n"
     ]
    },
    {
     "name": "stderr",
     "output_type": "stream",
     "text": [
      " This problem is unconstrained.\n",
      "/home/mcc/anaconda3/lib/python3.9/site-packages/statsmodels/base/model.py:604: ConvergenceWarning: Maximum Likelihood optimization failed to converge. Check mle_retvals\n",
      "  warnings.warn(\"Maximum Likelihood optimization failed to \"\n"
     ]
    },
    {
     "data": {
      "text/html": [
       "<table class=\"simpletable\">\n",
       "<caption>Logit Regression Results</caption>\n",
       "<tr>\n",
       "  <th>Dep. Variable:</th>        <td>Churned</td>     <th>  No. Observations:  </th>  <td>  3750</td>  \n",
       "</tr>\n",
       "<tr>\n",
       "  <th>Model:</th>                 <td>Logit</td>      <th>  Df Residuals:      </th>  <td>  3737</td>  \n",
       "</tr>\n",
       "<tr>\n",
       "  <th>Method:</th>                 <td>MLE</td>       <th>  Df Model:          </th>  <td>    12</td>  \n",
       "</tr>\n",
       "<tr>\n",
       "  <th>Date:</th>            <td>Wed, 28 Dec 2022</td> <th>  Pseudo R-squ.:     </th>  <td>0.09339</td> \n",
       "</tr>\n",
       "<tr>\n",
       "  <th>Time:</th>                <td>15:03:41</td>     <th>  Log-Likelihood:    </th> <td> -1388.3</td> \n",
       "</tr>\n",
       "<tr>\n",
       "  <th>converged:</th>             <td>False</td>      <th>  LL-Null:           </th> <td> -1531.3</td> \n",
       "</tr>\n",
       "<tr>\n",
       "  <th>Covariance Type:</th>     <td>nonrobust</td>    <th>  LLR p-value:       </th> <td>4.060e-54</td>\n",
       "</tr>\n",
       "</table>\n",
       "<table class=\"simpletable\">\n",
       "<tr>\n",
       "        <td></td>           <th>coef</th>     <th>std err</th>      <th>z</th>      <th>P>|z|</th>  <th>[0.025</th>    <th>0.975]</th>  \n",
       "</tr>\n",
       "<tr>\n",
       "  <th>Act_Len</th>       <td>   -0.0019</td> <td>    0.001</td> <td>   -1.570</td> <td> 0.116</td> <td>   -0.004</td> <td>    0.000</td>\n",
       "</tr>\n",
       "<tr>\n",
       "  <th>Int_Plan</th>      <td>    0.0958</td> <td>    0.162</td> <td>    0.591</td> <td> 0.555</td> <td>   -0.222</td> <td>    0.414</td>\n",
       "</tr>\n",
       "<tr>\n",
       "  <th>VM_Plan</th>       <td>   -0.0105</td> <td>    0.431</td> <td>   -0.024</td> <td> 0.981</td> <td>   -0.856</td> <td>    0.835</td>\n",
       "</tr>\n",
       "<tr>\n",
       "  <th>Num_VM</th>        <td>   -0.0293</td> <td>    0.015</td> <td>   -1.992</td> <td> 0.046</td> <td>   -0.058</td> <td>   -0.000</td>\n",
       "</tr>\n",
       "<tr>\n",
       "  <th>T_D_Calls</th>     <td>   -0.0077</td> <td>    0.002</td> <td>   -3.452</td> <td> 0.001</td> <td>   -0.012</td> <td>   -0.003</td>\n",
       "</tr>\n",
       "<tr>\n",
       "  <th>T_D_Charge</th>    <td>    0.0483</td> <td>    0.005</td> <td>    9.157</td> <td> 0.000</td> <td>    0.038</td> <td>    0.059</td>\n",
       "</tr>\n",
       "<tr>\n",
       "  <th>T_E_Calls</th>     <td>   -0.0121</td> <td>    0.002</td> <td>   -5.423</td> <td> 0.000</td> <td>   -0.016</td> <td>   -0.008</td>\n",
       "</tr>\n",
       "<tr>\n",
       "  <th>T_E_Charge</th>    <td>    0.0513</td> <td>    0.011</td> <td>    4.719</td> <td> 0.000</td> <td>    0.030</td> <td>    0.073</td>\n",
       "</tr>\n",
       "<tr>\n",
       "  <th>T_N_Calls</th>     <td>   -0.0138</td> <td>    0.002</td> <td>   -6.190</td> <td> 0.000</td> <td>   -0.018</td> <td>   -0.009</td>\n",
       "</tr>\n",
       "<tr>\n",
       "  <th>T_N_Charge</th>    <td>   -0.0386</td> <td>    0.020</td> <td>   -1.936</td> <td> 0.053</td> <td>   -0.078</td> <td>    0.000</td>\n",
       "</tr>\n",
       "<tr>\n",
       "  <th>T_I_Calls</th>     <td>   -0.1830</td> <td>    0.024</td> <td>   -7.726</td> <td> 0.000</td> <td>   -0.229</td> <td>   -0.137</td>\n",
       "</tr>\n",
       "<tr>\n",
       "  <th>T_I_Charge</th>    <td>    0.0092</td> <td>    0.061</td> <td>    0.150</td> <td> 0.881</td> <td>   -0.111</td> <td>    0.129</td>\n",
       "</tr>\n",
       "<tr>\n",
       "  <th>Num_Srv_Calls</th> <td>    0.3241</td> <td>    0.034</td> <td>    9.626</td> <td> 0.000</td> <td>    0.258</td> <td>    0.390</td>\n",
       "</tr>\n",
       "</table>"
      ],
      "text/plain": [
       "<class 'statsmodels.iolib.summary.Summary'>\n",
       "\"\"\"\n",
       "                           Logit Regression Results                           \n",
       "==============================================================================\n",
       "Dep. Variable:                Churned   No. Observations:                 3750\n",
       "Model:                          Logit   Df Residuals:                     3737\n",
       "Method:                           MLE   Df Model:                           12\n",
       "Date:                Wed, 28 Dec 2022   Pseudo R-squ.:                 0.09339\n",
       "Time:                        15:03:41   Log-Likelihood:                -1388.3\n",
       "converged:                      False   LL-Null:                       -1531.3\n",
       "Covariance Type:            nonrobust   LLR p-value:                 4.060e-54\n",
       "=================================================================================\n",
       "                    coef    std err          z      P>|z|      [0.025      0.975]\n",
       "---------------------------------------------------------------------------------\n",
       "Act_Len          -0.0019      0.001     -1.570      0.116      -0.004       0.000\n",
       "Int_Plan          0.0958      0.162      0.591      0.555      -0.222       0.414\n",
       "VM_Plan          -0.0105      0.431     -0.024      0.981      -0.856       0.835\n",
       "Num_VM           -0.0293      0.015     -1.992      0.046      -0.058      -0.000\n",
       "T_D_Calls        -0.0077      0.002     -3.452      0.001      -0.012      -0.003\n",
       "T_D_Charge        0.0483      0.005      9.157      0.000       0.038       0.059\n",
       "T_E_Calls        -0.0121      0.002     -5.423      0.000      -0.016      -0.008\n",
       "T_E_Charge        0.0513      0.011      4.719      0.000       0.030       0.073\n",
       "T_N_Calls        -0.0138      0.002     -6.190      0.000      -0.018      -0.009\n",
       "T_N_Charge       -0.0386      0.020     -1.936      0.053      -0.078       0.000\n",
       "T_I_Calls        -0.1830      0.024     -7.726      0.000      -0.229      -0.137\n",
       "T_I_Charge        0.0092      0.061      0.150      0.881      -0.111       0.129\n",
       "Num_Srv_Calls     0.3241      0.034      9.626      0.000       0.258       0.390\n",
       "=================================================================================\n",
       "\"\"\""
      ]
     },
     "execution_count": 11,
     "metadata": {},
     "output_type": "execute_result"
    }
   ],
   "source": [
    "np.seterr(divide = 'ignore') \n",
    "\n",
    "model = sm.Logit(y_train, x_train)\n",
    "result = model.fit(method='lbfgs', max_iterations= 2000)#  fit_regularized()\n",
    "result.summary()"
   ]
  },
  {
   "cell_type": "code",
   "execution_count": null,
   "id": "4bdb689a",
   "metadata": {},
   "outputs": [],
   "source": []
  }
 ],
 "metadata": {
  "kernelspec": {
   "display_name": "Python 3 (ipykernel)",
   "language": "python",
   "name": "python3"
  },
  "language_info": {
   "codemirror_mode": {
    "name": "ipython",
    "version": 3
   },
   "file_extension": ".py",
   "mimetype": "text/x-python",
   "name": "python",
   "nbconvert_exporter": "python",
   "pygments_lexer": "ipython3",
   "version": "3.9.13"
  },
  "toc": {
   "base_numbering": 1,
   "nav_menu": {},
   "number_sections": true,
   "sideBar": true,
   "skip_h1_title": true,
   "title_cell": "Table of Contents",
   "title_sidebar": "Contents",
   "toc_cell": true,
   "toc_position": {},
   "toc_section_display": true,
   "toc_window_display": false
  }
 },
 "nbformat": 4,
 "nbformat_minor": 5
}
