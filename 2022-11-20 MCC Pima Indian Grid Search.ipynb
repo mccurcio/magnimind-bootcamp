{
 "cells": [
  {
   "cell_type": "markdown",
   "id": "71eab934",
   "metadata": {},
   "source": [
    "**Title**: 2022-11-20 ML Pima Indian Data 2\n",
    "\n",
    "**To**:&nbsp;&nbsp;&nbsp;&nbsp; Magnimind\n",
    "\n",
    "**From**: Matt Curcio, matt.curcio.ri@gmail.com\n",
    "\n",
    "**Date**: 2022-11-20\n",
    "\n",
    "**Re**:&nbsp;&nbsp;&nbsp; Pima Indian Data Diabetes Modeling With Grid Search\n"
   ]
  },
  {
   "cell_type": "markdown",
   "id": "d3f69e81",
   "metadata": {
    "toc": true
   },
   "source": [
    "<h1>Table of Contents<span class=\"tocSkip\"></span></h1>\n",
    "<div class=\"toc\"><ul class=\"toc-item\"><li><span><a href=\"#Pima-Indian-Data-Modeling-With-Grid-Search\" data-toc-modified-id=\"Pima-Indian-Data-Modeling-With-Grid-Search-1\"><span class=\"toc-item-num\">1&nbsp;&nbsp;</span>Pima Indian Data Modeling With Grid Search</a></span><ul class=\"toc-item\"><li><span><a href=\"#Initial-Data-Analysis\" data-toc-modified-id=\"Initial-Data-Analysis-1.1\"><span class=\"toc-item-num\">1.1&nbsp;&nbsp;</span>Initial Data Analysis</a></span></li><li><span><a href=\"#Descriptive-statistics\" data-toc-modified-id=\"Descriptive-statistics-1.2\"><span class=\"toc-item-num\">1.2&nbsp;&nbsp;</span>Descriptive statistics</a></span></li><li><span><a href=\"#Draw-histograms-of-the-10-data-attributes\" data-toc-modified-id=\"Draw-histograms-of-the-10-data-attributes-1.3\"><span class=\"toc-item-num\">1.3&nbsp;&nbsp;</span>Draw histograms of the 10 data attributes</a></span></li><li><span><a href=\"#Running-The-K-Nearest-Neighbor-Classifier\" data-toc-modified-id=\"Running-The-K-Nearest-Neighbor-Classifier-1.4\"><span class=\"toc-item-num\">1.4&nbsp;&nbsp;</span>Running The K-Nearest Neighbor Classifier</a></span></li><li><span><a href=\"#Grid-Search\" data-toc-modified-id=\"Grid-Search-1.5\"><span class=\"toc-item-num\">1.5&nbsp;&nbsp;</span>Grid Search</a></span></li><li><span><a href=\"#Graphical-Presentation-of-K-NN-vs-Score\" data-toc-modified-id=\"Graphical-Presentation-of-K-NN-vs-Score-1.6\"><span class=\"toc-item-num\">1.6&nbsp;&nbsp;</span>Graphical Presentation of K-NN vs Score</a></span></li></ul></li></ul></div>"
   ]
  },
  {
   "cell_type": "markdown",
   "id": "3a836b76",
   "metadata": {},
   "source": [
    "## Pima Indian Data Modeling With Grid Search\n",
    "\n",
    "### Initial Data Analysis\n",
    "\n",
    "The Pima Indians reside in central and southern Arizona, as well as northwestern Mexico in the states of Sonora and Chihuahua.\n",
    "\n",
    "| <img src=\"https://unityinc.org/wp-content/uploads/2020/01/20200104_180119-1-1568x1176.jpg\" alt='Salt River Pima-Maricopa Indian Community youth council members' width=\"400\"/> |\n",
    "|:--:|\n",
    "| <b>Salt River Pima-Maricopa Indian Community youth council members</b> |\n",
    "\n",
    "The Pima Indians Diabetes Onset dataset is a standard machine learning dataset available for free download from the UCI Machine Learning repository. It describes a portion of patient medical record data for Pima Indians and whether they had an onset of diabetes within five years. It is a binary classification problem (onset of diabetes as 1 or not as 0).\n",
    "\n",
    "- NTP: Number times pregnant.\n",
    "- PGC: Plasma glucose concentration post 2 hours in an oral glucose tolerance test. \n",
    "- DBP: Diastolic blood pressure (mm Hg).\n",
    "- TSFT: Triceps skin fold thickness (mm).\n",
    "- 2hSI: 2-Hour serum insulin (mu U/ml).\n",
    "- BMI: Body mass index.\n",
    "- DPF: Diabetes pedigree function.\n",
    "- Age: Age (years).\n",
    "- OnDiab: Class, onset of diabetes within five years."
   ]
  },
  {
   "cell_type": "code",
   "execution_count": 1,
   "id": "3605e3dc",
   "metadata": {},
   "outputs": [
    {
     "name": "stdout",
     "output_type": "stream",
     "text": [
      "Extracted all\n"
     ]
    }
   ],
   "source": [
    "import zipfile\n",
    "import numpy as np\n",
    "import pandas as pd\n",
    "import matplotlib.pyplot as plt\n",
    "from scipy.stats import norm\n",
    "import scipy.stats as stats\n",
    "%matplotlib inline\n",
    "\n",
    "from sklearn.model_selection import train_test_split\n",
    "from sklearn.preprocessing import scale\n",
    "from sklearn.model_selection import cross_val_score\n",
    "from sklearn.model_selection import GridSearchCV\n",
    "from sklearn.neighbors import KNeighborsClassifier\n",
    "\n",
    "\n",
    "zip_file = \"archive.zip\"\n",
    "\n",
    "try:\n",
    "    with zipfile.ZipFile(zip_file) as z:\n",
    "        z.extractall()\n",
    "        print(\"Extracted all\")\n",
    "except:\n",
    "    print(\"Zip file corrupt\")\n"
   ]
  },
  {
   "cell_type": "code",
   "execution_count": 2,
   "id": "a50133f7",
   "metadata": {},
   "outputs": [
    {
     "name": "stdout",
     "output_type": "stream",
     "text": [
      "'2022-11-20 ML Pima Indian Data 2.ipynb'   auto-mpg.csv\r\n",
      "'2022-NOT DONE ML No.1.ipynb'\t\t   pima-indians-diabetes.csv\r\n",
      " archive.zip\r\n"
     ]
    }
   ],
   "source": [
    "!ls  "
   ]
  },
  {
   "cell_type": "code",
   "execution_count": 3,
   "id": "9bd8d3d9",
   "metadata": {},
   "outputs": [
    {
     "name": "stdout",
     "output_type": "stream",
     "text": [
      "<class 'pandas.core.frame.DataFrame'>\n",
      "RangeIndex: 768 entries, 0 to 767\n",
      "Data columns (total 9 columns):\n",
      " #   Column  Non-Null Count  Dtype  \n",
      "---  ------  --------------  -----  \n",
      " 0   NTP     768 non-null    int64  \n",
      " 1   PGC     768 non-null    int64  \n",
      " 2   DBP     768 non-null    int64  \n",
      " 3   TSFT    768 non-null    int64  \n",
      " 4   2hSI    768 non-null    int64  \n",
      " 5   BMI     768 non-null    float64\n",
      " 6   DPF     768 non-null    float64\n",
      " 7   Age     768 non-null    int64  \n",
      " 8   OnDiab  768 non-null    int64  \n",
      "dtypes: float64(2), int64(7)\n",
      "memory usage: 54.1 KB\n",
      "\n",
      "Dataframe dimensions:  768 Observations & 9 features.\n",
      "\n",
      "********************\n"
     ]
    }
   ],
   "source": [
    "filename = 'pima-indians-diabetes.csv'\n",
    "\n",
    "df = pd.read_csv(filename, header=None)\n",
    "df.columns = ['NTP', 'PGC','DBP','TSFT','2hSI','BMI','DPF','Age','OnDiab']\n",
    "\n",
    "df.info()\n",
    "\n",
    "print('\\nDataframe dimensions: ',\n",
    "      df.shape[0], 'Observations &', df.shape[1], 'features.\\n')\n",
    "print('*'*20)"
   ]
  },
  {
   "cell_type": "markdown",
   "id": "37c8c297",
   "metadata": {},
   "source": [
    "**NOTE 1**: I find `.info()` to the most efficient method for extracting the basic characteristics. Therefore I will not use the individual commands for `.shape`, `.column` names, and data types."
   ]
  },
  {
   "cell_type": "code",
   "execution_count": 4,
   "id": "932d5445",
   "metadata": {},
   "outputs": [
    {
     "data": {
      "text/html": [
       "<div>\n",
       "<style scoped>\n",
       "    .dataframe tbody tr th:only-of-type {\n",
       "        vertical-align: middle;\n",
       "    }\n",
       "\n",
       "    .dataframe tbody tr th {\n",
       "        vertical-align: top;\n",
       "    }\n",
       "\n",
       "    .dataframe thead th {\n",
       "        text-align: right;\n",
       "    }\n",
       "</style>\n",
       "<table border=\"1\" class=\"dataframe\">\n",
       "  <thead>\n",
       "    <tr style=\"text-align: right;\">\n",
       "      <th></th>\n",
       "      <th>NTP</th>\n",
       "      <th>PGC</th>\n",
       "      <th>DBP</th>\n",
       "      <th>TSFT</th>\n",
       "      <th>2hSI</th>\n",
       "      <th>BMI</th>\n",
       "      <th>DPF</th>\n",
       "      <th>Age</th>\n",
       "      <th>OnDiab</th>\n",
       "    </tr>\n",
       "  </thead>\n",
       "  <tbody>\n",
       "    <tr>\n",
       "      <th>0</th>\n",
       "      <td>6</td>\n",
       "      <td>148</td>\n",
       "      <td>72</td>\n",
       "      <td>35</td>\n",
       "      <td>0</td>\n",
       "      <td>33.6</td>\n",
       "      <td>0.627</td>\n",
       "      <td>50</td>\n",
       "      <td>1</td>\n",
       "    </tr>\n",
       "    <tr>\n",
       "      <th>1</th>\n",
       "      <td>1</td>\n",
       "      <td>85</td>\n",
       "      <td>66</td>\n",
       "      <td>29</td>\n",
       "      <td>0</td>\n",
       "      <td>26.6</td>\n",
       "      <td>0.351</td>\n",
       "      <td>31</td>\n",
       "      <td>0</td>\n",
       "    </tr>\n",
       "    <tr>\n",
       "      <th>2</th>\n",
       "      <td>8</td>\n",
       "      <td>183</td>\n",
       "      <td>64</td>\n",
       "      <td>0</td>\n",
       "      <td>0</td>\n",
       "      <td>23.3</td>\n",
       "      <td>0.672</td>\n",
       "      <td>32</td>\n",
       "      <td>1</td>\n",
       "    </tr>\n",
       "    <tr>\n",
       "      <th>3</th>\n",
       "      <td>1</td>\n",
       "      <td>89</td>\n",
       "      <td>66</td>\n",
       "      <td>23</td>\n",
       "      <td>94</td>\n",
       "      <td>28.1</td>\n",
       "      <td>0.167</td>\n",
       "      <td>21</td>\n",
       "      <td>0</td>\n",
       "    </tr>\n",
       "    <tr>\n",
       "      <th>4</th>\n",
       "      <td>0</td>\n",
       "      <td>137</td>\n",
       "      <td>40</td>\n",
       "      <td>35</td>\n",
       "      <td>168</td>\n",
       "      <td>43.1</td>\n",
       "      <td>2.288</td>\n",
       "      <td>33</td>\n",
       "      <td>1</td>\n",
       "    </tr>\n",
       "    <tr>\n",
       "      <th>5</th>\n",
       "      <td>5</td>\n",
       "      <td>116</td>\n",
       "      <td>74</td>\n",
       "      <td>0</td>\n",
       "      <td>0</td>\n",
       "      <td>25.6</td>\n",
       "      <td>0.201</td>\n",
       "      <td>30</td>\n",
       "      <td>0</td>\n",
       "    </tr>\n",
       "    <tr>\n",
       "      <th>6</th>\n",
       "      <td>3</td>\n",
       "      <td>78</td>\n",
       "      <td>50</td>\n",
       "      <td>32</td>\n",
       "      <td>88</td>\n",
       "      <td>31.0</td>\n",
       "      <td>0.248</td>\n",
       "      <td>26</td>\n",
       "      <td>1</td>\n",
       "    </tr>\n",
       "    <tr>\n",
       "      <th>7</th>\n",
       "      <td>10</td>\n",
       "      <td>115</td>\n",
       "      <td>0</td>\n",
       "      <td>0</td>\n",
       "      <td>0</td>\n",
       "      <td>35.3</td>\n",
       "      <td>0.134</td>\n",
       "      <td>29</td>\n",
       "      <td>0</td>\n",
       "    </tr>\n",
       "    <tr>\n",
       "      <th>8</th>\n",
       "      <td>2</td>\n",
       "      <td>197</td>\n",
       "      <td>70</td>\n",
       "      <td>45</td>\n",
       "      <td>543</td>\n",
       "      <td>30.5</td>\n",
       "      <td>0.158</td>\n",
       "      <td>53</td>\n",
       "      <td>1</td>\n",
       "    </tr>\n",
       "    <tr>\n",
       "      <th>9</th>\n",
       "      <td>8</td>\n",
       "      <td>125</td>\n",
       "      <td>96</td>\n",
       "      <td>0</td>\n",
       "      <td>0</td>\n",
       "      <td>0.0</td>\n",
       "      <td>0.232</td>\n",
       "      <td>54</td>\n",
       "      <td>1</td>\n",
       "    </tr>\n",
       "  </tbody>\n",
       "</table>\n",
       "</div>"
      ],
      "text/plain": [
       "   NTP  PGC  DBP  TSFT  2hSI   BMI    DPF  Age  OnDiab\n",
       "0    6  148   72    35     0  33.6  0.627   50       1\n",
       "1    1   85   66    29     0  26.6  0.351   31       0\n",
       "2    8  183   64     0     0  23.3  0.672   32       1\n",
       "3    1   89   66    23    94  28.1  0.167   21       0\n",
       "4    0  137   40    35   168  43.1  2.288   33       1\n",
       "5    5  116   74     0     0  25.6  0.201   30       0\n",
       "6    3   78   50    32    88  31.0  0.248   26       1\n",
       "7   10  115    0     0     0  35.3  0.134   29       0\n",
       "8    2  197   70    45   543  30.5  0.158   53       1\n",
       "9    8  125   96     0     0   0.0  0.232   54       1"
      ]
     },
     "execution_count": 4,
     "metadata": {},
     "output_type": "execute_result"
    }
   ],
   "source": [
    "df.head(10)"
   ]
  },
  {
   "cell_type": "markdown",
   "id": "664915fe",
   "metadata": {},
   "source": [
    "### Descriptive statistics\n",
    "\n",
    "- Highly imbalanced data can cause problems. This common occurrence may need special handling in data preparation. You can quickly get an idea of the distribution of the `OnDiab` attribute in Pandas. \n",
    "\n",
    "\n",
    "- Grouped data by `OnDiab` attribute and used describe to count statistically describe the different variable attributes."
   ]
  },
  {
   "cell_type": "code",
   "execution_count": 5,
   "id": "82b8ef0a",
   "metadata": {},
   "outputs": [
    {
     "data": {
      "text/html": [
       "<div>\n",
       "<style scoped>\n",
       "    .dataframe tbody tr th:only-of-type {\n",
       "        vertical-align: middle;\n",
       "    }\n",
       "\n",
       "    .dataframe tbody tr th {\n",
       "        vertical-align: top;\n",
       "    }\n",
       "\n",
       "    .dataframe thead th {\n",
       "        text-align: right;\n",
       "    }\n",
       "</style>\n",
       "<table border=\"1\" class=\"dataframe\">\n",
       "  <thead>\n",
       "    <tr style=\"text-align: right;\">\n",
       "      <th></th>\n",
       "      <th>NTP</th>\n",
       "      <th>PGC</th>\n",
       "      <th>DBP</th>\n",
       "      <th>TSFT</th>\n",
       "      <th>2hSI</th>\n",
       "      <th>BMI</th>\n",
       "      <th>DPF</th>\n",
       "      <th>Age</th>\n",
       "      <th>OnDiab</th>\n",
       "    </tr>\n",
       "  </thead>\n",
       "  <tbody>\n",
       "    <tr>\n",
       "      <th>count</th>\n",
       "      <td>768.000000</td>\n",
       "      <td>768.000000</td>\n",
       "      <td>768.000000</td>\n",
       "      <td>768.000000</td>\n",
       "      <td>768.000000</td>\n",
       "      <td>768.000000</td>\n",
       "      <td>768.000000</td>\n",
       "      <td>768.000000</td>\n",
       "      <td>768.000000</td>\n",
       "    </tr>\n",
       "    <tr>\n",
       "      <th>mean</th>\n",
       "      <td>3.845052</td>\n",
       "      <td>120.894531</td>\n",
       "      <td>69.105469</td>\n",
       "      <td>20.536458</td>\n",
       "      <td>79.799479</td>\n",
       "      <td>31.992578</td>\n",
       "      <td>0.471876</td>\n",
       "      <td>33.240885</td>\n",
       "      <td>0.348958</td>\n",
       "    </tr>\n",
       "    <tr>\n",
       "      <th>std</th>\n",
       "      <td>3.369578</td>\n",
       "      <td>31.972618</td>\n",
       "      <td>19.355807</td>\n",
       "      <td>15.952218</td>\n",
       "      <td>115.244002</td>\n",
       "      <td>7.884160</td>\n",
       "      <td>0.331329</td>\n",
       "      <td>11.760232</td>\n",
       "      <td>0.476951</td>\n",
       "    </tr>\n",
       "    <tr>\n",
       "      <th>min</th>\n",
       "      <td>0.000000</td>\n",
       "      <td>0.000000</td>\n",
       "      <td>0.000000</td>\n",
       "      <td>0.000000</td>\n",
       "      <td>0.000000</td>\n",
       "      <td>0.000000</td>\n",
       "      <td>0.078000</td>\n",
       "      <td>21.000000</td>\n",
       "      <td>0.000000</td>\n",
       "    </tr>\n",
       "    <tr>\n",
       "      <th>25%</th>\n",
       "      <td>1.000000</td>\n",
       "      <td>99.000000</td>\n",
       "      <td>62.000000</td>\n",
       "      <td>0.000000</td>\n",
       "      <td>0.000000</td>\n",
       "      <td>27.300000</td>\n",
       "      <td>0.243750</td>\n",
       "      <td>24.000000</td>\n",
       "      <td>0.000000</td>\n",
       "    </tr>\n",
       "    <tr>\n",
       "      <th>50%</th>\n",
       "      <td>3.000000</td>\n",
       "      <td>117.000000</td>\n",
       "      <td>72.000000</td>\n",
       "      <td>23.000000</td>\n",
       "      <td>30.500000</td>\n",
       "      <td>32.000000</td>\n",
       "      <td>0.372500</td>\n",
       "      <td>29.000000</td>\n",
       "      <td>0.000000</td>\n",
       "    </tr>\n",
       "    <tr>\n",
       "      <th>75%</th>\n",
       "      <td>6.000000</td>\n",
       "      <td>140.250000</td>\n",
       "      <td>80.000000</td>\n",
       "      <td>32.000000</td>\n",
       "      <td>127.250000</td>\n",
       "      <td>36.600000</td>\n",
       "      <td>0.626250</td>\n",
       "      <td>41.000000</td>\n",
       "      <td>1.000000</td>\n",
       "    </tr>\n",
       "    <tr>\n",
       "      <th>max</th>\n",
       "      <td>17.000000</td>\n",
       "      <td>199.000000</td>\n",
       "      <td>122.000000</td>\n",
       "      <td>99.000000</td>\n",
       "      <td>846.000000</td>\n",
       "      <td>67.100000</td>\n",
       "      <td>2.420000</td>\n",
       "      <td>81.000000</td>\n",
       "      <td>1.000000</td>\n",
       "    </tr>\n",
       "  </tbody>\n",
       "</table>\n",
       "</div>"
      ],
      "text/plain": [
       "              NTP         PGC         DBP        TSFT        2hSI         BMI  \\\n",
       "count  768.000000  768.000000  768.000000  768.000000  768.000000  768.000000   \n",
       "mean     3.845052  120.894531   69.105469   20.536458   79.799479   31.992578   \n",
       "std      3.369578   31.972618   19.355807   15.952218  115.244002    7.884160   \n",
       "min      0.000000    0.000000    0.000000    0.000000    0.000000    0.000000   \n",
       "25%      1.000000   99.000000   62.000000    0.000000    0.000000   27.300000   \n",
       "50%      3.000000  117.000000   72.000000   23.000000   30.500000   32.000000   \n",
       "75%      6.000000  140.250000   80.000000   32.000000  127.250000   36.600000   \n",
       "max     17.000000  199.000000  122.000000   99.000000  846.000000   67.100000   \n",
       "\n",
       "              DPF         Age      OnDiab  \n",
       "count  768.000000  768.000000  768.000000  \n",
       "mean     0.471876   33.240885    0.348958  \n",
       "std      0.331329   11.760232    0.476951  \n",
       "min      0.078000   21.000000    0.000000  \n",
       "25%      0.243750   24.000000    0.000000  \n",
       "50%      0.372500   29.000000    0.000000  \n",
       "75%      0.626250   41.000000    1.000000  \n",
       "max      2.420000   81.000000    1.000000  "
      ]
     },
     "execution_count": 5,
     "metadata": {},
     "output_type": "execute_result"
    }
   ],
   "source": [
    "df.describe()"
   ]
  },
  {
   "cell_type": "code",
   "execution_count": 6,
   "id": "d718ec79",
   "metadata": {},
   "outputs": [
    {
     "name": "stdout",
     "output_type": "stream",
     "text": [
      "Occurrence counts for feature \"OnDiab\":\n"
     ]
    },
    {
     "data": {
      "text/plain": [
       "OnDiab\n",
       "0    500\n",
       "1    268\n",
       "dtype: int64"
      ]
     },
     "metadata": {},
     "output_type": "display_data"
    }
   ],
   "source": [
    "print('Occurrence counts for feature \"OnDiab\":')\n",
    "\n",
    "# count occurrences a particular column\n",
    "occur = df.groupby(['OnDiab']).size()\n",
    "\n",
    "# display occurrences of a particular column\n",
    "display(occur)"
   ]
  },
  {
   "cell_type": "markdown",
   "id": "6b34699c",
   "metadata": {},
   "source": [
    "**NOTE 2**: The dataset ratio for `OnDiab` is **1.96 False:1 True**."
   ]
  },
  {
   "cell_type": "markdown",
   "id": "e4b11edc",
   "metadata": {},
   "source": [
    "### Draw histograms of the 10 data attributes"
   ]
  },
  {
   "cell_type": "code",
   "execution_count": 7,
   "id": "151c47c8",
   "metadata": {},
   "outputs": [
    {
     "data": {
      "image/png": "[encoded data removed]",
      "text/plain": [
       "<Figure size 640x480 with 9 Axes>"
      ]
     },
     "metadata": {},
     "output_type": "display_data"
    }
   ],
   "source": [
    "hist = df.hist(bins=20)\n",
    "plt.tight_layout()"
   ]
  },
  {
   "cell_type": "markdown",
   "id": "f0ccd30a",
   "metadata": {},
   "source": [
    "**NOTE 3**: Investigation of the dataset statistics and the histograms there are more than a few zero values. In future modeling sessions imputation should be investigated to (PGC, DBP, TSFT, 2hSI, BMI, DPF and Age). Some or all of the features may benefit by using Imputation."
   ]
  },
  {
   "cell_type": "markdown",
   "id": "08f83499",
   "metadata": {},
   "source": [
    "### Running The K-Nearest Neighbor Classifier\n",
    "\n",
    "- Separate dataset into feature set (X) Vs. target variable Y=`OnDiab`\n",
    "- Split your dataset into train and test datasets, \n",
    "   - Set test size as 0.25\n",
    "   - Set the random seed top = 7\n",
    "   - Set a stratified split = y\n",
    "- Train KNearestNeighbor classifer on your train dataset\n",
    "    - Set number of neighbors to 5\n",
    "    - Print the score on the the test dataset. \n"
   ]
  },
  {
   "cell_type": "code",
   "execution_count": 8,
   "id": "9b914619",
   "metadata": {},
   "outputs": [
    {
     "data": {
      "text/plain": [
       "((768, 8), (768,))"
      ]
     },
     "execution_count": 8,
     "metadata": {},
     "output_type": "execute_result"
    }
   ],
   "source": [
    "# 1. Scaling of Parameters\n",
    "# 2. Separate X from Y\n",
    "\n",
    "x = scale(df.drop(['OnDiab'], axis=1))\n",
    "\n",
    "y = df.OnDiab\n",
    "\n",
    "x.shape, y.shape"
   ]
  },
  {
   "cell_type": "code",
   "execution_count": 9,
   "id": "b53690b3",
   "metadata": {},
   "outputs": [
    {
     "data": {
      "text/plain": [
       "((576, 8), (192, 8), (576,), (192,))"
      ]
     },
     "execution_count": 9,
     "metadata": {},
     "output_type": "execute_result"
    }
   ],
   "source": [
    "x_train, x_test, y_train, y_test = train_test_split(x, y, test_size=0.25, random_state=7, stratify=y)\n",
    "\n",
    "x_train.shape, x_test.shape, y_train.shape, y_test.shape"
   ]
  },
  {
   "cell_type": "code",
   "execution_count": 10,
   "id": "e71e3984",
   "metadata": {},
   "outputs": [
    {
     "name": "stdout",
     "output_type": "stream",
     "text": [
      "\n",
      "Pima Indian diabetes dataset scaled, split = 25%, knn = 5:\n",
      "\n",
      "Train KNN score = 0.828125\n",
      "\n",
      "Test KNN score = 0.75\n"
     ]
    }
   ],
   "source": [
    "knn = KNeighborsClassifier(n_neighbors=5)\n",
    "knn.fit(x_train, y_train)\n",
    "\n",
    "print('\\nPima Indian diabetes dataset scaled, split = 25%, knn = 5:')\n",
    "\n",
    "print('\\nTrain KNN score =', knn.score(x_train, y_train))\n",
    "print('\\nTest KNN score =',knn.score(x_test, y_test))"
   ]
  },
  {
   "cell_type": "markdown",
   "id": "fab4c08c",
   "metadata": {},
   "source": [
    "### Grid Search\n",
    "\n",
    "- Neighbors = 1 to 30, compute `GridSearchCV` for train dataset with kfold=10.\n",
    "- Print the best cross validation score\n",
    "- Print the best parameter\n",
    "- Print the test score"
   ]
  },
  {
   "cell_type": "code",
   "execution_count": 11,
   "id": "af0be7d7",
   "metadata": {},
   "outputs": [
    {
     "data": {
      "text/plain": [
       "GridSearchCV(cv=10, estimator=KNeighborsClassifier(),\n",
       "             param_grid={'n_neighbors': array([ 1,  3,  5,  7,  9, 11, 13, 15, 17, 19, 21, 23, 25, 27, 29])},\n",
       "             return_train_score=True)"
      ]
     },
     "execution_count": 11,
     "metadata": {},
     "output_type": "execute_result"
    }
   ],
   "source": [
    "# Grid Search\n",
    "param_grid = {'n_neighbors': np.arange(1, 30, 2)}\n",
    "\n",
    "grid = GridSearchCV(KNeighborsClassifier(), \\\n",
    "                    param_grid=param_grid, \\\n",
    "                    cv=10, \\\n",
    "                    return_train_score=True)\n",
    "\n",
    "# Split and scaled data were reused from step 4\n",
    "\n",
    "grid.fit(x_train, y_train)"
   ]
  },
  {
   "cell_type": "code",
   "execution_count": 12,
   "id": "1475b7d9",
   "metadata": {},
   "outputs": [
    {
     "name": "stdout",
     "output_type": "stream",
     "text": [
      "\n",
      "Using KN=[ 1,  3,  5,  7,  9, 11, 13, 15, 17, 19, 21, 23, 25, 27, 29]\n",
      "\n",
      "Best Grid Scored = 0.7569570477918935\n",
      "\n",
      "Best Grid Parameter = {'n_neighbors': 27}\n"
     ]
    }
   ],
   "source": [
    "print('\\nUsing KN=[ 1,  3,  5,  7,  9, 11, 13, 15, 17, 19, 21, 23, 25, 27, 29]')\n",
    "print('\\nBest Grid Scored =', grid.best_score_)\n",
    "print('\\nBest Grid Parameter =', grid.best_params_)"
   ]
  },
  {
   "cell_type": "code",
   "execution_count": 13,
   "id": "fe1a6e71",
   "metadata": {
    "scrolled": true
   },
   "outputs": [
    {
     "data": {
      "text/html": [
       "<div>\n",
       "<style scoped>\n",
       "    .dataframe tbody tr th:only-of-type {\n",
       "        vertical-align: middle;\n",
       "    }\n",
       "\n",
       "    .dataframe tbody tr th {\n",
       "        vertical-align: top;\n",
       "    }\n",
       "\n",
       "    .dataframe thead th {\n",
       "        text-align: right;\n",
       "    }\n",
       "</style>\n",
       "<table border=\"1\" class=\"dataframe\">\n",
       "  <thead>\n",
       "    <tr style=\"text-align: right;\">\n",
       "      <th></th>\n",
       "      <th>mean_fit_time</th>\n",
       "      <th>std_fit_time</th>\n",
       "      <th>mean_score_time</th>\n",
       "      <th>std_score_time</th>\n",
       "      <th>param_n_neighbors</th>\n",
       "      <th>params</th>\n",
       "      <th>split0_test_score</th>\n",
       "      <th>split1_test_score</th>\n",
       "      <th>split2_test_score</th>\n",
       "      <th>split3_test_score</th>\n",
       "      <th>...</th>\n",
       "      <th>split2_train_score</th>\n",
       "      <th>split3_train_score</th>\n",
       "      <th>split4_train_score</th>\n",
       "      <th>split5_train_score</th>\n",
       "      <th>split6_train_score</th>\n",
       "      <th>split7_train_score</th>\n",
       "      <th>split8_train_score</th>\n",
       "      <th>split9_train_score</th>\n",
       "      <th>mean_train_score</th>\n",
       "      <th>std_train_score</th>\n",
       "    </tr>\n",
       "  </thead>\n",
       "  <tbody>\n",
       "    <tr>\n",
       "      <th>0</th>\n",
       "      <td>0.001232</td>\n",
       "      <td>0.000679</td>\n",
       "      <td>0.002608</td>\n",
       "      <td>0.001232</td>\n",
       "      <td>1</td>\n",
       "      <td>{'n_neighbors': 1}</td>\n",
       "      <td>0.724138</td>\n",
       "      <td>0.637931</td>\n",
       "      <td>0.637931</td>\n",
       "      <td>0.741379</td>\n",
       "      <td>...</td>\n",
       "      <td>1.000000</td>\n",
       "      <td>1.000000</td>\n",
       "      <td>1.000000</td>\n",
       "      <td>1.000000</td>\n",
       "      <td>1.000000</td>\n",
       "      <td>1.000000</td>\n",
       "      <td>1.000000</td>\n",
       "      <td>1.000000</td>\n",
       "      <td>1.000000</td>\n",
       "      <td>0.000000</td>\n",
       "    </tr>\n",
       "    <tr>\n",
       "      <th>1</th>\n",
       "      <td>0.000990</td>\n",
       "      <td>0.000347</td>\n",
       "      <td>0.002138</td>\n",
       "      <td>0.001186</td>\n",
       "      <td>3</td>\n",
       "      <td>{'n_neighbors': 3}</td>\n",
       "      <td>0.758621</td>\n",
       "      <td>0.672414</td>\n",
       "      <td>0.672414</td>\n",
       "      <td>0.758621</td>\n",
       "      <td>...</td>\n",
       "      <td>0.843629</td>\n",
       "      <td>0.843629</td>\n",
       "      <td>0.849421</td>\n",
       "      <td>0.853282</td>\n",
       "      <td>0.838150</td>\n",
       "      <td>0.845857</td>\n",
       "      <td>0.861272</td>\n",
       "      <td>0.853565</td>\n",
       "      <td>0.847606</td>\n",
       "      <td>0.006488</td>\n",
       "    </tr>\n",
       "    <tr>\n",
       "      <th>2</th>\n",
       "      <td>0.000758</td>\n",
       "      <td>0.000078</td>\n",
       "      <td>0.001706</td>\n",
       "      <td>0.000071</td>\n",
       "      <td>5</td>\n",
       "      <td>{'n_neighbors': 5}</td>\n",
       "      <td>0.775862</td>\n",
       "      <td>0.689655</td>\n",
       "      <td>0.689655</td>\n",
       "      <td>0.758621</td>\n",
       "      <td>...</td>\n",
       "      <td>0.826255</td>\n",
       "      <td>0.826255</td>\n",
       "      <td>0.820463</td>\n",
       "      <td>0.814672</td>\n",
       "      <td>0.818882</td>\n",
       "      <td>0.830443</td>\n",
       "      <td>0.826590</td>\n",
       "      <td>0.822736</td>\n",
       "      <td>0.825232</td>\n",
       "      <td>0.006956</td>\n",
       "    </tr>\n",
       "    <tr>\n",
       "      <th>3</th>\n",
       "      <td>0.000716</td>\n",
       "      <td>0.000036</td>\n",
       "      <td>0.001705</td>\n",
       "      <td>0.000072</td>\n",
       "      <td>7</td>\n",
       "      <td>{'n_neighbors': 7}</td>\n",
       "      <td>0.775862</td>\n",
       "      <td>0.724138</td>\n",
       "      <td>0.689655</td>\n",
       "      <td>0.775862</td>\n",
       "      <td>...</td>\n",
       "      <td>0.810811</td>\n",
       "      <td>0.801158</td>\n",
       "      <td>0.816602</td>\n",
       "      <td>0.805019</td>\n",
       "      <td>0.799615</td>\n",
       "      <td>0.813102</td>\n",
       "      <td>0.797688</td>\n",
       "      <td>0.801541</td>\n",
       "      <td>0.805364</td>\n",
       "      <td>0.006247</td>\n",
       "    </tr>\n",
       "    <tr>\n",
       "      <th>4</th>\n",
       "      <td>0.000717</td>\n",
       "      <td>0.000057</td>\n",
       "      <td>0.001748</td>\n",
       "      <td>0.000063</td>\n",
       "      <td>9</td>\n",
       "      <td>{'n_neighbors': 9}</td>\n",
       "      <td>0.741379</td>\n",
       "      <td>0.724138</td>\n",
       "      <td>0.724138</td>\n",
       "      <td>0.741379</td>\n",
       "      <td>...</td>\n",
       "      <td>0.797297</td>\n",
       "      <td>0.791506</td>\n",
       "      <td>0.787645</td>\n",
       "      <td>0.789575</td>\n",
       "      <td>0.788054</td>\n",
       "      <td>0.799615</td>\n",
       "      <td>0.791908</td>\n",
       "      <td>0.784200</td>\n",
       "      <td>0.790509</td>\n",
       "      <td>0.005679</td>\n",
       "    </tr>\n",
       "  </tbody>\n",
       "</table>\n",
       "<p>5 rows × 31 columns</p>\n",
       "</div>"
      ],
      "text/plain": [
       "   mean_fit_time  std_fit_time  mean_score_time  std_score_time  \\\n",
       "0       0.001232      0.000679         0.002608        0.001232   \n",
       "1       0.000990      0.000347         0.002138        0.001186   \n",
       "2       0.000758      0.000078         0.001706        0.000071   \n",
       "3       0.000716      0.000036         0.001705        0.000072   \n",
       "4       0.000717      0.000057         0.001748        0.000063   \n",
       "\n",
       "  param_n_neighbors              params  split0_test_score  split1_test_score  \\\n",
       "0                 1  {'n_neighbors': 1}           0.724138           0.637931   \n",
       "1                 3  {'n_neighbors': 3}           0.758621           0.672414   \n",
       "2                 5  {'n_neighbors': 5}           0.775862           0.689655   \n",
       "3                 7  {'n_neighbors': 7}           0.775862           0.724138   \n",
       "4                 9  {'n_neighbors': 9}           0.741379           0.724138   \n",
       "\n",
       "   split2_test_score  split3_test_score  ...  split2_train_score  \\\n",
       "0           0.637931           0.741379  ...            1.000000   \n",
       "1           0.672414           0.758621  ...            0.843629   \n",
       "2           0.689655           0.758621  ...            0.826255   \n",
       "3           0.689655           0.775862  ...            0.810811   \n",
       "4           0.724138           0.741379  ...            0.797297   \n",
       "\n",
       "   split3_train_score  split4_train_score  split5_train_score  \\\n",
       "0            1.000000            1.000000            1.000000   \n",
       "1            0.843629            0.849421            0.853282   \n",
       "2            0.826255            0.820463            0.814672   \n",
       "3            0.801158            0.816602            0.805019   \n",
       "4            0.791506            0.787645            0.789575   \n",
       "\n",
       "   split6_train_score  split7_train_score  split8_train_score  \\\n",
       "0            1.000000            1.000000            1.000000   \n",
       "1            0.838150            0.845857            0.861272   \n",
       "2            0.818882            0.830443            0.826590   \n",
       "3            0.799615            0.813102            0.797688   \n",
       "4            0.788054            0.799615            0.791908   \n",
       "\n",
       "   split9_train_score  mean_train_score  std_train_score  \n",
       "0            1.000000          1.000000         0.000000  \n",
       "1            0.853565          0.847606         0.006488  \n",
       "2            0.822736          0.825232         0.006956  \n",
       "3            0.801541          0.805364         0.006247  \n",
       "4            0.784200          0.790509         0.005679  \n",
       "\n",
       "[5 rows x 31 columns]"
      ]
     },
     "execution_count": 13,
     "metadata": {},
     "output_type": "execute_result"
    }
   ],
   "source": [
    "#grid.cv_results_\n",
    "\n",
    "results = pd.DataFrame(grid.cv_results_)\n",
    "results.head(5)"
   ]
  },
  {
   "cell_type": "markdown",
   "id": "871ec58a",
   "metadata": {},
   "source": [
    "### Graphical Presentation of K-NN vs Score"
   ]
  },
  {
   "cell_type": "code",
   "execution_count": 15,
   "id": "650aa5a3",
   "metadata": {},
   "outputs": [
    {
     "data": {
      "text/plain": [
       "<AxesSubplot:title={'center':'N-Nearest Neighbors Vs Score'}, xlabel='param_n_neighbors'>"
      ]
     },
     "execution_count": 15,
     "metadata": {},
     "output_type": "execute_result"
    },
    {
     "data": {
      "image/png": "[encoded data removed]",
      "text/plain": [
       "<Figure size 640x480 with 1 Axes>"
      ]
     },
     "metadata": {},
     "output_type": "display_data"
    }
   ],
   "source": [
    "results.plot('param_n_neighbors', 'mean_train_score')\n",
    "results.plot('param_n_neighbors', 'mean_test_score', ax=plt.gca(), title='N-Nearest Neighbors Vs Score')"
   ]
  },
  {
   "cell_type": "code",
   "execution_count": null,
   "id": "2785a2a8",
   "metadata": {},
   "outputs": [],
   "source": []
  }
 ],
 "metadata": {
  "kernelspec": {
   "display_name": "Python 3 (ipykernel)",
   "language": "python",
   "name": "python3"
  },
  "language_info": {
   "codemirror_mode": {
    "name": "ipython",
    "version": 3
   },
   "file_extension": ".py",
   "mimetype": "text/x-python",
   "name": "python",
   "nbconvert_exporter": "python",
   "pygments_lexer": "ipython3",
   "version": "3.9.13"
  },
  "toc": {
   "base_numbering": 1,
   "nav_menu": {},
   "number_sections": true,
   "sideBar": true,
   "skip_h1_title": false,
   "title_cell": "Table of Contents",
   "title_sidebar": "Contents",
   "toc_cell": true,
   "toc_position": {},
   "toc_section_display": true,
   "toc_window_display": false
  }
 },
 "nbformat": 4,
 "nbformat_minor": 5
}
