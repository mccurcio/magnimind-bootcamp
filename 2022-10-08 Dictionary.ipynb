{
 "cells": [
  {
   "cell_type": "markdown",
   "id": "63e401c6",
   "metadata": {
    "toc": true
   },
   "source": [
    "<h1>Table of Contents<span class=\"tocSkip\"></span></h1>\n",
    "<div class=\"toc\"><ul class=\"toc-item\"><li><span><a href=\"#Magnimind-MCC-Dictionary-Assignment-2022-10-08\" data-toc-modified-id=\"Magnimind-MCC-Dictionary-Assignment-2022-10-08-1\"><span class=\"toc-item-num\">1&nbsp;&nbsp;</span>Magnimind MCC Dictionary Assignment 2022-10-08</a></span><ul class=\"toc-item\"><li><span><a href=\"#Q1\" data-toc-modified-id=\"Q1-1.1\"><span class=\"toc-item-num\">1.1&nbsp;&nbsp;</span>Q1</a></span></li><li><span><a href=\"#Q2---Create-a-dictionary-with-the-following-personnel.-Use-names-as-keys.\" data-toc-modified-id=\"Q2---Create-a-dictionary-with-the-following-personnel.-Use-names-as-keys.-1.2\"><span class=\"toc-item-num\">1.2&nbsp;&nbsp;</span>Q2 - Create a dictionary with the following personnel. Use names as keys.</a></span></li><li><span><a href=\"#Q3-Add-child-information-to-Michael-and-Linda.\" data-toc-modified-id=\"Q3-Add-child-information-to-Michael-and-Linda.-1.3\"><span class=\"toc-item-num\">1.3&nbsp;&nbsp;</span>Q3 Add child information to Michael and Linda.</a></span></li><li><span><a href=\"#Q4-Print-the-names-of-Michael's-2-children-in-a-list.\" data-toc-modified-id=\"Q4-Print-the-names-of-Michael's-2-children-in-a-list.-1.4\"><span class=\"toc-item-num\">1.4&nbsp;&nbsp;</span>Q4 Print the names of Michael's 2 children in a list.</a></span></li></ul></li></ul></div>"
   ]
  },
  {
   "cell_type": "markdown",
   "id": "5d30dbcd",
   "metadata": {},
   "source": [
    "## Magnimind MCC Dictionary Assignment 2022-10-08\n",
    "\n",
    "### Q1\n",
    "Create a dictionary with 7 days. Ask the user to choose 2 different days by listing the (e.g. \"12\" for Monday and Tuesday). Delete the user-selected days from the dictionary and print the remaining 5 days on the screen."
   ]
  },
  {
   "cell_type": "code",
   "execution_count": 1,
   "id": "c3d2b96a",
   "metadata": {},
   "outputs": [
    {
     "name": "stdout",
     "output_type": "stream",
     "text": [
      "Choose 2 different days to eliminate (as one string, ex. 12): 13\n",
      "\n",
      "Here are the five days.\n",
      "\n",
      "Tuesday\n",
      "Thursday\n",
      "Friday\n",
      "Saturday\n",
      "Sunday\n"
     ]
    }
   ],
   "source": [
    "week_days = {\n",
    "    '1': 'Monday',\n",
    "    '2': 'Tuesday',\n",
    "    '3': 'Wednesday',\n",
    "    '4': 'Thursday',\n",
    "    '5': 'Friday',\n",
    "    '6': 'Saturday',\n",
    "    '7': 'Sunday'\n",
    "}\n",
    "\n",
    "user_selection = str(input(\n",
    "    'Choose 2 different days to eliminate (as one string, ex. 12): '))\n",
    "\n",
    "week_days.pop(user_selection[0])\n",
    "week_days.pop(user_selection[1])\n",
    "\n",
    "#print('Here is the complete dictionary:\\n\\n', week_days, '\\n')\n",
    "print('\\nHere are the five days.\\n')\n",
    "\n",
    "for key in week_days:\n",
    "    print(week_days.get(key))"
   ]
  },
  {
   "cell_type": "markdown",
   "id": "55515870",
   "metadata": {},
   "source": [
    "### Q2 - Create a dictionary with the following personnel. Use names as keys.\n",
    "- (Michael (age: 20))\n",
    "- (Linda (age: 30))"
   ]
  },
  {
   "cell_type": "code",
   "execution_count": 14,
   "id": "20f280d4",
   "metadata": {
    "scrolled": true
   },
   "outputs": [
    {
     "name": "stdout",
     "output_type": "stream",
     "text": [
      "{'Michael': {'age': 20}, 'Linda': {'age': 30}}\n"
     ]
    }
   ],
   "source": [
    "personnel = {'Michael': {'age': 20},\n",
    "             'Linda': {'age': 30}\n",
    "             }\n",
    "\n",
    "print(personnel)"
   ]
  },
  {
   "cell_type": "markdown",
   "id": "37baadf7",
   "metadata": {},
   "source": [
    "### Q3 Add child information to Michael and Linda. \n",
    "- Michael has two children (Karen (age : 12, female) and (Greg (age : 7, male)), \n",
    "- Linda has one child (Susan (age: 6, female))"
   ]
  },
  {
   "cell_type": "code",
   "execution_count": 15,
   "id": "4e194e8e",
   "metadata": {},
   "outputs": [],
   "source": [
    "personnel.update({'Michael': {'child1': {'name': 'Karen',\n",
    "                                         'age': 12,\n",
    "                                         'sex': 'female'},\n",
    "                              'child2': {'name': 'Greg',\n",
    "                                         'age': 7,\n",
    "                                         'sex': 'male'}}})\n",
    "\n",
    "personnel.update({'Linda': {'child1': {'name': 'Susan',\n",
    "                                       'age': 6,\n",
    "                                       'sex': 'female'}}})"
   ]
  },
  {
   "cell_type": "code",
   "execution_count": 16,
   "id": "a242c39c",
   "metadata": {},
   "outputs": [
    {
     "name": "stdout",
     "output_type": "stream",
     "text": [
      "{'Michael': {'child1': {'name': 'Karen', 'age': 12, 'sex': 'female'}, 'child2': {'name': 'Greg', 'age': 7, 'sex': 'male'}}, 'Linda': {'child1': {'name': 'Susan', 'age': 6, 'sex': 'female'}}}\n"
     ]
    }
   ],
   "source": [
    "print(personnel)"
   ]
  },
  {
   "cell_type": "code",
   "execution_count": null,
   "id": "489aea50",
   "metadata": {},
   "outputs": [],
   "source": []
  },
  {
   "cell_type": "code",
   "execution_count": null,
   "id": "c794aa2e",
   "metadata": {},
   "outputs": [],
   "source": []
  },
  {
   "cell_type": "markdown",
   "id": "1335e50b",
   "metadata": {},
   "source": [
    "### Q4 Print the names of Michael's 2 children in a list."
   ]
  },
  {
   "cell_type": "code",
   "execution_count": 5,
   "id": "4f756252",
   "metadata": {},
   "outputs": [
    {
     "name": "stdout",
     "output_type": "stream",
     "text": [
      "['Karen', 'Greg']\n"
     ]
    }
   ],
   "source": [
    "no_1 = personnel['Michael']['child1']['name']\n",
    "no_2 = personnel['Michael']['child2']['name']\n",
    "\n",
    "child_lst = [no_1, no_2]\n",
    "\n",
    "print(child_lst)"
   ]
  },
  {
   "cell_type": "code",
   "execution_count": null,
   "id": "fd457f1e",
   "metadata": {},
   "outputs": [],
   "source": []
  },
  {
   "cell_type": "code",
   "execution_count": 7,
   "id": "f1363532",
   "metadata": {},
   "outputs": [
    {
     "data": {
      "text/plain": [
       "[98, 87, 78]"
      ]
     },
     "execution_count": 7,
     "metadata": {},
     "output_type": "execute_result"
    }
   ],
   "source": [
    "names = ['David', 'Mark', 'Bob', 'Mary', 'Jess']\n",
    "score = [98, 87, 98, 87, 78]\n",
    "\n",
    "score_dict={}\n",
    "\n",
    "for name, score in zip(names,score):\n",
    "    if score in score_dict:\n",
    "        score_dict[score].append(name)\n",
    "    else:\n",
    "        score_dict[score]=[name]\n",
    "        \n",
    "#score_dict   \n",
    "\n",
    "score_list=list(score_dict)\n",
    "score_list_sorted = sorted(score_list, reverse=True)\n",
    "score_list_sorted"
   ]
  },
  {
   "cell_type": "code",
   "execution_count": 10,
   "id": "ef66db00",
   "metadata": {},
   "outputs": [
    {
     "name": "stdout",
     "output_type": "stream",
     "text": [
      "rank  1 ['David', 'Bob'] 98\n",
      "rank  2 ['Mark', 'Mary'] 87\n",
      "rank  3 ['Jess'] 78\n"
     ]
    }
   ],
   "source": [
    "for i in range(3):\n",
    "    print('rank', i+1, score_dict[score_list[i]], score_list[i])"
   ]
  },
  {
   "cell_type": "code",
   "execution_count": null,
   "id": "70663d60",
   "metadata": {},
   "outputs": [],
   "source": []
  },
  {
   "cell_type": "code",
   "execution_count": null,
   "id": "361df60b",
   "metadata": {},
   "outputs": [],
   "source": []
  },
  {
   "cell_type": "code",
   "execution_count": null,
   "id": "cbaaa500",
   "metadata": {},
   "outputs": [],
   "source": []
  },
  {
   "cell_type": "code",
   "execution_count": null,
   "id": "7fa7e02b",
   "metadata": {},
   "outputs": [],
   "source": []
  }
 ],
 "metadata": {
  "kernelspec": {
   "display_name": "Python 3 (ipykernel)",
   "language": "python",
   "name": "python3"
  },
  "language_info": {
   "codemirror_mode": {
    "name": "ipython",
    "version": 3
   },
   "file_extension": ".py",
   "mimetype": "text/x-python",
   "name": "python",
   "nbconvert_exporter": "python",
   "pygments_lexer": "ipython3",
   "version": "3.9.13"
  },
  "toc": {
   "base_numbering": 1,
   "nav_menu": {},
   "number_sections": true,
   "sideBar": true,
   "skip_h1_title": false,
   "title_cell": "Table of Contents",
   "title_sidebar": "Contents",
   "toc_cell": true,
   "toc_position": {},
   "toc_section_display": true,
   "toc_window_display": false
  }
 },
 "nbformat": 4,
 "nbformat_minor": 5
}
