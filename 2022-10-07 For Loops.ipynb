{
 "cells": [
  {
   "cell_type": "markdown",
   "id": "e57486a5",
   "metadata": {
    "toc": true
   },
   "source": [
    "<h1>Table of Contents<span class=\"tocSkip\"></span></h1>\n",
    "<div class=\"toc\"><ul class=\"toc-item\"><li><span><a href=\"#Q1-Do-the-following-to-create-a-program-that-simulates-how-websites-ensure-that-everyone-has-a-unique-username.\" data-toc-modified-id=\"Q1-Do-the-following-to-create-a-program-that-simulates-how-websites-ensure-that-everyone-has-a-unique-username.-1\"><span class=\"toc-item-num\">1&nbsp;&nbsp;</span>Q1 Do the following to create a program that simulates how websites ensure that everyone has a unique username.</a></span></li><li><span><a href=\"#Q2-Color-probability\" data-toc-modified-id=\"Q2-Color-probability-2\"><span class=\"toc-item-num\">2&nbsp;&nbsp;</span>Q2 Color probability</a></span></li><li><span><a href=\"#Q3-Write-an-if-elif-else-chain-that-determines-a-person’s-stage-of-life.\" data-toc-modified-id=\"Q3-Write-an-if-elif-else-chain-that-determines-a-person’s-stage-of-life.-3\"><span class=\"toc-item-num\">3&nbsp;&nbsp;</span>Q3 Write an if-elif-else chain that determines a person’s stage of life.</a></span></li></ul></div>"
   ]
  },
  {
   "cell_type": "markdown",
   "id": "9f1cba2f",
   "metadata": {},
   "source": [
    "To:&nbsp;&nbsp;&nbsp;&nbsp; Magnimind\n",
    "\n",
    "From: Matt Curcio, matt.curcio.ri@gmail.com\n",
    "\n",
    "Date: 2022-10-01\n",
    "\n",
    "Re:&nbsp;&nbsp;&nbsp; Intro. to Python, For Loops Assignment"
   ]
  },
  {
   "cell_type": "markdown",
   "id": "7ebb575f",
   "metadata": {},
   "source": [
    "### Q1 Do the following to create a program that simulates how websites ensure that everyone has a unique username.\n",
    "\n",
    "* Make a list of five or more usernames called current_users.\n",
    "\n",
    "* Make another list of five usernames called new_users. Make sure one or two of the new usernames are also in the current_users list.\n",
    "\n",
    "* Loop through the new_users list to see if each new username has already been used. If it has, print a message that the person will need to enter a new username. If a username has not been used, print a message saying that the username is available.\n",
    "\n",
    "* Make sure your comparison is case insensitive. If 'John' has been used, 'JOHN' should not be accepted."
   ]
  },
  {
   "cell_type": "code",
   "execution_count": 1,
   "id": "7397db1f",
   "metadata": {},
   "outputs": [],
   "source": [
    "current_users = ['Bob', 'Rich', 'John', 'Mary', 'Betty', 'Sue']\n",
    "new_users = ['Bob', 'Rich', 'JOHN', 'Grace', 'Boopy']"
   ]
  },
  {
   "cell_type": "code",
   "execution_count": 2,
   "id": "23ddd4fa",
   "metadata": {},
   "outputs": [],
   "source": [
    "def list_to_lower(lst):\n",
    "    for i in range(len(lst)):\n",
    "        lst[i] = lst[i].lower()\n",
    "        #print(lst)\n",
    "    return list(lst)\n",
    "    \n",
    "current_temp = list_to_lower(current_users)\n",
    "new_temp = list_to_lower(new_users)\n",
    "\n",
    "#print(type(current_temp))\n",
    "#print(type(new_temp))"
   ]
  },
  {
   "cell_type": "code",
   "execution_count": 3,
   "id": "1b053ffe",
   "metadata": {},
   "outputs": [
    {
     "name": "stdout",
     "output_type": "stream",
     "text": [
      "Bob \b, Username taken, please enter a new name.\n",
      "Rich \b, Username taken, please enter a new name.\n",
      "John \b, Username taken, please enter a new name.\n",
      "Grace \b, Username is available.\n",
      "Boopy \b, Username is available.\n"
     ]
    }
   ],
   "source": [
    "for i in range(len(new_temp)):\n",
    "    #print(i)\n",
    "    if new_temp[i] in current_temp:\n",
    "        #print(new_temp[i], '&', current_temp)\n",
    "        print(new_temp[i].title(), '\\b, Username taken, please enter a new name.')\n",
    "    else:\n",
    "        print(new_temp[i].title(), '\\b, Username is available.')"
   ]
  },
  {
   "cell_type": "markdown",
   "id": "346ecfef",
   "metadata": {},
   "source": [
    "### Q2 Color probability\n",
    "\n",
    "You're playing a game with a friend involving a bag of marbles. In the bag are ten marbles:\n",
    "\n",
    "- 1 smooth red marble\n",
    "\n",
    "- 4 bumpy red marbles\n",
    "\n",
    "- 2 bumpy yellow marbles\n",
    "\n",
    "- 1 smooth yellow marble\n",
    "\n",
    "- 1 bumpy green marble\n",
    "\n",
    "- 1 smooth green marble\n",
    "\n",
    "You can see that the probability of picking a smooth red marble from the bag is 1 / 10 or 0.10,   \n",
    "and the probability of picking a bumpy yellow marble is 2 / 10 or 0.20.\n",
    "\n",
    "The game works like this:    \n",
    "your friend puts her hand in the bag, chooses a marble (without looking at it) and tells you whether it's bumpy or smooth. \n",
    "\n",
    "Then you have to guess which color it is before she pulls it out and reveals whether you're correct or not.\n",
    "\n",
    "You know that the information about whether the marble is bumpy or smooth changes the probability of what color it is, and you want some help with your guesses.\n",
    "\n",
    "Write a function color_probability that takes two arguments: a color ('red', 'yellow', or 'green') and a texture ('bumpy' or 'smooth') and returns the probability of drawing that combination as a decimal fraction accurate to two places.\n",
    "\n",
    "The probability should be a string and should discard any digits after the 100ths place. For example, 2 / 3 or 0.6666666666666666 would become the string '0.66'. Note this is different from rounding.\n",
    "\n",
    "Example Function:   \n",
    "\n",
    "**color_probability('red', 'bumpy') = '0.57'**"
   ]
  },
  {
   "cell_type": "code",
   "execution_count": 4,
   "id": "a964f6aa",
   "metadata": {},
   "outputs": [
    {
     "data": {
      "text/plain": [
       "'0.40'"
      ]
     },
     "execution_count": 4,
     "metadata": {},
     "output_type": "execute_result"
    }
   ],
   "source": [
    "def color_probability(texture, color):\n",
    "    if texture == 'smooth':\n",
    "        probability = 1/10\n",
    "    elif color == 'red':\n",
    "        probability = 4/10\n",
    "    elif color == 'yellow':\n",
    "        probability = 2/10\n",
    "    else:\n",
    "        probability = 1/10\n",
    "    prob_str = '{:.2f}'.format(probability)\n",
    "    return (prob_str)\n",
    "    \n",
    "texture = 'bumpy'\n",
    "color = 'red'\n",
    "color_probability(texture, color)"
   ]
  },
  {
   "cell_type": "markdown",
   "id": "f7205afc",
   "metadata": {},
   "source": [
    "### Q3 Write an if-elif-else chain that determines a person’s stage of life.\n",
    "\n",
    "Set a value for the variable age, and then:\n",
    "\n",
    "* If the person is less than 2 years old, print a message that the person is a baby.\n",
    "\n",
    "* If the person is at least 2 years old but less than 4, print a message that the person is a toddler.\n",
    "\n",
    "* If the person is at least 4 years old but less than 13, print a message that the person is a kid.\n",
    "\n",
    "* If the person is at least 13 years old but less than 20, print a message that the person is a teenager.\n",
    "\n",
    "* If the person is at least 20 years old but less than 65, print a message that the person is an adult.\n",
    "\n",
    "* If the person is age 65 or older, print a message that the person is an elder."
   ]
  },
  {
   "cell_type": "code",
   "execution_count": 5,
   "id": "6ce461e4",
   "metadata": {},
   "outputs": [
    {
     "name": "stdout",
     "output_type": "stream",
     "text": [
      "the person is a teenager\n"
     ]
    }
   ],
   "source": [
    "age = 13\n",
    "\n",
    "if age < 2:\n",
    "    print('the person is a baby')\n",
    "elif age < 4:\n",
    "    print('the person is a toddler')\n",
    "elif age < 13:\n",
    "    print('the person is a kid')\n",
    "elif age < 20:\n",
    "    print('the person is a teenager')\n",
    "elif age < 65:\n",
    "    print('the person is a adult')\n",
    "else:\n",
    "    print('the person is a elder')"
   ]
  },
  {
   "cell_type": "code",
   "execution_count": null,
   "id": "e8407962",
   "metadata": {},
   "outputs": [],
   "source": []
  }
 ],
 "metadata": {
  "kernelspec": {
   "display_name": "Python 3 (ipykernel)",
   "language": "python",
   "name": "python3"
  },
  "language_info": {
   "codemirror_mode": {
    "name": "ipython",
    "version": 3
   },
   "file_extension": ".py",
   "mimetype": "text/x-python",
   "name": "python",
   "nbconvert_exporter": "python",
   "pygments_lexer": "ipython3",
   "version": "3.9.13"
  },
  "toc": {
   "base_numbering": 1,
   "nav_menu": {},
   "number_sections": true,
   "sideBar": true,
   "skip_h1_title": false,
   "title_cell": "Table of Contents",
   "title_sidebar": "Contents",
   "toc_cell": true,
   "toc_position": {},
   "toc_section_display": true,
   "toc_window_display": false
  }
 },
 "nbformat": 4,
 "nbformat_minor": 5
}
