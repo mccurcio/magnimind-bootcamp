{
 "cells": [
  {
   "cell_type": "markdown",
   "id": "782889dc",
   "metadata": {
    "toc": true
   },
   "source": [
    "<h1>Table of Contents<span class=\"tocSkip\"></span></h1>\n",
    "<div class=\"toc\"><ul class=\"toc-item\"><li><span><a href=\"#Data-Types-&amp;-Variables-Assignment\" data-toc-modified-id=\"Data-Types-&amp;-Variables-Assignment-1\"><span class=\"toc-item-num\">1&nbsp;&nbsp;</span>Data Types &amp; Variables Assignment<a id=\"To_top\" rel=\"nofollow\"></a></a></span><ul class=\"toc-item\"><li><span><a href=\"#Question-1\" data-toc-modified-id=\"Question-1-1.1\"><span class=\"toc-item-num\">1.1&nbsp;&nbsp;</span>Question 1</a></span></li><li><span><a href=\"#Question-2\" data-toc-modified-id=\"Question-2-1.2\"><span class=\"toc-item-num\">1.2&nbsp;&nbsp;</span>Question 2</a></span></li><li><span><a href=\"#Question-3\" data-toc-modified-id=\"Question-3-1.3\"><span class=\"toc-item-num\">1.3&nbsp;&nbsp;</span>Question 3</a></span></li><li><span><a href=\"#Question-4\" data-toc-modified-id=\"Question-4-1.4\"><span class=\"toc-item-num\">1.4&nbsp;&nbsp;</span>Question 4</a></span></li><li><span><a href=\"#Question-5\" data-toc-modified-id=\"Question-5-1.5\"><span class=\"toc-item-num\">1.5&nbsp;&nbsp;</span>Question 5</a></span></li></ul></li></ul></div>"
   ]
  },
  {
   "cell_type": "markdown",
   "id": "1e16ea5f",
   "metadata": {},
   "source": [
    "## Data Types & Variables Assignment<a id='To_top'></a>\n",
    "\n",
    "To:&nbsp;&nbsp;&nbsp;&nbsp; Magnimind\n",
    "\n",
    "From: Matt Curcio, matt.curcio.ri@gmail.com\n",
    "\n",
    "Date: 2022-10-01\n",
    "\n",
    "Re:&nbsp;&nbsp;&nbsp; Intro. to Python, Data Types"
   ]
  },
  {
   "cell_type": "markdown",
   "id": "081ff4cf",
   "metadata": {},
   "source": [
    "### Question 1\n",
    "\n",
    "Suppose you invested in Bitcoin at the end of 2020 when Bitcoin gained a lot of value. What would be your money at the end of a week if you had invested $1000 with an average daily increase of 12% ? You can solve the problem using Python.\n",
    "\n",
    "- Create a variable capital ($1000)\n",
    "\n",
    "- Create a variable for daily growth (12%)\n",
    "\n",
    "- Create a variable for period (7)\n",
    "\n",
    "- Calculate the final growth rate\n",
    "\n",
    "- Calculate result\n",
    "\n",
    "- Print result\n",
    "\n",
    "**Using the formula for compound interest:**\n",
    "\n",
    "$ \\large M = Pi ((1 + i)^n -1) ~~~=~\\large 1,000 * ((1 + 0.12)^7 - 1)$\n",
    "\n",
    "Where: \n",
    "\n",
    "- M = Principle & Interest\n",
    "- P = Principle\n",
    "- i = interest\n",
    "- n = the number of periods"
   ]
  },
  {
   "cell_type": "code",
   "execution_count": 9,
   "id": "884c3522",
   "metadata": {},
   "outputs": [
    {
     "name": "stdout",
     "output_type": "stream",
     "text": [
      "\n",
      "Principle and interest after 7 days = 1210.6814074060815.\n"
     ]
    }
   ],
   "source": [
    "M = 1000 * ((1 + 0.12)**7 - 1)\n",
    "\n",
    "print(f'\\nPrinciple and interest after 7 days = {M}.')"
   ]
  },
  {
   "cell_type": "markdown",
   "id": "3414ec18",
   "metadata": {},
   "source": [
    "### Question 2\n",
    "\n",
    "Print the text in quotes with Python. However, you must get the numbers from variables using .format() notation. Because the text is long, you might consider writing in two lines:\n",
    "\n",
    "\"When we buy bitcoin with 1000 USD at the beginning of the week, we would earn 1210.68 USD at the end of the week, with an average gain of 12\\%.\"\n",
    "\n",
    "**For additional help: [Formatting Types](https://www.w3schools.com/python/ref_string_format.asp)**"
   ]
  },
  {
   "cell_type": "code",
   "execution_count": 11,
   "id": "ec270b0e",
   "metadata": {},
   "outputs": [
    {
     "name": "stdout",
     "output_type": "stream",
     "text": [
      "When we buy bitcoin with 1,000 USD at the beginning of the week,\n",
      "we would earn 1,210.68 USD at the end of the week, with an average gain of 12.0%.\n"
     ]
    }
   ],
   "source": [
    "line_1 = 'When we buy bitcoin with {:,} USD at the beginning of the week,'.format(1000)\n",
    "line_2 = 'we would earn {:,.2f} USD at the end of the week, with an average gain of {:.1%}.'.format(1210.68, 0.12)\n",
    "\n",
    "print(line_1)\n",
    "print(line_2)\n"
   ]
  },
  {
   "cell_type": "markdown",
   "id": "764d9bde",
   "metadata": {},
   "source": [
    "### Question 3\n",
    "\n",
    "Get the temperature in Fahrenheit from user and write a code to convert it to Celcius. \n",
    "\n",
    "For conversion, you can use this formula: C = (5/9) * (F - 32)\n",
    "\n",
    "- Enter the temperature in Fahrenheit:\n",
    "\n",
    "- user --> 26\n",
    "\n",
    "- output --> Temperature (C) : -3.33\n"
   ]
  },
  {
   "cell_type": "code",
   "execution_count": 12,
   "id": "068e1685",
   "metadata": {},
   "outputs": [
    {
     "name": "stdout",
     "output_type": "stream",
     "text": [
      "Let's Convert F to C degrees.\n",
      "\n",
      "Enter the temperature in Fahrenheit: 26\n",
      "\n",
      "26.0 Fahrenheit is equivalent to -3.3 Celcius.\n"
     ]
    }
   ],
   "source": [
    "print(\"Let's Convert F to C degrees.\\n\")\n",
    "\n",
    "F = int(input(\"Enter the temperature in Fahrenheit: \"))\n",
    "C = (5/9) * (F - 32)\n",
    "print(\"\\n{:.1f} Fahrenheit is equivalent to {:.1f} Celcius.\".format(F, C))"
   ]
  },
  {
   "cell_type": "markdown",
   "id": "e88dc351",
   "metadata": {},
   "source": [
    "### Question 4\n",
    "\n",
    "We will now calculate the sum of the digits of a number. (like numerology)\n",
    "\n",
    "- Enter a three digit number: 365\n",
    "\n",
    "- The summation of the digits is: 14"
   ]
  },
  {
   "cell_type": "code",
   "execution_count": 13,
   "id": "2ca347fe",
   "metadata": {},
   "outputs": [
    {
     "name": "stdout",
     "output_type": "stream",
     "text": [
      "Enter a three digit number: 365\n",
      "\n",
      "The summation of the digits is: 14\n"
     ]
    }
   ],
   "source": [
    "D = input(\"Enter a three digit number: \")\n",
    "\n",
    "digit_sum = int(D[0]) + int(D[1]) + int(D[2])\n",
    "\n",
    "print(\"\\nThe summation of the digits is: {}\".format(digit_sum))"
   ]
  },
  {
   "cell_type": "markdown",
   "id": "b2ca3bfa",
   "metadata": {},
   "source": [
    "### Question 5\n",
    "\n",
    "Write some code to calculate the hypotenuse of a right angled triangle. Get the side lengths from the user.\n",
    "\n",
    "- user --> first side lenth : 6\n",
    "\n",
    "- user --> first side lenth : 8\n",
    "\n",
    "- output --> \"The length of the hypotenuse is 10"
   ]
  },
  {
   "cell_type": "code",
   "execution_count": 14,
   "id": "f8357417",
   "metadata": {},
   "outputs": [
    {
     "name": "stdout",
     "output_type": "stream",
     "text": [
      "Enter the length of side A: 6\n",
      "\n",
      "Enter the length of side B: 8\n",
      "\n",
      "The length of the hypotenuse is: 10\n"
     ]
    }
   ],
   "source": [
    "import math\n",
    "\n",
    "A = int(input(\"Enter the length of side A: \"))\n",
    "B = int(input(\"\\nEnter the length of side B: \"))\n",
    "C = int(math.sqrt(A**2 + B**2))\n",
    "print(\"\\nThe length of the hypotenuse is: {}\".format(C))"
   ]
  },
  {
   "cell_type": "code",
   "execution_count": null,
   "id": "2d27b492",
   "metadata": {},
   "outputs": [],
   "source": []
  }
 ],
 "metadata": {
  "kernelspec": {
   "display_name": "Python 3 (ipykernel)",
   "language": "python",
   "name": "python3"
  },
  "language_info": {
   "codemirror_mode": {
    "name": "ipython",
    "version": 3
   },
   "file_extension": ".py",
   "mimetype": "text/x-python",
   "name": "python",
   "nbconvert_exporter": "python",
   "pygments_lexer": "ipython3",
   "version": "3.9.13"
  },
  "toc": {
   "base_numbering": 1,
   "nav_menu": {},
   "number_sections": true,
   "sideBar": true,
   "skip_h1_title": false,
   "title_cell": "Table of Contents",
   "title_sidebar": "Contents",
   "toc_cell": true,
   "toc_position": {},
   "toc_section_display": true,
   "toc_window_display": false
  }
 },
 "nbformat": 4,
 "nbformat_minor": 5
}
