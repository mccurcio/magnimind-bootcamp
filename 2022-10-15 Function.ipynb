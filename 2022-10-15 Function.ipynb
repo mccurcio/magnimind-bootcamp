{
 "cells": [
  {
   "cell_type": "markdown",
   "id": "aa2d6496",
   "metadata": {
    "toc": true
   },
   "source": [
    "<h1>Table of Contents<span class=\"tocSkip\"></span></h1>\n",
    "<div class=\"toc\"><ul class=\"toc-item\"><li><span><a href=\"#Q1-Finding-Prime-Number\" data-toc-modified-id=\"Q1-Finding-Prime-Number-1\"><span class=\"toc-item-num\">1&nbsp;&nbsp;</span>Q1 Finding Prime Number</a></span></li><li><span><a href=\"#Q2-Rømer-temperature\" data-toc-modified-id=\"Q2-Rømer-temperature-2\"><span class=\"toc-item-num\">2&nbsp;&nbsp;</span>Q2 Rømer temperature</a></span></li><li><span><a href=\"#Q3-Pixelart-planning\" data-toc-modified-id=\"Q3-Pixelart-planning-3\"><span class=\"toc-item-num\">3&nbsp;&nbsp;</span>Q3 Pixelart planning</a></span></li></ul></div>"
   ]
  },
  {
   "cell_type": "markdown",
   "id": "eda56868",
   "metadata": {},
   "source": [
    "To:&nbsp;&nbsp;&nbsp;&nbsp; Magnimind\n",
    "\n",
    "From: Matt Curcio, matt.curcio.ri@gmail.com\n",
    "\n",
    "Date: 2022-10-01\n",
    "\n",
    "Re:&nbsp;&nbsp;&nbsp; Intro. to Python\n",
    "\n",
    "### Q1 Finding Prime Number\n",
    " \n",
    "Write a function that determines whether or not its parameter is prime, \n",
    "returning True if it is, and False otherwise. \n",
    "\n",
    "Write a main program that reads an integer from the user and displays a message indicating whether or not it is prime."
   ]
  },
  {
   "cell_type": "code",
   "execution_count": 4,
   "id": "acc3406a",
   "metadata": {},
   "outputs": [],
   "source": [
    "import math\n",
    "\n",
    "\n",
    "def is_prime(n):\n",
    "    if n <= 1:\n",
    "        return False\n",
    "    else:\n",
    "        max = math.floor(n**(0.5))\n",
    "        for i in range(2, max):\n",
    "            if n % i == 0:\n",
    "                return False\n",
    "    return True"
   ]
  },
  {
   "cell_type": "code",
   "execution_count": 7,
   "id": "23a4863d",
   "metadata": {},
   "outputs": [
    {
     "data": {
      "text/plain": [
       "True"
      ]
     },
     "execution_count": 7,
     "metadata": {},
     "output_type": "execute_result"
    }
   ],
   "source": [
    "is_prime(1386383)"
   ]
  },
  {
   "cell_type": "code",
   "execution_count": 11,
   "id": "400ebfc4",
   "metadata": {},
   "outputs": [
    {
     "data": {
      "text/plain": [
       "False"
      ]
     },
     "execution_count": 11,
     "metadata": {},
     "output_type": "execute_result"
    }
   ],
   "source": [
    "is_prime(1386384)"
   ]
  },
  {
   "cell_type": "markdown",
   "id": "2e20e571",
   "metadata": {},
   "source": [
    "### Q2 Rømer temperature\n",
    "\n",
    "You're writing an excruciatingly detailed alternate history novel set in a world where Daniel Gabriel Fahrenheit was never born.\n",
    "\n",
    "Since Fahrenheit never lived the world kept on using the Rømer scale, invented by fellow Dane Ole Rømer to this very day, skipping over the Fahrenheit and Celsius scales entirely.\n",
    "\n",
    "Your magnum opus contains several thousand references to temperature, but those temperatures are all currently in degrees Celsius. You don't want to convert everything by hand, so you've decided to write a function, celsius_to_romer that takes a temperature in degrees Celsius and returns the equivalent temperature in degrees Rømer.\n",
    "\n",
    "For example: celsius_to_romer(24) should return 20.1.\n",
    "\n",
    "ex. Rømer = –7.5×40/21 = –14.285714285 Celsius"
   ]
  },
  {
   "cell_type": "code",
   "execution_count": 1,
   "id": "5f11b835",
   "metadata": {},
   "outputs": [],
   "source": [
    "def celsius_to_romer(celsius):\n",
    "    return celsius*21/40 + 7.5"
   ]
  },
  {
   "cell_type": "code",
   "execution_count": 2,
   "id": "3a2a2968",
   "metadata": {},
   "outputs": [
    {
     "data": {
      "text/plain": [
       "20.1"
      ]
     },
     "execution_count": 2,
     "metadata": {},
     "output_type": "execute_result"
    }
   ],
   "source": [
    "celsius_to_romer(24)"
   ]
  },
  {
   "cell_type": "markdown",
   "id": "bc8acf66",
   "metadata": {},
   "source": [
    "### Q3 Pixelart planning\n",
    "\n",
    "You're laying out a rad pixel art mural to paint on your living room wall in homage to Paul Robertson, your favorite pixel artist.\n",
    "\n",
    "You want your work to be perfect down to the millimeter. You haven't decided on the dimensions of your piece, how large you want your pixels to be, or which wall you want to use. You just know that you want to fit an exact number of pixels.\n",
    "\n",
    "To help decide those things you've decided to write a function, is_divisible that will tell you whether a wall of a certain length can exactly fit an integer number of pixels of a certain length.\n",
    "\n",
    "Your function should take two arguments: the size of the wall in millimeters and the size of a pixel in millimeters. It should return True if you can fit an exact number of pixels on the wall, otherwise it should return False. For example is_divisible(4050, 27) should return True, but is_divisible(4066, 27) should return False.\n",
    "\n",
    "Note: you don't need to use an if statement here. Remember that in Python an expression using the == comparison operator will evaluate to either True or False:"
   ]
  },
  {
   "cell_type": "code",
   "execution_count": 5,
   "id": "9acccece",
   "metadata": {},
   "outputs": [
    {
     "data": {
      "text/plain": [
       "150.0"
      ]
     },
     "execution_count": 5,
     "metadata": {},
     "output_type": "execute_result"
    }
   ],
   "source": [
    "4050/27"
   ]
  },
  {
   "cell_type": "code",
   "execution_count": 6,
   "id": "4671bdcd",
   "metadata": {},
   "outputs": [
    {
     "data": {
      "text/plain": [
       "150.59259259259258"
      ]
     },
     "execution_count": 6,
     "metadata": {},
     "output_type": "execute_result"
    }
   ],
   "source": [
    "4066/27"
   ]
  },
  {
   "cell_type": "code",
   "execution_count": 7,
   "id": "6626c8d2",
   "metadata": {},
   "outputs": [],
   "source": [
    "def is_divisible(length_mm, pixels):\n",
    "    return length_mm % pixels == 0"
   ]
  },
  {
   "cell_type": "code",
   "execution_count": 8,
   "id": "ef67e599",
   "metadata": {},
   "outputs": [
    {
     "data": {
      "text/plain": [
       "True"
      ]
     },
     "execution_count": 8,
     "metadata": {},
     "output_type": "execute_result"
    }
   ],
   "source": [
    "is_divisible(4050, 27)"
   ]
  },
  {
   "cell_type": "code",
   "execution_count": 9,
   "id": "20bc8ae1",
   "metadata": {},
   "outputs": [
    {
     "data": {
      "text/plain": [
       "False"
      ]
     },
     "execution_count": 9,
     "metadata": {},
     "output_type": "execute_result"
    }
   ],
   "source": [
    "is_divisible(4066, 27)"
   ]
  }
 ],
 "metadata": {
  "kernelspec": {
   "display_name": "Python 3 (ipykernel)",
   "language": "python",
   "name": "python3"
  },
  "language_info": {
   "codemirror_mode": {
    "name": "ipython",
    "version": 3
   },
   "file_extension": ".py",
   "mimetype": "text/x-python",
   "name": "python",
   "nbconvert_exporter": "python",
   "pygments_lexer": "ipython3",
   "version": "3.9.13"
  },
  "toc": {
   "base_numbering": 1,
   "nav_menu": {},
   "number_sections": true,
   "sideBar": true,
   "skip_h1_title": false,
   "title_cell": "Table of Contents",
   "title_sidebar": "Contents",
   "toc_cell": true,
   "toc_position": {},
   "toc_section_display": true,
   "toc_window_display": false
  }
 },
 "nbformat": 4,
 "nbformat_minor": 5
}
