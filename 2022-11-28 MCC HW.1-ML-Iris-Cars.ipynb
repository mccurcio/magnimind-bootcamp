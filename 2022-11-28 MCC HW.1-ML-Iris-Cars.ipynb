{
 "cells": [
  {
   "cell_type": "markdown",
   "id": "152e0a73",
   "metadata": {},
   "source": [
    "Title: 2022-11-07 Machine Learning Assignment 1\n",
    "\n",
    "To:&nbsp;&nbsp;&nbsp;&nbsp; Magnimind\n",
    "\n",
    "From: Matt Curcio, matt.curcio.ri@gmail.com\n",
    "\n",
    "Date: 2022-10-30\n",
    "\n",
    "Re:&nbsp;&nbsp;&nbsp; Iris Dataset EDA & KNN Modeling"
   ]
  },
  {
   "cell_type": "markdown",
   "id": "f68ef373",
   "metadata": {
    "toc": true
   },
   "source": [
    "<h1>Table of Contents<span class=\"tocSkip\"></span></h1>\n",
    "<div class=\"toc\"><ul class=\"toc-item\"><li><span><a href=\"#Iris-Dataset---KNN-Modeling\" data-toc-modified-id=\"Iris-Dataset---KNN-Modeling-1\"><span class=\"toc-item-num\">1&nbsp;&nbsp;</span>Iris Dataset - KNN Modeling</a></span><ul class=\"toc-item\"><li><span><a href=\"#Initial-Data-Analysis\" data-toc-modified-id=\"Initial-Data-Analysis-1.1\"><span class=\"toc-item-num\">1.1&nbsp;&nbsp;</span>Initial Data Analysis</a></span></li><li><span><a href=\"#Build-KNeighborsClassifier-w/-Iris-Data\" data-toc-modified-id=\"Build-KNeighborsClassifier-w/-Iris-Data-1.2\"><span class=\"toc-item-num\">1.2&nbsp;&nbsp;</span>Build KNeighborsClassifier w/ Iris Data</a></span></li><li><span><a href=\"#Predict-data_point-=-[5,-1.9,-1,-0.2]\" data-toc-modified-id=\"Predict-data_point-=-[5,-1.9,-1,-0.2]-1.3\"><span class=\"toc-item-num\">1.3&nbsp;&nbsp;</span>Predict data_point = [5, 1.9, 1, 0.2]</a></span></li></ul></li><li><span><a href=\"#EDA:-Auto-MPG-dataset\" data-toc-modified-id=\"EDA:-Auto-MPG-dataset-2\"><span class=\"toc-item-num\">2&nbsp;&nbsp;</span>EDA: Auto-MPG dataset</a></span><ul class=\"toc-item\"><li><span><a href=\"#Initial-Data-Analysis\" data-toc-modified-id=\"Initial-Data-Analysis-2.1\"><span class=\"toc-item-num\">2.1&nbsp;&nbsp;</span>Initial Data Analysis</a></span></li><li><span><a href=\"#BONUS:-Visualize-the-relationships-between-these-data-points.\" data-toc-modified-id=\"BONUS:-Visualize-the-relationships-between-these-data-points.-2.2\"><span class=\"toc-item-num\">2.2&nbsp;&nbsp;</span>BONUS: Visualize the relationships between these data points.</a></span></li></ul></li></ul></div>"
   ]
  },
  {
   "cell_type": "markdown",
   "id": "f174f82a",
   "metadata": {},
   "source": [
    "# Iris Dataset - KNN Modeling\n",
    "\n",
    "![](https://live.staticflickr.com/1341/534526381_78710919d1_n.jpg)\n",
    "\n",
    "**Iris dataset**\n",
    "\n",
    "The iris data analyzed for this project was collected by E.Anderson in northeast Canada. It consists of 50 samples from each of three species of Iris\n",
    "\n",
    "1. Iris setosa, \n",
    "2. Iris virginica,\n",
    "3. Iris versicolor\n",
    "\n",
    "Four features were measured from each sample: \n",
    "- length and width of the sepals and petals, in centimeters.\n",
    "\n",
    "[Wikipedia](https://en.wikipedia.org/wiki/Iris_flower_data_set)\n",
    "\n",
    "**K-nearest neighbors algorithm**\n",
    "\n",
    ">The k-nearest neighbors algorithm, also known as KNN or k-NN, is a non-parametric, supervised learning classifier, which uses proximity to make classifications or predictions about the grouping of an individual data point. \n",
    ">\n",
    ">[IBM](https://www.ibm.com/topics/knn)\n",
    "\n",
    "**Goals**:\n",
    "- Use k-neighbors classifier (nearest neighbor = 1) using sklearn-KNeighborsClassifier\n",
    "- Fit the model to your train dataset\n",
    "- Predict what class the data point [5, 1.9, 1, 0.2] belongs to using KNN.\n",
    "\n",
    "## Initial Data Analysis\n",
    "\n",
    "**Load iris from ScikitLearn**"
   ]
  },
  {
   "cell_type": "code",
   "execution_count": null,
   "id": "b1666439",
   "metadata": {},
   "outputs": [],
   "source": [
    "from __future__ import print_function, division\n",
    "from sklearn.model_selection import train_test_split\n",
    "import pandas as pd\n",
    "import numpy as np\n",
    "from sklearn.datasets import load_iris\n",
    "import matplotlib as mpl\n",
    "import matplotlib.pyplot as plt\n",
    "%matplotlib inline\n",
    "import time\n",
    "\n",
    "\n",
    "#Load then assign the dataset to X and the target values to y.\n",
    "iris = load_iris()\n",
    "X = iris.data\n",
    "y = iris.target\n",
    "\n",
    "#iris.feature_names\n",
    "#iris"
   ]
  },
  {
   "cell_type": "markdown",
   "id": "f60a2d39",
   "metadata": {},
   "source": [
    "**iris dataset.keys**"
   ]
  },
  {
   "cell_type": "code",
   "execution_count": null,
   "id": "55094f6c",
   "metadata": {},
   "outputs": [],
   "source": [
    "# import data\n",
    "iris.keys()"
   ]
  },
  {
   "cell_type": "markdown",
   "id": "c6c4409c",
   "metadata": {},
   "source": [
    "**iris target names**"
   ]
  },
  {
   "cell_type": "code",
   "execution_count": null,
   "id": "4d83840f",
   "metadata": {},
   "outputs": [],
   "source": [
    "iris.target_names"
   ]
  },
  {
   "cell_type": "markdown",
   "id": "2ed2aa76",
   "metadata": {},
   "source": [
    "**iris.feature_names**"
   ]
  },
  {
   "cell_type": "code",
   "execution_count": null,
   "id": "2d643e0b",
   "metadata": {},
   "outputs": [],
   "source": [
    "iris.feature_names"
   ]
  },
  {
   "cell_type": "markdown",
   "id": "d1c60773",
   "metadata": {},
   "source": [
    "**iris dataset type**"
   ]
  },
  {
   "cell_type": "code",
   "execution_count": null,
   "id": "9880666f",
   "metadata": {},
   "outputs": [],
   "source": [
    "type(iris)"
   ]
  },
  {
   "cell_type": "markdown",
   "id": "5f75c635",
   "metadata": {},
   "source": [
    "**iris dataset shape**"
   ]
  },
  {
   "cell_type": "code",
   "execution_count": null,
   "id": "45635bdd",
   "metadata": {},
   "outputs": [],
   "source": [
    "df = pd.DataFrame(iris.data,columns=iris.feature_names)\n",
    "df.shape"
   ]
  },
  {
   "cell_type": "markdown",
   "id": "f965b7f3",
   "metadata": {},
   "source": [
    "**df head(5)**"
   ]
  },
  {
   "cell_type": "code",
   "execution_count": null,
   "id": "5f0ad9dd",
   "metadata": {},
   "outputs": [],
   "source": [
    "df.head(5)"
   ]
  },
  {
   "cell_type": "markdown",
   "id": "090335b1",
   "metadata": {},
   "source": [
    "**type of iris dataset target**"
   ]
  },
  {
   "cell_type": "code",
   "execution_count": null,
   "id": "9ecebaf8",
   "metadata": {},
   "outputs": [],
   "source": [
    "type(iris.target_names)"
   ]
  },
  {
   "cell_type": "markdown",
   "id": "5ea9169a",
   "metadata": {},
   "source": [
    "**shape of iris dataset target variable**"
   ]
  },
  {
   "cell_type": "code",
   "execution_count": null,
   "id": "f91dbf85",
   "metadata": {},
   "outputs": [],
   "source": [
    "print('\\nDimensions of Y =', y.shape)"
   ]
  },
  {
   "cell_type": "markdown",
   "id": "05e98e3e",
   "metadata": {},
   "source": [
    "**Print all iris target values**"
   ]
  },
  {
   "cell_type": "code",
   "execution_count": null,
   "id": "7114c3fa",
   "metadata": {},
   "outputs": [],
   "source": [
    "y"
   ]
  },
  {
   "cell_type": "markdown",
   "id": "c5a0ff60",
   "metadata": {},
   "source": [
    "**find numpy.unique values**"
   ]
  },
  {
   "cell_type": "code",
   "execution_count": null,
   "id": "fe3b9803",
   "metadata": {},
   "outputs": [],
   "source": [
    "np.unique(y)"
   ]
  },
  {
   "cell_type": "markdown",
   "id": "90073e7a",
   "metadata": {},
   "source": [
    "**split dataset: train & test**"
   ]
  },
  {
   "cell_type": "code",
   "execution_count": null,
   "id": "d40b977a",
   "metadata": {},
   "outputs": [],
   "source": [
    "X = df\n",
    "y = iris.target # Target data of income\n",
    "\n",
    "# Randomixe data splits\n",
    "X_train, X_test, y_train, y_test = train_test_split(X, y, stratify=y, random_state=1)"
   ]
  },
  {
   "cell_type": "markdown",
   "id": "9a812b63",
   "metadata": {},
   "source": [
    "**Print train/test dataset shapes**"
   ]
  },
  {
   "cell_type": "code",
   "execution_count": null,
   "id": "a4fe8720",
   "metadata": {},
   "outputs": [],
   "source": [
    "print('\\nX_train dimensions = ', X_train.shape)\n",
    "print('\\nX_test  dimensions = ', X_test.shape)\n",
    "\n",
    "percent_train_test = (X_train.shape[0])/(X_train.shape[0] + X_test.shape[0])\n",
    "print('\\nRatio of X_train.shape to X_total =', 100*round(percent_train_test, 3), '\\b%')"
   ]
  },
  {
   "cell_type": "markdown",
   "id": "fc95112e",
   "metadata": {},
   "source": [
    "## Build KNeighborsClassifier w/ Iris Data"
   ]
  },
  {
   "cell_type": "code",
   "execution_count": null,
   "id": "2414f201",
   "metadata": {},
   "outputs": [],
   "source": [
    "from sklearn.neighbors import KNeighborsClassifier\n",
    "from sklearn.metrics import confusion_matrix, accuracy_score\n",
    "from sklearn.model_selection import cross_val_score\n",
    "\n",
    "from sklearn.metrics import classification_report"
   ]
  },
  {
   "cell_type": "markdown",
   "id": "3241bd51",
   "metadata": {},
   "source": [
    "**KNeighborsClassifier(n_neighbors=1)**"
   ]
  },
  {
   "cell_type": "code",
   "execution_count": null,
   "id": "681e5005",
   "metadata": {},
   "outputs": [],
   "source": [
    "# KNeighborsClassifier(n_neighbors=1)\n",
    "\n",
    "start_time = time.perf_counter()\n",
    "\n",
    "# Instantiate learning model (n = 1)\n",
    "classifier = KNeighborsClassifier(n_neighbors=1)\n",
    "\n",
    "# Fitting the model\n",
    "classifier.fit(X_train, y_train)\n",
    "\n",
    "# Predicting the Test set results\n",
    "y_pred = classifier.predict(X_test)\n",
    "print('\\nTime to run KNN =', round(1000*(time.perf_counter() - start_time), 2), 'millisec')"
   ]
  },
  {
   "cell_type": "code",
   "execution_count": null,
   "id": "a2fd2918",
   "metadata": {},
   "outputs": [],
   "source": [
    "print(\"Test set predictions: {}\".format(classifier.predict(X_test)))"
   ]
  },
  {
   "cell_type": "markdown",
   "id": "e77baf5f",
   "metadata": {},
   "source": [
    "**Confusion matrix(y_test, y_pred)**"
   ]
  },
  {
   "cell_type": "code",
   "execution_count": null,
   "id": "aedc51f5",
   "metadata": {},
   "outputs": [],
   "source": [
    "cm = confusion_matrix(y_test, y_pred)\n",
    "cm"
   ]
  },
  {
   "cell_type": "code",
   "execution_count": null,
   "id": "ea9cde17",
   "metadata": {},
   "outputs": [],
   "source": [
    "# Calculating model accuracy\n",
    "accuracy = accuracy_score(y_test, y_pred)*100\n",
    "print('\\nKNN Model Accuracy = ' + str(round(accuracy, 2)) + '%.')"
   ]
  },
  {
   "cell_type": "code",
   "execution_count": null,
   "id": "4a0a120a",
   "metadata": {},
   "outputs": [],
   "source": [
    "# Visualize confusion matrix\n",
    "plt.imshow(cm, cmap=plt.cm.gray)\n",
    "plt.title('Confusion matrix')\n",
    "plt.colorbar()\n",
    "ticks = np.arange(3)\n",
    "plt.xticks(ticks, ticks)\n",
    "plt.yticks(ticks, ticks)\n",
    "plt.ylabel('True labels')\n",
    "plt.xlabel('Predicted labels')\n",
    "plt.show()"
   ]
  },
  {
   "cell_type": "markdown",
   "id": "a0691a57",
   "metadata": {},
   "source": [
    "## Predict data_point = [5, 1.9, 1, 0.2]"
   ]
  },
  {
   "cell_type": "code",
   "execution_count": null,
   "id": "455e01ef",
   "metadata": {},
   "outputs": [],
   "source": [
    "import warnings\n",
    "warnings.filterwarnings('ignore')\n",
    "\n",
    "predict = [5, 1.9, 1 ,0.2] # single data point with 4 features\n",
    "knn = KNeighborsClassifier(n_neighbors=1)\n",
    "knn.fit(X_train, y_train)\n",
    "\n",
    "knn.predict([predict])"
   ]
  },
  {
   "cell_type": "code",
   "execution_count": null,
   "id": "54c61426",
   "metadata": {},
   "outputs": [],
   "source": [
    "print('\\nThe predicted class for the datapoint [5, 1.9, 1 ,0.2] is', iris['target_names'][0], '\\b.\\n')"
   ]
  },
  {
   "cell_type": "markdown",
   "id": "66e28206",
   "metadata": {},
   "source": [
    "# EDA: Auto-MPG dataset\n",
    "\n",
    ">The data concerns city-cycle fuel consumption in miles per gallon, to be predicted in terms of 3 multivalued discrete and 5 continuous attributes. \n",
    ">\n",
    ">Quinlan, 1993, [UCI.edu](https://archive.ics.uci.edu/ml/datasets/Auto%2BMPG)\n",
    "\n",
    "- Dataset `auto_mpg.csv` is located at: https://archive.ics.uci.edu/ml/datasets/Auto%2BMPG\n",
    "\n",
    "## Initial Data Analysis"
   ]
  },
  {
   "cell_type": "code",
   "execution_count": 1,
   "id": "ee582034",
   "metadata": {},
   "outputs": [],
   "source": [
    "import pandas as pd\n",
    "import numpy as np\n",
    "import seaborn as sns\n",
    "import matplotlib.pyplot as plt"
   ]
  },
  {
   "cell_type": "markdown",
   "id": "24f647e7",
   "metadata": {},
   "source": [
    "**Import auto_mpg.csv dataset**"
   ]
  },
  {
   "cell_type": "code",
   "execution_count": 2,
   "id": "e1ce309c",
   "metadata": {},
   "outputs": [
    {
     "name": "stdout",
     "output_type": "stream",
     "text": [
      "'2022-11-20 ML Pima Indian Data 2.ipynb'   auto_mpg.csv\r\n",
      "'2022-11-23 ML No.3.ipynb'\t\t   auto-mpg_w_qmark.csv\r\n",
      "'2022-NOT DONE ML No.1.ipynb'\t\t   pima-indians-diabetes.csv\r\n",
      " archive.zip\r\n"
     ]
    }
   ],
   "source": [
    "!ls"
   ]
  },
  {
   "cell_type": "code",
   "execution_count": 4,
   "id": "a2f43a58",
   "metadata": {},
   "outputs": [],
   "source": [
    "data = pd.read_csv('auto_mpg.csv')"
   ]
  },
  {
   "cell_type": "markdown",
   "id": "64e57b8a",
   "metadata": {},
   "source": [
    "**Print the first three samples**"
   ]
  },
  {
   "cell_type": "code",
   "execution_count": 5,
   "id": "6e1f1fe6",
   "metadata": {},
   "outputs": [
    {
     "data": {
      "text/html": [
       "<div>\n",
       "<style scoped>\n",
       "    .dataframe tbody tr th:only-of-type {\n",
       "        vertical-align: middle;\n",
       "    }\n",
       "\n",
       "    .dataframe tbody tr th {\n",
       "        vertical-align: top;\n",
       "    }\n",
       "\n",
       "    .dataframe thead th {\n",
       "        text-align: right;\n",
       "    }\n",
       "</style>\n",
       "<table border=\"1\" class=\"dataframe\">\n",
       "  <thead>\n",
       "    <tr style=\"text-align: right;\">\n",
       "      <th></th>\n",
       "      <th>mpg</th>\n",
       "      <th>cylinders</th>\n",
       "      <th>displacement</th>\n",
       "      <th>horsepower</th>\n",
       "      <th>weight</th>\n",
       "      <th>acceleration</th>\n",
       "      <th>model year</th>\n",
       "      <th>origin</th>\n",
       "      <th>car name</th>\n",
       "    </tr>\n",
       "  </thead>\n",
       "  <tbody>\n",
       "    <tr>\n",
       "      <th>0</th>\n",
       "      <td>18.0</td>\n",
       "      <td>8</td>\n",
       "      <td>307.0</td>\n",
       "      <td>130.0</td>\n",
       "      <td>3504</td>\n",
       "      <td>12.0</td>\n",
       "      <td>70</td>\n",
       "      <td>1</td>\n",
       "      <td>chevrolet chevelle malibu</td>\n",
       "    </tr>\n",
       "    <tr>\n",
       "      <th>1</th>\n",
       "      <td>15.0</td>\n",
       "      <td>8</td>\n",
       "      <td>350.0</td>\n",
       "      <td>165.0</td>\n",
       "      <td>3693</td>\n",
       "      <td>11.5</td>\n",
       "      <td>70</td>\n",
       "      <td>1</td>\n",
       "      <td>buick skylark 320</td>\n",
       "    </tr>\n",
       "    <tr>\n",
       "      <th>2</th>\n",
       "      <td>18.0</td>\n",
       "      <td>8</td>\n",
       "      <td>318.0</td>\n",
       "      <td>150.0</td>\n",
       "      <td>3436</td>\n",
       "      <td>11.0</td>\n",
       "      <td>70</td>\n",
       "      <td>1</td>\n",
       "      <td>plymouth satellite</td>\n",
       "    </tr>\n",
       "  </tbody>\n",
       "</table>\n",
       "</div>"
      ],
      "text/plain": [
       "    mpg  cylinders  displacement  horsepower  weight  acceleration  \\\n",
       "0  18.0          8         307.0       130.0    3504          12.0   \n",
       "1  15.0          8         350.0       165.0    3693          11.5   \n",
       "2  18.0          8         318.0       150.0    3436          11.0   \n",
       "\n",
       "   model year  origin                   car name  \n",
       "0          70       1  chevrolet chevelle malibu  \n",
       "1          70       1          buick skylark 320  \n",
       "2          70       1         plymouth satellite  "
      ]
     },
     "execution_count": 5,
     "metadata": {},
     "output_type": "execute_result"
    }
   ],
   "source": [
    "data.head(3)"
   ]
  },
  {
   "cell_type": "markdown",
   "id": "94dd649a",
   "metadata": {},
   "source": [
    "**Print the index range of the observations**"
   ]
  },
  {
   "cell_type": "code",
   "execution_count": 6,
   "id": "c1736a61",
   "metadata": {},
   "outputs": [
    {
     "data": {
      "text/plain": [
       "(398, 9)"
      ]
     },
     "execution_count": 6,
     "metadata": {},
     "output_type": "execute_result"
    }
   ],
   "source": [
    "data.shape"
   ]
  },
  {
   "cell_type": "markdown",
   "id": "38e2d19f",
   "metadata": {},
   "source": [
    "**Print column names**"
   ]
  },
  {
   "cell_type": "code",
   "execution_count": 7,
   "id": "1c34318f",
   "metadata": {},
   "outputs": [
    {
     "data": {
      "text/plain": [
       "Index(['mpg', 'cylinders', 'displacement', 'horsepower', 'weight',\n",
       "       'acceleration', 'model year', 'origin', 'car name'],\n",
       "      dtype='object')"
      ]
     },
     "execution_count": 7,
     "metadata": {},
     "output_type": "execute_result"
    }
   ],
   "source": [
    "data.columns"
   ]
  },
  {
   "cell_type": "markdown",
   "id": "fb089848",
   "metadata": {},
   "source": [
    "**Assign mpg column to variable y and rest to variable x.**\n",
    "- And name it as y and the rest of the data as the features and assign it to X. Print the shape of X."
   ]
  },
  {
   "cell_type": "code",
   "execution_count": 8,
   "id": "faa7999f",
   "metadata": {},
   "outputs": [
    {
     "data": {
      "text/plain": [
       "((398, 8), (398,))"
      ]
     },
     "execution_count": 8,
     "metadata": {},
     "output_type": "execute_result"
    }
   ],
   "source": [
    "y = data['mpg']\n",
    "x = data.drop('mpg', axis=1)\n",
    "\n",
    "x.shape, y.shape"
   ]
  },
  {
   "cell_type": "markdown",
   "id": "720d0580",
   "metadata": {},
   "source": [
    "**BONUS: Check dataset for missing values with isnull().any()**"
   ]
  },
  {
   "cell_type": "code",
   "execution_count": 9,
   "id": "cc7897d2",
   "metadata": {},
   "outputs": [
    {
     "data": {
      "text/plain": [
       "cylinders       False\n",
       "displacement    False\n",
       "horsepower      False\n",
       "weight          False\n",
       "acceleration    False\n",
       "model year      False\n",
       "origin          False\n",
       "car name        False\n",
       "dtype: bool"
      ]
     },
     "execution_count": 9,
     "metadata": {},
     "output_type": "execute_result"
    }
   ],
   "source": [
    "x.isnull().any()"
   ]
  },
  {
   "cell_type": "markdown",
   "id": "86fc4477",
   "metadata": {},
   "source": [
    "**Check the data types of each feature**\n",
    "- Which columns are continuous and which are categorical?"
   ]
  },
  {
   "cell_type": "code",
   "execution_count": 10,
   "id": "39823838",
   "metadata": {},
   "outputs": [
    {
     "name": "stdout",
     "output_type": "stream",
     "text": [
      "<class 'pandas.core.frame.DataFrame'>\n",
      "RangeIndex: 398 entries, 0 to 397\n",
      "Data columns (total 8 columns):\n",
      " #   Column        Non-Null Count  Dtype  \n",
      "---  ------        --------------  -----  \n",
      " 0   cylinders     398 non-null    int64  \n",
      " 1   displacement  398 non-null    float64\n",
      " 2   horsepower    398 non-null    float64\n",
      " 3   weight        398 non-null    int64  \n",
      " 4   acceleration  398 non-null    float64\n",
      " 5   model year    398 non-null    int64  \n",
      " 6   origin        398 non-null    int64  \n",
      " 7   car name      398 non-null    object \n",
      "dtypes: float64(3), int64(4), object(1)\n",
      "memory usage: 25.0+ KB\n"
     ]
    }
   ],
   "source": [
    "x.info()"
   ]
  },
  {
   "cell_type": "markdown",
   "id": "bc696f76",
   "metadata": {},
   "source": [
    "**NOTE 1**: Dtype = {int64, float64} are continous variables, while `car_name` is an object/string data type."
   ]
  },
  {
   "cell_type": "markdown",
   "id": "5217e096",
   "metadata": {},
   "source": [
    "**Look at the unique elements of horsepower**"
   ]
  },
  {
   "cell_type": "code",
   "execution_count": 12,
   "id": "6f32d2ed",
   "metadata": {},
   "outputs": [
    {
     "data": {
      "text/plain": [
       "array([130., 165., 150., 140., 198., 220., 215., 225., 190., 170., 160.,\n",
       "        95.,  97.,  85.,  88.,  46.,  87.,  90., 113., 200., 210., 193.,\n",
       "       104., 100., 105., 175., 153., 180., 110.,  72.,  86.,  70.,  76.,\n",
       "        65.,  69.,  60.,  80.,  54., 208., 155., 112.,  92., 145., 137.,\n",
       "       158., 167.,  94., 107., 230.,  49.,  75.,  91., 122.,  67.,  83.,\n",
       "        78.,  52.,  61.,  93., 148., 129.,  96.,  71.,  98., 115.,  53.,\n",
       "        81.,  79., 120., 152., 102., 108.,  68.,  58., 149.,  89.,  63.,\n",
       "        48.,  66., 139., 103., 125., 133., 138., 135., 142.,  77.,  62.,\n",
       "       132.,  84.,  64.,  74., 116.,  82.])"
      ]
     },
     "execution_count": 12,
     "metadata": {},
     "output_type": "execute_result"
    }
   ],
   "source": [
    "x.horsepower.unique()"
   ]
  },
  {
   "cell_type": "markdown",
   "id": "50dc9c6e",
   "metadata": {},
   "source": [
    "**Describe data set**"
   ]
  },
  {
   "cell_type": "code",
   "execution_count": 14,
   "id": "3f74cef0",
   "metadata": {},
   "outputs": [
    {
     "data": {
      "text/html": [
       "<div>\n",
       "<style scoped>\n",
       "    .dataframe tbody tr th:only-of-type {\n",
       "        vertical-align: middle;\n",
       "    }\n",
       "\n",
       "    .dataframe tbody tr th {\n",
       "        vertical-align: top;\n",
       "    }\n",
       "\n",
       "    .dataframe thead th {\n",
       "        text-align: right;\n",
       "    }\n",
       "</style>\n",
       "<table border=\"1\" class=\"dataframe\">\n",
       "  <thead>\n",
       "    <tr style=\"text-align: right;\">\n",
       "      <th></th>\n",
       "      <th>cylinders</th>\n",
       "      <th>displacement</th>\n",
       "      <th>horsepower</th>\n",
       "      <th>weight</th>\n",
       "      <th>acceleration</th>\n",
       "      <th>model year</th>\n",
       "      <th>origin</th>\n",
       "    </tr>\n",
       "  </thead>\n",
       "  <tbody>\n",
       "    <tr>\n",
       "      <th>count</th>\n",
       "      <td>398.000000</td>\n",
       "      <td>398.000000</td>\n",
       "      <td>398.000000</td>\n",
       "      <td>398.000000</td>\n",
       "      <td>398.000000</td>\n",
       "      <td>398.000000</td>\n",
       "      <td>398.000000</td>\n",
       "    </tr>\n",
       "    <tr>\n",
       "      <th>mean</th>\n",
       "      <td>5.454774</td>\n",
       "      <td>193.425879</td>\n",
       "      <td>104.462312</td>\n",
       "      <td>2970.424623</td>\n",
       "      <td>15.568090</td>\n",
       "      <td>76.010050</td>\n",
       "      <td>1.572864</td>\n",
       "    </tr>\n",
       "    <tr>\n",
       "      <th>std</th>\n",
       "      <td>1.701004</td>\n",
       "      <td>104.269838</td>\n",
       "      <td>38.199230</td>\n",
       "      <td>846.841774</td>\n",
       "      <td>2.757689</td>\n",
       "      <td>3.697627</td>\n",
       "      <td>0.802055</td>\n",
       "    </tr>\n",
       "    <tr>\n",
       "      <th>min</th>\n",
       "      <td>3.000000</td>\n",
       "      <td>68.000000</td>\n",
       "      <td>46.000000</td>\n",
       "      <td>1613.000000</td>\n",
       "      <td>8.000000</td>\n",
       "      <td>70.000000</td>\n",
       "      <td>1.000000</td>\n",
       "    </tr>\n",
       "    <tr>\n",
       "      <th>25%</th>\n",
       "      <td>4.000000</td>\n",
       "      <td>104.250000</td>\n",
       "      <td>76.000000</td>\n",
       "      <td>2223.750000</td>\n",
       "      <td>13.825000</td>\n",
       "      <td>73.000000</td>\n",
       "      <td>1.000000</td>\n",
       "    </tr>\n",
       "    <tr>\n",
       "      <th>50%</th>\n",
       "      <td>4.000000</td>\n",
       "      <td>148.500000</td>\n",
       "      <td>95.000000</td>\n",
       "      <td>2803.500000</td>\n",
       "      <td>15.500000</td>\n",
       "      <td>76.000000</td>\n",
       "      <td>1.000000</td>\n",
       "    </tr>\n",
       "    <tr>\n",
       "      <th>75%</th>\n",
       "      <td>8.000000</td>\n",
       "      <td>262.000000</td>\n",
       "      <td>125.000000</td>\n",
       "      <td>3608.000000</td>\n",
       "      <td>17.175000</td>\n",
       "      <td>79.000000</td>\n",
       "      <td>2.000000</td>\n",
       "    </tr>\n",
       "    <tr>\n",
       "      <th>max</th>\n",
       "      <td>8.000000</td>\n",
       "      <td>455.000000</td>\n",
       "      <td>230.000000</td>\n",
       "      <td>5140.000000</td>\n",
       "      <td>24.800000</td>\n",
       "      <td>82.000000</td>\n",
       "      <td>3.000000</td>\n",
       "    </tr>\n",
       "  </tbody>\n",
       "</table>\n",
       "</div>"
      ],
      "text/plain": [
       "        cylinders  displacement  horsepower       weight  acceleration  \\\n",
       "count  398.000000    398.000000  398.000000   398.000000    398.000000   \n",
       "mean     5.454774    193.425879  104.462312  2970.424623     15.568090   \n",
       "std      1.701004    104.269838   38.199230   846.841774      2.757689   \n",
       "min      3.000000     68.000000   46.000000  1613.000000      8.000000   \n",
       "25%      4.000000    104.250000   76.000000  2223.750000     13.825000   \n",
       "50%      4.000000    148.500000   95.000000  2803.500000     15.500000   \n",
       "75%      8.000000    262.000000  125.000000  3608.000000     17.175000   \n",
       "max      8.000000    455.000000  230.000000  5140.000000     24.800000   \n",
       "\n",
       "       model year      origin  \n",
       "count  398.000000  398.000000  \n",
       "mean    76.010050    1.572864  \n",
       "std      3.697627    0.802055  \n",
       "min     70.000000    1.000000  \n",
       "25%     73.000000    1.000000  \n",
       "50%     76.000000    1.000000  \n",
       "75%     79.000000    2.000000  \n",
       "max     82.000000    3.000000  "
      ]
     },
     "execution_count": 14,
     "metadata": {},
     "output_type": "execute_result"
    }
   ],
   "source": [
    "x.describe()"
   ]
  },
  {
   "cell_type": "markdown",
   "id": "2b663794",
   "metadata": {},
   "source": [
    "**Describe the mpg feature**"
   ]
  },
  {
   "cell_type": "code",
   "execution_count": 16,
   "id": "0f3d460b",
   "metadata": {},
   "outputs": [
    {
     "data": {
      "text/plain": [
       "count    398.000000\n",
       "mean      23.514573\n",
       "std        7.815984\n",
       "min        9.000000\n",
       "25%       17.500000\n",
       "50%       23.000000\n",
       "75%       29.000000\n",
       "max       46.600000\n",
       "Name: mpg, dtype: float64"
      ]
     },
     "execution_count": 16,
     "metadata": {},
     "output_type": "execute_result"
    }
   ],
   "source": [
    "y.describe()"
   ]
  },
  {
   "cell_type": "markdown",
   "id": "532dd6bf",
   "metadata": {},
   "source": [
    "**Visualize the distributions**\n",
    "- Use hist method, use bins=20 for visualization"
   ]
  },
  {
   "cell_type": "code",
   "execution_count": 17,
   "id": "f329626a",
   "metadata": {},
   "outputs": [
    {
     "data": {
      "image/png": "[encoded data removed]",
      "text/plain": [
       "<Figure size 1600x800 with 9 Axes>"
      ]
     },
     "metadata": {},
     "output_type": "display_data"
    }
   ],
   "source": [
    "data.hist(bins=20, figsize=(16,8));"
   ]
  },
  {
   "cell_type": "markdown",
   "id": "60bc13b1",
   "metadata": {},
   "source": [
    "## BONUS: Visualize the relationships between these data points.\n",
    "\n",
    "- Create a function to scale your dataset by using the formula. $𝑏 = \\frac{𝑥−𝑚𝑖𝑛}{𝑚𝑎𝑥−𝑚𝑖𝑛}$\n",
    "- Using this function, scale displacement, horsepower, acceleration, weight, and mpg.\n",
    "- Create a boxplot of mpg for different origin values before and after scaling."
   ]
  },
  {
   "cell_type": "code",
   "execution_count": 19,
   "id": "ce347776",
   "metadata": {},
   "outputs": [
    {
     "data": {
      "image/png": "[encoded data removed]",
      "text/plain": [
       "<Figure size 1200x800 with 9 Axes>"
      ]
     },
     "metadata": {},
     "output_type": "display_data"
    }
   ],
   "source": [
    "# NOTE to self: horsepower seems to be a str rather than a num\n",
    "# I will fix this later\n",
    "\n",
    "\n",
    "scalecol = ['displacement', 'horsepower', 'weight', 'mpg']\n",
    "data_scaled = data.copy()\n",
    "for col in scalecol:\n",
    "    colmin = data_scaled[col].min()\n",
    "    colmax = data_scaled[col].max()\n",
    "    data_scaled[col] = (data_scaled[col]-colmin) / (colmax-colmin)\n",
    "\n",
    "data_scaled.hist(figsize=(12,8));"
   ]
  },
  {
   "cell_type": "markdown",
   "id": "457fe8ab",
   "metadata": {},
   "source": [
    "**NOTE 2**: Changing scales does not change the shape of the histogram.\n",
    "\n",
    "**Create a boxplot of mpg for different origin values before and after scaling.**"
   ]
  },
  {
   "cell_type": "code",
   "execution_count": 30,
   "id": "e0c7c184",
   "metadata": {},
   "outputs": [
    {
     "data": {
      "image/png": "[encoded data removed]",
      "text/plain": [
       "<Figure size 1200x500 with 1 Axes>"
      ]
     },
     "metadata": {},
     "output_type": "display_data"
    }
   ],
   "source": [
    "# Create a boxplot of mpg for different origin values before and after scaling.\n",
    "\n",
    "df = pd.DataFrame(data={'original':data.mpg,'origin':data.origin})\n",
    "\n",
    "fig = df.boxplot(by='origin', figsize=(12,5))\n",
    "fig.set_ylabel('mpg');"
   ]
  },
  {
   "cell_type": "code",
   "execution_count": 31,
   "id": "40756d48",
   "metadata": {},
   "outputs": [
    {
     "data": {
      "image/png": "[encoded data removed]",
      "text/plain": [
       "<Figure size 1200x500 with 1 Axes>"
      ]
     },
     "metadata": {},
     "output_type": "display_data"
    }
   ],
   "source": [
    "df = pd.DataFrame(data={'data_scaled':data_scaled.mpg,'origin':data.origin})\n",
    "\n",
    "fig = df.boxplot(by='origin', figsize=(12,5))\n",
    "fig.set_ylabel('Scaled mpg');"
   ]
  },
  {
   "cell_type": "markdown",
   "id": "aa71b6f2",
   "metadata": {},
   "source": [
    "**NOTE 3**: The two boxplots are virtually identical given that one was scaled."
   ]
  },
  {
   "cell_type": "code",
   "execution_count": null,
   "id": "65a8ee6a",
   "metadata": {},
   "outputs": [],
   "source": []
  }
 ],
 "metadata": {
  "kernelspec": {
   "display_name": "Python 3 (ipykernel)",
   "language": "python",
   "name": "python3"
  },
  "language_info": {
   "codemirror_mode": {
    "name": "ipython",
    "version": 3
   },
   "file_extension": ".py",
   "mimetype": "text/x-python",
   "name": "python",
   "nbconvert_exporter": "python",
   "pygments_lexer": "ipython3",
   "version": "3.9.13"
  },
  "toc": {
   "base_numbering": 1,
   "nav_menu": {},
   "number_sections": true,
   "sideBar": true,
   "skip_h1_title": false,
   "title_cell": "Table of Contents",
   "title_sidebar": "Contents",
   "toc_cell": true,
   "toc_position": {
    "height": "calc(100% - 180px)",
    "left": "10px",
    "top": "150px",
    "width": "321px"
   },
   "toc_section_display": true,
   "toc_window_display": false
  },
  "varInspector": {
   "cols": {
    "lenName": 16,
    "lenType": 16,
    "lenVar": 40
   },
   "kernels_config": {
    "python": {
     "delete_cmd_postfix": "",
     "delete_cmd_prefix": "del ",
     "library": "var_list.py",
     "varRefreshCmd": "print(var_dic_list())"
    },
    "r": {
     "delete_cmd_postfix": ") ",
     "delete_cmd_prefix": "rm(",
     "library": "var_list.r",
     "varRefreshCmd": "cat(var_dic_list()) "
    }
   },
   "types_to_exclude": [
    "module",
    "function",
    "builtin_function_or_method",
    "instance",
    "_Feature"
   ],
   "window_display": false
  }
 },
 "nbformat": 4,
 "nbformat_minor": 5
}
